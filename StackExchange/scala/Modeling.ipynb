{
 "cells": [
  {
   "cell_type": "code",
   "execution_count": 1,
   "metadata": {
    "collapsed": false
   },
   "outputs": [
    {
     "name": "stdout",
     "output_type": "stream",
     "text": [
      "Marking edu.stanford.nlp:stanford-corenlp:3.7.0 for download\n",
      "Preparing to fetch from:\n",
      "-> file:/tmp/toree_add_deps8127662170221276672/\n",
      "-> https://repo1.maven.org/maven2\n",
      "-> New file at /tmp/toree_add_deps8127662170221276672/https/repo1.maven.org/maven2/edu/stanford/nlp/stanford-corenlp/3.7.0/stanford-corenlp-3.7.0.jar\n",
      "Marking com.google.protobuf:protobuf-java:2.6.1 for download\n",
      "Preparing to fetch from:\n",
      "-> file:/tmp/toree_add_deps8127662170221276672/\n",
      "-> https://repo1.maven.org/maven2\n",
      "-> New file at /tmp/toree_add_deps8127662170221276672/https/repo1.maven.org/maven2/com/google/protobuf/protobuf-java/2.6.1/protobuf-java-2.6.1.jar\n",
      "Marking com.databricks:spark-csv_2.10:1.5.0 for download\n",
      "Preparing to fetch from:\n",
      "-> file:/tmp/toree_add_deps8127662170221276672/\n",
      "-> https://repo1.maven.org/maven2\n",
      "-> New file at /tmp/toree_add_deps8127662170221276672/https/repo1.maven.org/maven2/com/databricks/spark-csv_2.10/1.5.0/spark-csv_2.10-1.5.0.jar\n",
      "-> New file at /tmp/toree_add_deps8127662170221276672/https/repo1.maven.org/maven2/com/univocity/univocity-parsers/1.5.1/univocity-parsers-1.5.1.jar\n",
      "-> New file at /tmp/toree_add_deps8127662170221276672/https/repo1.maven.org/maven2/org/apache/commons/commons-csv/1.1/commons-csv-1.1.jar\n",
      "Starting download from file:lib/corenlp-models.jar\n",
      "Finished download of corenlp-models.jar\n",
      "Starting download from file:SE/target/scala-2.10/se_2.10-1.1.jar\n",
      "Finished download of se_2.10-1.1.jar\n"
     ]
    }
   ],
   "source": [
    "/* Add Deps */\n",
    "%AddDeps edu.stanford.nlp stanford-corenlp 3.7.0\n",
    "%AddDeps com.google.protobuf protobuf-java 2.6.1\n",
    "%AddDeps com.databricks spark-csv_2.10 1.5.0 --transitive\n",
    "\n",
    "// Non-repo dependencies \n",
    "%AddJar file:lib/corenlp-models.jar\n",
    "%AddJar file:SE/target/scala-2.10/se_2.10-1.1.jar"
   ]
  },
  {
   "cell_type": "code",
   "execution_count": 2,
   "metadata": {
    "collapsed": false
   },
   "outputs": [],
   "source": [
    "import com.evan.kaggle.se.FeatureEngineering._\n",
    "val sqlContext = org.apache.spark.sql.SQLContext.getOrCreate(sc)\n",
    "import sqlContext.implicits._\n",
    "import org.apache.spark.sql.functions._\n",
    "import org.apache.spark.sql.Row"
   ]
  },
  {
   "cell_type": "code",
   "execution_count": 3,
   "metadata": {
    "collapsed": false
   },
   "outputs": [],
   "source": [
    "val files = List(\"cooking\", \"crypto\", \"robotics\", \"biology\", \"travel\", \"diy\")\n",
    "\n",
    "/* Load and print all files */\n",
    "val df_all = files.map(f => {\n",
    "                        sqlContext.read.format(\"com.databricks.spark.csv\").option(\"header\", \"true\").load(\"../dat/\"+f+\"_clean.csv\")\n",
    "                   }).reduce(_ unionAll _).withColumn(\"tags\", split($\"tags\", \" \"))"
   ]
  },
  {
   "cell_type": "code",
   "execution_count": 4,
   "metadata": {
    "collapsed": false
   },
   "outputs": [
    {
     "name": "stdout",
     "output_type": "stream",
     "text": [
      "+---+--------------------+--------------------+--------------------+\n",
      "| id|               title|             content|                tags|\n",
      "+---+--------------------+--------------------+--------------------+\n",
      "|  1|How can I get che...|<p>My chocolate c...|[baking, cookies,...|\n",
      "|  2|How should I cook...|<p>I've heard of ...|[oven, cooking-ti...|\n",
      "|  3|What is the diffe...|<p>I always use b...|              [eggs]|\n",
      "|  4|What is the diffe...|<p>And can I use ...|[substitutions, p...|\n",
      "|  5|In a tomato sauce...|<p>It seems that ...|[sauce, pasta, to...|\n",
      "|  6|What ingredients ...|<p>I have a recip...|[substitutions, h...|\n",
      "|  9|What is the inter...|<p>I'd like to kn...|[food-safety, bee...|\n",
      "| 11|How should I poac...|<p>What's the bes...|[eggs, basics, po...|\n",
      "| 12|How can I make my...|<p>My ice cream d...|         [ice-cream]|\n",
      "| 17|How long and at w...|<p>I'm interested...|[baking, chicken,...|\n",
      "| 23|Besides salmon, w...|<p>I've fallen in...|[grilling, salmon...|\n",
      "| 27|Do I need to sift...|<p>Is there reall...|[baking, flour, m...|\n",
      "| 28|Storage life for ...|<p>When I roast a...|[storage-method, ...|\n",
      "| 30|Pressure canning ...|<p>Where can safe...|[canning, pressur...|\n",
      "| 32|What's a good res...|<p>I know what sp...|[spices, resource...|\n",
      "| 36|Is it safe to lea...|<p>Is it safe to ...|[food-safety, sto...|\n",
      "| 38|Does resting the ...|<p>In this <a hre...|[baking, bread, d...|\n",
      "| 54|How should I prep...|<p>I've been watc...|[rice, italian-cu...|\n",
      "| 57|How does a splash...|<p>What does spla...|[eggs, food-scien...|\n",
      "| 61|What are the pros...|<p>Why should/sho...|[storage-method, ...|\n",
      "+---+--------------------+--------------------+--------------------+\n",
      "only showing top 20 rows\n",
      "\n"
     ]
    }
   ],
   "source": [
    "df_all.show"
   ]
  },
  {
   "cell_type": "code",
   "execution_count": 5,
   "metadata": {
    "collapsed": false
   },
   "outputs": [],
   "source": [
    "val rdd = df_all.select(\"title\", \"content\").rdd.map{case Row(t: String, c: String) => (t, c)}"
   ]
  },
  {
   "cell_type": "code",
   "execution_count": 6,
   "metadata": {
    "collapsed": false
   },
   "outputs": [],
   "source": [
    "val twoGramFeats = makeStdFeatures(5) _\n",
    "val featDF = rdd.flatMap(x => twoGramFeats(x._1, x._2)).toDF"
   ]
  },
  {
   "cell_type": "code",
   "execution_count": 7,
   "metadata": {
    "collapsed": false
   },
   "outputs": [
    {
     "name": "stdout",
     "output_type": "stream",
     "text": [
      "+---------+-------+---------+------------------+--------+--------+-------+\n",
      "|    nGram|posTags|  depTags|            relPos|numWords|hasUpper|isTitle|\n",
      "+---------+-------+---------+------------------+--------+--------+-------+\n",
      "|      <p>|     NN| compound|               0.0|       1|   false|  false|\n",
      "|       my|   PRP$|nmod:poss|0.1111111111111111|       1|    true|  false|\n",
      "|chocolate|     NN| compound|0.2222222222222222|       1|   false|  false|\n",
      "|     chip|    NNS| compound|0.3333333333333333|       1|   false|  false|\n",
      "|   cookie|    NNS|    nsubj|0.4444444444444444|       1|   false|  false|\n",
      "|       be|    VBP|      cop|0.5555555555555556|       1|   false|  false|\n",
      "|   always|     RB|   advmod|0.6666666666666666|       1|   false|  false|\n",
      "|      too|     RB|   advmod|0.7777777777777778|       1|   false|  false|\n",
      "|    crisp|     JJ|     root|0.8888888888888888|       1|   false|  false|\n",
      "|      how|    WRB|   advmod|               0.0|       1|    true|  false|\n",
      "|      can|     MD|      aux|               0.1|       1|   false|  false|\n",
      "|        I|    PRP|    nsubj|               0.2|       1|    true|  false|\n",
      "|      get|     VB|     root|               0.3|       1|   false|  false|\n",
      "|    chewy|     JJ|     amod|               0.4|       1|   false|  false|\n",
      "|   cookie|    NNS|     dobj|               0.5|       1|   false|  false|\n",
      "|     like|     IN|     case|               0.6|       1|   false|  false|\n",
      "|    those|     DT|nmod:like|               0.7|       1|   false|  false|\n",
      "|       of|     IN|     case|               0.8|       1|   false|  false|\n",
      "|Starbucks|    NNP|  nmod:of|               0.9|       1|    true|  false|\n",
      "|     </p>|     JJ|     amod|               0.0|       1|   false|  false|\n",
      "+---------+-------+---------+------------------+--------+--------+-------+\n",
      "only showing top 20 rows\n",
      "\n"
     ]
    }
   ],
   "source": [
    "featDF.show"
   ]
  },
  {
   "cell_type": "code",
   "execution_count": 8,
   "metadata": {
    "collapsed": false
   },
   "outputs": [
    {
     "name": "stdout",
     "output_type": "stream",
     "text": [
      "There are 50603365 rows\n",
      "Elapsed: 3120.469312262 seconds\n"
     ]
    }
   ],
   "source": [
    "val s = System.nanoTime\n",
    "println(s\"There are ${featDF.count} rows\")\n",
    "val diff = (System.nanoTime - s)/1e9d\n",
    "println(s\"Elapsed: $diff seconds\")"
   ]
  },
  {
   "cell_type": "code",
   "execution_count": null,
   "metadata": {
    "collapsed": true
   },
   "outputs": [],
   "source": [
    "featDF.count / df_all.count.toDouble"
   ]
  }
 ],
 "metadata": {
  "kernelspec": {
   "display_name": "Apache Toree - Scala",
   "language": "scala",
   "name": "apache_toree_scala"
  },
  "language_info": {
   "name": "scala",
   "version": "2.10.4"
  }
 },
 "nbformat": 4,
 "nbformat_minor": 0
}
