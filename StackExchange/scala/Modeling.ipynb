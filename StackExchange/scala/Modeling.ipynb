{
 "cells": [
  {
   "cell_type": "code",
   "execution_count": null,
   "metadata": {
    "collapsed": false
   },
   "outputs": [],
   "source": [
    "/* Add Deps */\n",
    "%AddDeps edu.stanford.nlp stanford-corenlp 3.7.0\n",
    "%AddDeps com.google.protobuf protobuf-java 2.6.1\n",
    "%AddDeps com.databricks spark-csv_2.10 1.5.0 --transitive\n",
    "\n",
    "// Non-repo dependencies \n",
    "%AddJar file:lib/corenlp-models.jar\n",
    "%AddJar file:SE/target/scala-2.10/se_2.10-1.1.jar"
   ]
  },
  {
   "cell_type": "code",
   "execution_count": 2,
   "metadata": {
    "collapsed": false
   },
   "outputs": [],
   "source": [
    "import com.evan.kaggle.se.FeatureEngineering._\n",
    "val sqlContext = org.apache.spark.sql.SQLContext.getOrCreate(sc)\n",
    "import sqlContext.implicits._\n",
    "import org.apache.spark.sql.functions._\n",
    "import org.apache.spark.sql.Row\n",
    "import scala.collection.immutable.HashSet"
   ]
  },
  {
   "cell_type": "code",
   "execution_count": 3,
   "metadata": {
    "collapsed": true
   },
   "outputs": [],
   "source": [
    "val samp = sqlContext.read.parquet(\"union.parquet\").sample(false, .5)"
   ]
  },
  {
   "cell_type": "code",
   "execution_count": 4,
   "metadata": {
    "collapsed": false
   },
   "outputs": [
    {
     "data": {
      "text/plain": [
       "43419"
      ]
     },
     "execution_count": 4,
     "metadata": {},
     "output_type": "execute_result"
    }
   ],
   "source": [
    "samp.count"
   ]
  },
  {
   "cell_type": "code",
   "execution_count": 5,
   "metadata": {
    "collapsed": false
   },
   "outputs": [],
   "source": [
    "val feat_udf = udf((t: String, c: String, ta: String) => \n",
    "    makeTrFeatures(3)(t, c, ta))"
   ]
  },
  {
   "cell_type": "code",
   "execution_count": 6,
   "metadata": {
    "collapsed": false
   },
   "outputs": [],
   "source": [
    "val flat = samp.select(explode(feat_udf($\"title\", $\"content\", $\"tags\")))\n",
    "val flat2 = flat.select($\"col.*\")"
   ]
  },
  {
   "cell_type": "code",
   "execution_count": 7,
   "metadata": {
    "collapsed": false
   },
   "outputs": [],
   "source": [
    "import org.apache.spark.ml.Pipeline\n",
    "import org.apache.spark.ml.classification.{RandomForestClassificationModel, RandomForestClassifier}\n",
    "import org.apache.spark.ml.evaluation.BinaryClassificationEvaluator\n",
    "import org.apache.spark.ml.feature.{IndexToString, StringIndexer, VectorIndexer}\n",
    "import org.apache.spark.ml.feature.{HashingTF, IDF, Tokenizer}\n",
    "import org.apache.spark.ml.feature.VectorAssembler\n",
    "\n",
    "//change name\n",
    "val data = flat2.withColumn(\"isTag\", when($\"isTag\", lit(\"Y\")).otherwise(lit(\"N\"))).\n",
    "    withColumn(\"hasUpper\", when($\"hasUpper\", lit(1.0)).otherwise(0.0)).persist\n",
    "\n",
    "val labelIndexer = new StringIndexer().\n",
    "  setInputCol(\"isTag\").\n",
    "  setOutputCol(\"indexedLabel\").\n",
    "  fit(data)\n",
    "\n",
    "val hashingTF = new HashingTF().setInputCol(\"posTags\").\n",
    "    setInputCol(\"depTags\").\n",
    "    setOutputCol(\"rawFeatures\").setNumFeatures(20)\n",
    "\n",
    "val idf = new IDF().setInputCol(\"rawFeatures\").\n",
    "    setOutputCol(\"text_features\")\n",
    "\n",
    "val assembler = new VectorAssembler().\n",
    "    setInputCols(Array(\"text_features\", \"relPos\", \"hasUpper\", \"numWords\")).\n",
    "    setOutputCol(\"features\")"
   ]
  },
  {
   "cell_type": "code",
   "execution_count": 8,
   "metadata": {
    "collapsed": false
   },
   "outputs": [],
   "source": [
    "// Split the data into training and test sets (30% held out for testing)\n",
    "val Array(trainingData, testData) = data.randomSplit(Array(0.7, 0.3))\n",
    "\n",
    "// Train a RandomForest model.\n",
    "val rf = new RandomForestClassifier().setLabelCol(\"indexedLabel\").\n",
    "  setFeaturesCol(\"features\").\n",
    "  setNumTrees(10)\n",
    "\n",
    "// Convert indexed labels back to original labels.\n",
    "val labelConverter = new IndexToString().\n",
    "  setInputCol(\"prediction\").\n",
    "  setOutputCol(\"predictedLabel\").\n",
    "  setLabels(labelIndexer.labels)"
   ]
  },
  {
   "cell_type": "code",
   "execution_count": 10,
   "metadata": {
    "collapsed": true
   },
   "outputs": [],
   "source": [
    "data.write.save(\"featurized.parquet\")"
   ]
  },
  {
   "cell_type": "code",
   "execution_count": 18,
   "metadata": {
    "collapsed": false
   },
   "outputs": [
    {
     "name": "stdout",
     "output_type": "stream",
     "text": [
      "+--------------+------------+--------------------+\n",
      "|predictedLabel|indexedLabel|            features|\n",
      "+--------------+------------+--------------------+\n",
      "|             N|         0.0|(23,[5,21,22],[2....|\n",
      "|             N|         0.0|(23,[12,20,22],[1...|\n",
      "|             N|         0.0|(23,[19,20,22],[2...|\n",
      "|             N|         0.0|(23,[19,21,22],[2...|\n",
      "|             N|         0.0|(23,[16,20,21,22]...|\n",
      "+--------------+------------+--------------------+\n",
      "only showing top 5 rows\n",
      "\n"
     ]
    }
   ],
   "source": [
    "// Chain indexers and forest in a Pipeline\n",
    "val pipeline = new Pipeline().setStages(Array(labelIndexer, hashingTF, idf, assembler, rf, labelConverter))\n",
    "\n",
    "// Train model.  This also runs the indexers.\n",
    "val model = pipeline.fit(trainingData)\n",
    "\n",
    "// Make predictions.\n",
    "val predictions = model.transform(testData).persist\n",
    "\n",
    "// Select example rows to display.\n",
    "predictions.select(\"predictedLabel\", \"indexedLabel\", \"features\").show(5)"
   ]
  },
  {
   "cell_type": "code",
   "execution_count": 14,
   "metadata": {
    "collapsed": false
   },
   "outputs": [
    {
     "name": "stdout",
     "output_type": "stream",
     "text": [
      "areaUnderROC = 0.8787221210280507\n",
      "areaUnderPR = 0.08621660482920898\n"
     ]
    }
   ],
   "source": [
    "val binaryClassificationEvaluator = new BinaryClassificationEvaluator().\n",
    "  setLabelCol(\"indexedLabel\").\n",
    "  setRawPredictionCol(\"rawPrediction\")\n",
    "\n",
    "def printlnMetric(metricName: String): Unit = {\n",
    "  println(metricName + \" = \" + binaryClassificationEvaluator.setMetricName(metricName).evaluate(predictions))\n",
    "}\n",
    "\n",
    "printlnMetric(\"areaUnderROC\")\n",
    "printlnMetric(\"areaUnderPR\")"
   ]
  },
  {
   "cell_type": "code",
   "execution_count": 17,
   "metadata": {
    "collapsed": false
   },
   "outputs": [
    {
     "name": "stdout",
     "output_type": "stream",
     "text": [
      "Total # of rows: 1.0535507E7\n",
      "Perctage of positive examples: 0.012138191356144513%\n"
     ]
    }
   ],
   "source": [
    "val n_rows = data.count.toDouble\n",
    "val n_pos = data.filter($\"isTag\" === \"Y\").count\n",
    "\n",
    "println(s\"Total # of rows: $n_rows\")\n",
    "println(s\"Perctage of positive examples: ${n_pos/n_rows}%\")"
   ]
  },
  {
   "cell_type": "code",
   "execution_count": 19,
   "metadata": {
    "collapsed": false
   },
   "outputs": [
    {
     "name": "stdout",
     "output_type": "stream",
     "text": [
      "\r",
      "                                                                                \r",
      "+-----+-------+-------+------+--------+--------+-------+-----+------------+-----------+-------------+--------+-------------+-----------+----------+--------------+\n",
      "|nGram|posTags|depTags|relPos|numWords|hasUpper|isTitle|isTag|indexedLabel|rawFeatures|text_features|features|rawPrediction|probability|prediction|predictedLabel|\n",
      "+-----+-------+-------+------+--------+--------+-------+-----+------------+-----------+-------------+--------+-------------+-----------+----------+--------------+\n",
      "+-----+-------+-------+------+--------+--------+-------+-----+------------+-----------+-------------+--------+-------------+-----------+----------+--------------+\n",
      "\n"
     ]
    }
   ],
   "source": [
    "val yeses = predictions.filter($\"predictedLabel\" === \"Y\")\n",
    "yeses.show"
   ]
  },
  {
   "cell_type": "code",
   "execution_count": 20,
   "metadata": {
    "collapsed": false
   },
   "outputs": [
    {
     "data": {
      "text/plain": [
       "0"
      ]
     },
     "execution_count": 20,
     "metadata": {},
     "output_type": "execute_result"
    }
   ],
   "source": [
    "yeses.count"
   ]
  },
  {
   "cell_type": "markdown",
   "metadata": {},
   "source": [
    "## This $\\Uparrow$ is NOT any good"
   ]
  }
 ],
 "metadata": {
  "kernelspec": {
   "display_name": "Apache Toree - Scala",
   "language": "scala",
   "name": "apache_toree_scala"
  },
  "language_info": {
   "name": "scala",
   "version": "2.10.4"
  }
 },
 "nbformat": 4,
 "nbformat_minor": 0
}
