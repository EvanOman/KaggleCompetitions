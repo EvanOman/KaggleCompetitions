{
 "cells": [
  {
   "cell_type": "code",
   "execution_count": 3,
   "metadata": {
    "collapsed": false
   },
   "outputs": [
    {
     "name": "stdout",
     "output_type": "stream",
     "text": [
      "Marking edu.stanford.nlp:stanford-corenlp:3.7.0 for download\n",
      "Preparing to fetch from:\n",
      "-> file:/tmp/toree_add_deps7448866121703552186/\n",
      "-> https://repo1.maven.org/maven2\n",
      "-> New file at /tmp/toree_add_deps7448866121703552186/https/repo1.maven.org/maven2/edu/stanford/nlp/stanford-corenlp/3.7.0/stanford-corenlp-3.7.0.jar\n",
      "Marking com.google.protobuf:protobuf-java:2.6.1 for download\n",
      "Preparing to fetch from:\n",
      "-> file:/tmp/toree_add_deps7448866121703552186/\n",
      "-> https://repo1.maven.org/maven2\n",
      "-> New file at /tmp/toree_add_deps7448866121703552186/https/repo1.maven.org/maven2/com/google/protobuf/protobuf-java/2.6.1/protobuf-java-2.6.1.jar\n",
      "Marking com.databricks:spark-csv_2.10:1.5.0 for download\n",
      "Preparing to fetch from:\n",
      "-> file:/tmp/toree_add_deps7448866121703552186/\n",
      "-> https://repo1.maven.org/maven2\n",
      "-> New file at /tmp/toree_add_deps7448866121703552186/https/repo1.maven.org/maven2/org/apache/commons/commons-csv/1.1/commons-csv-1.1.jar\n",
      "-> New file at /tmp/toree_add_deps7448866121703552186/https/repo1.maven.org/maven2/com/univocity/univocity-parsers/1.5.1/univocity-parsers-1.5.1.jar\n",
      "-> New file at /tmp/toree_add_deps7448866121703552186/https/repo1.maven.org/maven2/com/databricks/spark-csv_2.10/1.5.0/spark-csv_2.10-1.5.0.jar\n",
      "Using cached version of corenlp-models.jar\n",
      "Using cached version of se_2.10-1.1.jar\n"
     ]
    }
   ],
   "source": [
    "/* Add Deps */\n",
    "%AddDeps edu.stanford.nlp stanford-corenlp 3.7.0\n",
    "%AddDeps com.google.protobuf protobuf-java 2.6.1\n",
    "%AddDeps com.databricks spark-csv_2.10 1.5.0 --transitive\n",
    "\n",
    "// Non-repo dependencies \n",
    "%AddJar file:lib/corenlp-models.jar\n",
    "%AddJar file:SE/target/scala-2.10/se_2.10-1.1.jar"
   ]
  },
  {
   "cell_type": "code",
   "execution_count": 4,
   "metadata": {
    "collapsed": false
   },
   "outputs": [],
   "source": [
    "import com.evan.kaggle.se.FeatureEngineering._\n",
    "val sqlContext = org.apache.spark.sql.SQLContext.getOrCreate(sc)\n",
    "import sqlContext.implicits._\n",
    "import org.apache.spark.sql.functions._\n",
    "import org.apache.spark.sql.Row\n",
    "import scala.collection.immutable.HashSet"
   ]
  },
  {
   "cell_type": "code",
   "execution_count": 5,
   "metadata": {
    "collapsed": false
   },
   "outputs": [],
   "source": [
    "val files = List(\"cooking\")//, \"crypto\", \"robotics\", \"biology\", \"travel\", \"diy\")\n",
    "\n",
    "/* Load and print all files */\n",
    "val df_all = files.map(f => {\n",
    "                        sqlContext.read.format(\"com.databricks.spark.csv\").option(\"header\", \"true\").load(\"../dat/\"+f+\"_clean.csv\")\n",
    "                   }).reduce(_ unionAll _)"
   ]
  },
  {
   "cell_type": "code",
   "execution_count": 16,
   "metadata": {
    "collapsed": false
   },
   "outputs": [
    {
     "name": "stdout",
     "output_type": "stream",
     "text": [
      "+---+--------------------+--------------------+--------------------+\n",
      "| id|               title|             content|                tags|\n",
      "+---+--------------------+--------------------+--------------------+\n",
      "| 17|How long and at w...|<p>I'm interested...|baking chicken co...|\n",
      "| 81|How do I pound ch...|<p>Despite my bes...|chicken meat chic...|\n",
      "|143|Why do my burgers...|<p>When I broil o...|meat hamburgers g...|\n",
      "|183|Cutting boards: W...|<p>I have heard v...|equipment knives ...|\n",
      "|184|What knives are '...|<p>I consider mys...|    equipment knives|\n",
      "|190|Proper ratio of W...|<p>When making ri...|                rice|\n",
      "|245|How can I keep me...|<p>Nothin' better...|baking eggs pie m...|\n",
      "|337|Substitution for ...|<p>I'm interested...|substitutions bee...|\n",
      "|352|Does it take a sp...|<p>Or am I just d...|equipment blender...|\n",
      "|362|My Baba Ghanoush ...|<p>I tried cookin...|please-remove-thi...|\n",
      "|386|What is the best ...|<p>What is the be...|storage-method fr...|\n",
      "|399|What are the best...|<p>What are the b...|     baking potatoes|\n",
      "|539|Daikon in place o...|<p>I remember see...| substitutions pasta|\n",
      "|572|Knife chopping th...|<p>Is it ok to us...|knives coconut bo...|\n",
      "|586|How long should I...|<p>I always have ...|     garlic sauteing|\n",
      "|624|Do I need to use ...|<p>When making ja...|food-safety food-...|\n",
      "|640|Good video on sep...|<p>Could anyone p...|      eggs resources|\n",
      "|655|Proper olive oil ...|<p>I'm looking to...|         oil tasting|\n",
      "|826|How to stop meatb...|<p>I tried cookin...|frying beef meatb...|\n",
      "|858|Is Beer Can Chick...|<p>Some time ago ...|food-safety chick...|\n",
      "+---+--------------------+--------------------+--------------------+\n",
      "only showing top 20 rows\n",
      "\n"
     ]
    }
   ],
   "source": [
    "val sub = df_all.sample(false, .1)\n",
    "sub.show"
   ]
  },
  {
   "cell_type": "code",
   "execution_count": 17,
   "metadata": {
    "collapsed": false
   },
   "outputs": [],
   "source": [
    "val fiveGramFeats = makeTrFeatures(5) _\n",
    "val featDF = sub.select(\"title\", \"content\", \"tags\").\n",
    "                 rdd.flatMap{case Row(t: String, c: String, ta: String) => \n",
    "                                                     fiveGramFeats(t, c, ta)}.toDF"
   ]
  },
  {
   "cell_type": "code",
   "execution_count": 18,
   "metadata": {
    "collapsed": false
   },
   "outputs": [
    {
     "name": "stdout",
     "output_type": "stream",
     "text": [
      "+----------+-------+-----------+-------------------+--------+--------+-------+-----+\n",
      "|     nGram|posTags|    depTags|             relPos|numWords|hasUpper|isTitle|isTag|\n",
      "+----------+-------+-----------+-------------------+--------+--------+-------+-----+\n",
      "|       <p>|     NN|       root|                0.0|       1|   false|  false|false|\n",
      "|         I|    PRP|      nsubj|0.09090909090909091|       1|    true|  false|false|\n",
      "|        be|    VBP|        cop|0.18181818181818182|       1|   false|  false|false|\n",
      "|interested|     JJ|  acl:relcl| 0.2727272727272727|       1|   false|  false|false|\n",
      "|        in|     IN|       case|0.36363636363636365|       1|   false|  false|false|\n",
      "|      bake|    VBG|       amod|0.45454545454545453|       1|   false|  false| true|\n",
      "|     thigh|    NNS|    nmod:in| 0.5454545454545454|       1|   false|  false|false|\n",
      "|       leg|    NNS|   conj:and| 0.6363636363636364|       1|   false|  false|false|\n",
      "|    breast|    NNS|   conj:and| 0.7272727272727273|       1|   false|  false|false|\n",
      "|       and|     CC|         cc| 0.8181818181818182|       1|   false|  false|false|\n",
      "|      wing|    NNS|   conj:and| 0.9090909090909091|       1|   false|  false|false|\n",
      "|       how|    WRB|     advmod|                0.0|       1|    true|  false|false|\n",
      "|      long|     RB|     advmod|0.07142857142857142|       1|   false|  false|false|\n",
      "|        do|    VBP|        aux|0.14285714285714285|       1|   false|  false|false|\n",
      "|      each|     DT|nsubj:xsubj|0.21428571428571427|       1|   false|  false|false|\n",
      "|        of|     IN|       case| 0.2857142857142857|       1|   false|  false|false|\n",
      "|     these|     DT|        det|0.35714285714285715|       1|   false|  false|false|\n",
      "|      item|    NNS|    nmod:of|0.42857142857142855|       1|   false|  false|false|\n",
      "|      need|    VBP|       root|                0.5|       1|   false|  false|false|\n",
      "|        to|     TO|       mark| 0.5714285714285714|       1|   false|  false|false|\n",
      "+----------+-------+-----------+-------------------+--------+--------+-------+-----+\n",
      "only showing top 20 rows\n",
      "\n"
     ]
    }
   ],
   "source": [
    "featDF.show"
   ]
  },
  {
   "cell_type": "code",
   "execution_count": 19,
   "metadata": {
    "collapsed": false
   },
   "outputs": [
    {
     "name": "stdout",
     "output_type": "stream",
     "text": [
      "There are 709075 rows\n",
      "Elapsed: 72.573625535 seconds\n"
     ]
    }
   ],
   "source": [
    "val s = System.nanoTime\n",
    "println(s\"There are ${featDF.count} rows\")\n",
    "val diff = (System.nanoTime - s)/1e9d\n",
    "println(s\"Elapsed: $diff seconds\")"
   ]
  },
  {
   "cell_type": "code",
   "execution_count": 20,
   "metadata": {
    "collapsed": false
   },
   "outputs": [
    {
     "data": {
      "text/plain": [
       "46.03187483770449"
      ]
     },
     "execution_count": 20,
     "metadata": {},
     "output_type": "execute_result"
    }
   ],
   "source": [
    "featDF.count / df_all.count.toDouble"
   ]
  },
  {
   "cell_type": "code",
   "execution_count": 22,
   "metadata": {
    "collapsed": false
   },
   "outputs": [
    {
     "data": {
      "text/plain": [
       "6225"
      ]
     },
     "execution_count": 22,
     "metadata": {},
     "output_type": "execute_result"
    }
   ],
   "source": [
    "featDF.filter($\"isTag\").count"
   ]
  },
  {
   "cell_type": "code",
   "execution_count": null,
   "metadata": {
    "collapsed": true
   },
   "outputs": [],
   "source": []
  }
 ],
 "metadata": {
  "kernelspec": {
   "display_name": "Apache Toree - Scala",
   "language": "scala",
   "name": "apache_toree_scala"
  },
  "language_info": {
   "name": "scala",
   "version": "2.10.4"
  }
 },
 "nbformat": 4,
 "nbformat_minor": 0
}
