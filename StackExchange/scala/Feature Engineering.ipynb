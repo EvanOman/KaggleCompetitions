{
 "cells": [
  {
   "cell_type": "markdown",
   "metadata": {},
   "source": [
    "## Features:\n",
    "- `LEN`: number of words in tuple (ranges from 1 to 5)\n",
    "- `HAS_NN`: boolean indicating if the \n",
    "- `DEP_PATT`: string dependency pattern\n",
    "- `PREV_2_W`: previous 2 words\n",
    "- `NEXT_2_W`: next 2 words\n",
    "- `NEXT_W`: next word\n",
    "- `PREV_W`: next word\n",
    "- `PREV_2_T`: previous 2 tags\n",
    "- `NEXT_2_T`: next 2 tags\n",
    "- `NEXT_T`: next tag\n",
    "- `PREV_T`: prev tag\n",
    "- `DOC_FR`: document frequency\n",
    "- `IS_TITLE`: boolean indicating is this tuple from the title(true) or the post(false)\n",
    "- `REL_POS`: proportion of sentence preceding the first element of the tuple"
   ]
  },
  {
   "cell_type": "markdown",
   "metadata": {},
   "source": [
    "### Imports"
   ]
  },
  {
   "cell_type": "code",
   "execution_count": 1,
   "metadata": {
    "collapsed": false
   },
   "outputs": [
    {
     "name": "stdout",
     "output_type": "stream",
     "text": [
      "Marking edu.stanford.nlp:stanford-corenlp:3.7.0 for download\n",
      "Preparing to fetch from:\n",
      "-> file:/tmp/toree_add_deps6007752999750887948/\n",
      "-> https://repo1.maven.org/maven2\n",
      "-> New file at /tmp/toree_add_deps6007752999750887948/https/repo1.maven.org/maven2/edu/stanford/nlp/stanford-corenlp/3.7.0/stanford-corenlp-3.7.0.jar\n",
      "Marking com.google.protobuf:protobuf-java:2.6.1 for download\n",
      "Preparing to fetch from:\n",
      "-> file:/tmp/toree_add_deps6007752999750887948/\n",
      "-> https://repo1.maven.org/maven2\n",
      "-> New file at /tmp/toree_add_deps6007752999750887948/https/repo1.maven.org/maven2/com/google/protobuf/protobuf-java/2.6.1/protobuf-java-2.6.1.jar\n",
      "Starting download from file:lib/corenlp-models.jar\n",
      "Finished download of corenlp-models.jar\n"
     ]
    }
   ],
   "source": [
    "/* Add Deps */\n",
    "%AddDeps edu.stanford.nlp stanford-corenlp 3.7.0\n",
    "%AddDeps com.google.protobuf protobuf-java 2.6.1\n",
    "\n",
    "// Non-repo dependencies \n",
    "%AddJar file:lib/corenlp-models.jar"
   ]
  },
  {
   "cell_type": "code",
   "execution_count": 2,
   "metadata": {
    "collapsed": true
   },
   "outputs": [],
   "source": [
    "/* Class Imports */\n",
    "import edu.stanford.nlp.simple.Sentence\n",
    "import edu.stanford.nlp.simple.Document\n",
    "import collection.JavaConverters._"
   ]
  },
  {
   "cell_type": "markdown",
   "metadata": {},
   "source": [
    "### Utility functions"
   ]
  },
  {
   "cell_type": "code",
   "execution_count": 28,
   "metadata": {
    "code_folding": [],
    "collapsed": false
   },
   "outputs": [],
   "source": [
    "/* Make n-grams from input list */\n",
    "/* TODO: use iterators to save conversion costs*/\n",
    "def mkNgram[A](n: Int, in: List[A]): List[List[A]] = \n",
    "{\n",
    "    in.sliding(n).map(_.toList).toList\n",
    "}\n",
    "\n",
    "/* LDP is just a (lemma, hasUpper), dependency, part of speech triple */\n",
    "type LDP = ((String, Boolean), String, String)\n",
    "\n",
    "/* Maps a sentence to a list of LDP triples */\n",
    "def mkLPDlists(s: Sentence): List[LDP] = \n",
    "{\n",
    "    val w = s.words.asScala.toList\n",
    "    val trips = (s.lemmas.asScala.zip(w).map(x => (x._1, x._2.exists(_.isUpper))), \n",
    "                                            s.incomingDependencyLabels.asScala.map(_.get.toString),\n",
    "                                            s.posTags.asScala).zipped.toList\n",
    "    trips.filterNot(_._2 == \"punct\")\n",
    "}\n",
    "\n",
    "/* \n",
    "    TODO: Think about  filters and implement them\n",
    "    The following is a set of filters to remove undesirable nrgram candidates:\n",
    "    - Ends with article (a/the)\n",
    "    - Starts or ends with a conjunction\n",
    "    - ???\n",
    "*/\n",
    "def ngramFilter(in: List[List[LDP]]): List[List[LDP]] =\n",
    "{\n",
    "    in\n",
    "}"
   ]
  },
  {
   "cell_type": "markdown",
   "metadata": {},
   "source": [
    "### Feature Structure: \n",
    "\n",
    "For now I am implementing the following features:\n",
    "\n",
    "- posTags: String = string of - delimited pos tags for this ngram\n",
    "- depTags: String = string of - delimited dependency tags for this ngram\n",
    "- relPos: Double[0,1] = relative position of first element of the ngra,\n",
    "- numWords: Int = length of the ngram\n",
    "- hasUpper: contains uppercase char?\n",
    "- isTitle: Boolean = indicates if this\n",
    "- isTag: Boolean = target classification value, inidcates if this ngram is a tag\n",
    "\n",
    "These features will be represented in my `TrainingFeatures` and `StdFeatures` classes:"
   ]
  },
  {
   "cell_type": "code",
   "execution_count": 12,
   "metadata": {
    "collapsed": false
   },
   "outputs": [],
   "source": [
    "/* Simple struct representing training features */\n",
    "case class TrainingFeatures(nGram: String, posTags: String, depTags: String, relPos: Double,\n",
    "                            numWords: Int, hasUpper: Boolean, isTitle: Boolean, isTag: Boolean)\n",
    "\n",
    "/* Simple struct representing std features */\n",
    "case class StdFeatures(nGram: String, posTags: String, depTags: String, relPos: Double,\n",
    "                            numWords: Int, hasUpper: Boolean, isTitle: Boolean)\n",
    "                            \n",
    "/* Creates a TrainingFeatures instance from a StdFeatures instance */\n",
    "def mkTrFeat(s: StdFeatures, isTag: Boolean): TrainingFeatures = \n",
    "                TrainingFeatures(s.nGram, s.posTags, s.depTags, s.relPos, s.numWords,\n",
    "                                 s.hasUpper, s.isTitle, isTag)"
   ]
  },
  {
   "cell_type": "markdown",
   "metadata": {},
   "source": [
    "## Feature Generation Steps\n",
    "- Get pos tags\n",
    "- Make `(lemma, dependency, part of speech)` triples\n",
    "- Make nGrams for n 1 through 5"
   ]
  },
  {
   "cell_type": "code",
   "execution_count": 30,
   "metadata": {
    "collapsed": false
   },
   "outputs": [
    {
     "data": {
      "text/plain": [
       "Name: Compile Error\n",
       "Message: <console>:72: error: recursive value x$1 needs type\n",
       "                       val (l, d, p) = ngram.unzip3\n",
       "                            ^\n",
       "<console>:76: error: value mkString is not a member of Any\n",
       "                       val posTags = p.mkString(\"-\").toLowerCase\n",
       "                                       ^\n",
       "<console>:77: error: value mkString is not a member of Any\n",
       "                       val depTags = d.mkString(\"-\").toLowerCase\n",
       "                                       ^\n",
       "StackTrace: "
      ]
     },
     "execution_count": 30,
     "metadata": {},
     "output_type": "execute_result"
    }
   ],
   "source": [
    "\n",
    "def makeStdFeatures(n: Int)(title: String, content: String): Seq[StdFeatures] = \n",
    "{\n",
    "    // mk post sentence\n",
    "    val post_sents = (new Document(content)).sentences.asScala.toList\n",
    "    \n",
    "    // mk title sentence\n",
    "    val title_sents = (new Document(title)).sentences.asScala.toList\n",
    "    \n",
    "    // gather lemmas, pos tags, deps\n",
    "    // these features will be also be ngrammed \n",
    "    val post_feats: List[(List[LDP], Boolean)] = post_sents.map(x => (mkLPDlists(x), false))\n",
    "    val title_feats: List[(List[LDP], Boolean)] = title_sents.map(x => (mkLPDlists(x), true))\n",
    "    \n",
    "    /* N-Grammable features (plus isTitle)*/\n",
    "    val gram_feats_it: List[(List[LDP], Boolean)] = post_feats ++ title_feats\n",
    "    \n",
    "    /* Loop over all ngram lengths */\n",
    "    (1 to n).flatMap{nGramLen => {\n",
    "        /* loop over all sentences in this post+title */\n",
    "        gram_feats_it.flatMap{ case (n_grammable: List[LDP], isTitle: Boolean) => {\n",
    "            /* make n grams from n-grammable items */\n",
    "            val ngrams: List[List[LDP]] = mkNgram(nGramLen, n_grammable)\n",
    "            \n",
    "            /* sentence length is the lenth of n_grammable*/\n",
    "            val senLen: Double = n_grammable.length.toDouble\n",
    "            \n",
    "            /* TODO: apply filters */\n",
    "            // val ngrams_good = ngramFilter(ngrams)\n",
    "            \n",
    "            /* Map ngrams to StdFeature */\n",
    "            ngrams.zipWithIndex.map{case (ngram: List[LDP], index: Int) => {\n",
    "                /* here we have the ngram for each l, d, and p */\n",
    "                val (l, d, p) = ngram.unzip3\n",
    "                \n",
    "                /* Now we can calculate all of the std features: */\n",
    "                val ngram = l.map(_._1).mkString(\"-\").toLowerCase\n",
    "                val posTags = p.mkString(\"-\").toLowerCase\n",
    "                val depTags = d.mkString(\"-\").toLowerCase\n",
    "                val relPos = index / senLen\n",
    "                val numWords = n\n",
    "                val hasUpper = l.exists(_._2)\n",
    "                StdFeatures(ngram, posTags, depTags, relPos, numWords, hasUpper, isTitle)\n",
    "            }}\n",
    "        }\n",
    "    }}}\n",
    "}"
   ]
  },
  {
   "cell_type": "code",
   "execution_count": 26,
   "metadata": {
    "collapsed": false
   },
   "outputs": [],
   "source": [
    "val (a,b) = List(((1, 'a'), 2), ((3, 'b'), 4)).zipWithIndex.unzip"
   ]
  },
  {
   "cell_type": "code",
   "execution_count": 27,
   "metadata": {
    "collapsed": false
   },
   "outputs": [
    {
     "name": "stdout",
     "output_type": "stream",
     "text": [
      "List(((1,a),2), ((3,b),4))\n"
     ]
    }
   ],
   "source": [
    "println(a)"
   ]
  },
  {
   "cell_type": "code",
   "execution_count": null,
   "metadata": {
    "collapsed": true
   },
   "outputs": [],
   "source": []
  }
 ],
 "metadata": {
  "celltoolbar": "Raw Cell Format",
  "kernelspec": {
   "display_name": "Apache Toree - Scala",
   "language": "scala",
   "name": "apache_toree_scala"
  },
  "language_info": {
   "name": "scala",
   "version": "2.10.4"
  }
 },
 "nbformat": 4,
 "nbformat_minor": 1
}
