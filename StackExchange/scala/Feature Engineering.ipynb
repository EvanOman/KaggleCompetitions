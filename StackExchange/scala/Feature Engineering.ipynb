{
 "cells": [
  {
   "cell_type": "markdown",
   "metadata": {},
   "source": [
    "## Features:\n",
    "- `LEN`: number of words in tuple (ranges from 1 to 5)\n",
    "- `HAS_NN`: boolean indicating if the \n",
    "- `DEP_PATT`: string dependency pattern\n",
    "- `PREV_2_W`: previous 2 words\n",
    "- `NEXT_2_W`: next 2 words\n",
    "- `NEXT_W`: next word\n",
    "- `PREV_W`: next word\n",
    "- `PREV_2_T`: previous 2 tags\n",
    "- `NEXT_2_T`: next 2 tags\n",
    "- `NEXT_T`: next tag\n",
    "- `PREV_T`: prev tag\n",
    "- `DOC_FR`: document frequency\n",
    "- `IS_TITLE`: boolean indicating is this tuple from the title(true) or the post(false)\n",
    "- `REL_POS`: proportion of sentence preceding the first element of the tuple"
   ]
  },
  {
   "cell_type": "code",
   "execution_count": null,
   "metadata": {
    "collapsed": true
   },
   "outputs": [],
   "source": []
  }
 ],
 "metadata": {
  "kernelspec": {
   "display_name": "Apache Toree - Scala",
   "language": "scala",
   "name": "apache_toree_scala"
  },
  "language_info": {
   "name": "scala",
   "version": "2.10.4"
  }
 },
 "nbformat": 4,
 "nbformat_minor": 1
}
