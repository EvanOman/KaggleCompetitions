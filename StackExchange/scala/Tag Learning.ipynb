{
 "cells": [
  {
   "cell_type": "code",
   "execution_count": 65,
   "metadata": {
    "collapsed": false
   },
   "outputs": [],
   "source": [
    "import org.apache.spark.sql.{Row, DataFrame}\n",
    "\n",
    "val myDF: DataFrame = spark.read.format(\"csv\").option(\"header\", \"true\").load(\"../dat/crypto_clean.csv\")"
   ]
  },
  {
   "cell_type": "code",
   "execution_count": 66,
   "metadata": {
    "collapsed": false
   },
   "outputs": [],
   "source": [
    "var rdd = myDF.select(\"tags\").rdd.map{case Row(t: String) => t}"
   ]
  },
  {
   "cell_type": "code",
   "execution_count": 73,
   "metadata": {
    "collapsed": false
   },
   "outputs": [],
   "source": [
    "val tags = rdd.collect.flatMap(_.split(\" \").map(x => {\n",
    "        val numWords = x.split(\"-\").size\n",
    "        (x, numWords)\n",
    "    }))"
   ]
  },
  {
   "cell_type": "code",
   "execution_count": 68,
   "metadata": {
    "collapsed": false
   },
   "outputs": [
    {
     "data": {
      "text/plain": [
       "(meet-in-the-middle-attack,5)"
      ]
     },
     "execution_count": 68,
     "metadata": {},
     "output_type": "execute_result"
    }
   ],
   "source": [
    "tags.maxBy(_._2)"
   ]
  },
  {
   "cell_type": "markdown",
   "metadata": {},
   "source": [
    "### TODO: load all data and do a histogram over tag lengths"
   ]
  },
  {
   "cell_type": "code",
   "execution_count": 69,
   "metadata": {
    "collapsed": false
   },
   "outputs": [
    {
     "name": "stdout",
     "output_type": "stream",
     "text": [
      "+---+-----+-------+----+\n",
      "| id|title|content|tags|\n",
      "+---+-----+-------+----+\n",
      "+---+-----+-------+----+\n",
      "\n"
     ]
    }
   ],
   "source": [
    "val anyNull = myDF.columns.map(myDF(_).isNull).reduce(_||_)\n",
    "myDF.filter(anyNull).show"
   ]
  },
  {
   "cell_type": "code",
   "execution_count": 72,
   "metadata": {
    "collapsed": false
   },
   "outputs": [
    {
     "name": "stdout",
     "output_type": "stream",
     "text": [
      "+---+--------------------+--------------------+--------------------+\n",
      "| id|               title|             content|                tags|\n",
      "+---+--------------------+--------------------+--------------------+\n",
      "|  7|Why use a 1-2 Obl...|<p>When initiatin...|oblivious-transfe...|\n",
      "|  9|What is the gener...|<p>Since most cry...|hash cryptanalysi...|\n",
      "| 17|How to provide se...|<p><a href=\"http:...|dsa bitcoin digit...|\n",
      "| 20|What are the prac...|<p>AES has severa...|encryption aes bl...|\n",
      "| 27|How do I apply di...|<p>I have read a ...|cryptanalysis blo...|\n",
      "| 31|Current mathemati...|<p>What are the m...|coding-theory ell...|\n",
      "| 36|What are the main...|<p>What are the m...|cryptanalysis cla...|\n",
      "| 48|Is it feasible to...|<p>A few years ag...|encryption hash b...|\n",
      "| 55|Known methods for...|<p>There are seve...|implementation ae...|\n",
      "| 59|Taking advantage ...|<p>Suppose Alice ...|cryptanalysis one...|\n",
      "| 66|What are the deta...|<p>I think I once...|encryption des mo...|\n",
      "| 71|How can I generat...|<p>What is the cu...|rsa number-theory...|\n",
      "| 98|Replacing the Rij...|<p>The Rijndael S...|encryption aes s-...|\n",
      "|128|Sites to find cry...|<p>Does anyone kn...|encryption resour...|\n",
      "|129|Why did NIST remo...|<p>NIST removed \"...|random-number-gen...|\n",
      "|131|Is key size the o...|<p>A <a href=\"htt...|public-key post-q...|\n",
      "|135|Why does PBKDF2 x...|<p><a href=\"http:...|hash passwords ke...|\n",
      "|183|Tactics available...|<p>I believe that...|cryptanalysis sta...|\n",
      "|191|Are there asymmet...|<p>In the compute...|public-key discre...|\n",
      "|202|Should we MAC-the...|<p>Most of the ti...|encryption protoc...|\n",
      "+---+--------------------+--------------------+--------------------+\n",
      "only showing top 20 rows\n",
      "\n"
     ]
    }
   ],
   "source": [
    "import org.apache.spark.sql.functions._\n",
    "myDF.filter(length(myDF(\"tags\")) > 30).show"
   ]
  },
  {
   "cell_type": "markdown",
   "metadata": {},
   "source": [
    "### Cleaning Steps\n",
    "Based of some initial experimentation it looks like the following steps (in order) are need to get the data imported properly:\n",
    "\n",
    "- Remove inter-row newlines. This can be done with `../fix_newlines.sh`\n",
    "- Replace all `\"\"\"` instances with `\" \"\"`. This handles the case where a post starts with quotations.\n",
    "- Replace all `\"\"` with `\\\"`. The double quotes confuse the heck out of Spark's csv loader"
   ]
  },
  {
   "cell_type": "code",
   "execution_count": 80,
   "metadata": {
    "code_folding": [],
    "collapsed": false
   },
   "outputs": [],
   "source": [
    "val ss = org.apache.spark.sql.SparkSession.builder.getOrCreate()\n",
    "import ss.implicits._"
   ]
  },
  {
   "cell_type": "code",
   "execution_count": 83,
   "metadata": {
    "collapsed": false
   },
   "outputs": [
    {
     "name": "stdout",
     "output_type": "stream",
     "text": [
      "+---+--------------------+--------------------+--------------------+\n",
      "| id|               title|             content|                tags|\n",
      "+---+--------------------+--------------------+--------------------+\n",
      "|  3|What are the bene...|<p>Why do we use ...|block-cipher des ...|\n",
      "|  7|Why use a 1-2 Obl...|<p>When initiatin...|oblivious-transfe...|\n",
      "|  8|Why do we append ...|<p>As we know, <a...|          sha-1 hash|\n",
      "|  9|What is the gener...|<p>Since most cry...|hash cryptanalysi...|\n",
      "| 14|How can I use asy...|<p>RSA is not des...|encryption rsa pu...|\n",
      "| 16|How were the DES ...|<p>It seems like ...|des encryption s-...|\n",
      "| 17|How to provide se...|<p><a href=\"http:...|dsa bitcoin digit...|\n",
      "| 18|How can a random ...|<p>I understand t...|hash implementati...|\n",
      "| 20|What are the prac...|<p>AES has severa...|encryption aes bl...|\n",
      "| 24|What makes a hash...|<p>Using a crypto...|      hash passwords|\n",
      "| 27|How do I apply di...|<p>I have read a ...|cryptanalysis blo...|\n",
      "| 31|Current mathemati...|<p>What are the m...|coding-theory ell...|\n",
      "| 32|How can SSL secur...|<p>As I understan...|encryption tls pu...|\n",
      "| 34|Necessity of Rand...|<p>Given the desi...|hash salt randomness|\n",
      "| 36|What are the main...|<p>What are the m...|cryptanalysis cla...|\n",
      "| 43|Salting when encr...|<p>I was attendin...|encryption salt d...|\n",
      "| 47|With sufficient r...|<p>I have heard c...|   xor stream-cipher|\n",
      "| 48|Is it feasible to...|<p>A few years ag...|encryption hash b...|\n",
      "| 55|Known methods for...|<p>There are seve...|implementation ae...|\n",
      "| 59|Taking advantage ...|<p>Suppose Alice ...|cryptanalysis one...|\n",
      "+---+--------------------+--------------------+--------------------+\n",
      "only showing top 20 rows\n",
      "\n"
     ]
    }
   ],
   "source": [
    "myDF.as[(String, String, String, String)].sho"
   ]
  },
  {
   "cell_type": "code",
   "execution_count": null,
   "metadata": {
    "collapsed": true
   },
   "outputs": [],
   "source": []
  }
 ],
 "metadata": {
  "kernelspec": {
   "display_name": "Apache Toree - Scala",
   "language": "scala",
   "name": "apache_toree_scala"
  },
  "language_info": {
   "name": "scala",
   "version": "2.11.8"
  }
 },
 "nbformat": 4,
 "nbformat_minor": 0
}
