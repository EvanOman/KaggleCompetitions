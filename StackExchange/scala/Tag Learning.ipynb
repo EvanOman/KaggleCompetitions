{
 "cells": [
  {
   "cell_type": "markdown",
   "metadata": {},
   "source": [
    "### Preconditions\n",
    "- Make sure data has been downloaded with `download_data.py`\n",
    "- Make sure the first pass of cleaning has been performed with `clean_files.scala`"
   ]
  },
  {
   "cell_type": "code",
   "execution_count": 9,
   "metadata": {
    "collapsed": true
   },
   "outputs": [],
   "source": [
    "val ss = org.apache.spark.sql.SparkSession.builder.getOrCreate()\n",
    "import ss.implicits._\n",
    "import org.apache.spark.sql.functions._"
   ]
  },
  {
   "cell_type": "code",
   "execution_count": 10,
   "metadata": {
    "collapsed": false
   },
   "outputs": [],
   "source": [
    "val files = List(\"cooking\", \"crypto\", \"robotics\", \"biology\", \"travel\", \"diy\")\n",
    "\n",
    "/* Load and print all files */\n",
    "val df_all = files.map(f => {\n",
    "                        spark.read.format(\"csv\").option(\"header\", \"true\").load(\"../dat/\"+f+\"_clean.csv\")\n",
    "                   }).reduce(_ union _).withColumn(\"tags\", split($\"tags\", \" \"))"
   ]
  },
  {
   "cell_type": "code",
   "execution_count": 11,
   "metadata": {
    "collapsed": false
   },
   "outputs": [
    {
     "name": "stdout",
     "output_type": "stream",
     "text": [
      "+---+--------------------+--------------------+--------------------+\n",
      "| id|               title|             content|                tags|\n",
      "+---+--------------------+--------------------+--------------------+\n",
      "|  1|How can I get che...|<p>My chocolate c...|[baking, cookies,...|\n",
      "|  2|How should I cook...|<p>I've heard of ...|[oven, cooking-ti...|\n",
      "|  3|What is the diffe...|<p>I always use b...|              [eggs]|\n",
      "|  4|What is the diffe...|<p>And can I use ...|[substitutions, p...|\n",
      "|  5|In a tomato sauce...|<p>It seems that ...|[sauce, pasta, to...|\n",
      "|  6|What ingredients ...|<p>I have a recip...|[substitutions, h...|\n",
      "|  9|What is the inter...|<p>I'd like to kn...|[food-safety, bee...|\n",
      "| 11|How should I poac...|<p>What's the bes...|[eggs, basics, po...|\n",
      "| 12|How can I make my...|<p>My ice cream d...|         [ice-cream]|\n",
      "| 17|How long and at w...|<p>I'm interested...|[baking, chicken,...|\n",
      "| 23|Besides salmon, w...|<p>I've fallen in...|[grilling, salmon...|\n",
      "| 27|Do I need to sift...|<p>Is there reall...|[baking, flour, m...|\n",
      "| 28|Storage life for ...|<p>When I roast a...|[storage-method, ...|\n",
      "| 30|Pressure canning ...|<p>Where can safe...|[canning, pressur...|\n",
      "| 32|What's a good res...|<p>I know what sp...|[spices, resource...|\n",
      "| 36|Is it safe to lea...|<p>Is it safe to ...|[food-safety, sto...|\n",
      "| 38|Does resting the ...|<p>In this <a hre...|[baking, bread, d...|\n",
      "| 54|How should I prep...|<p>I've been watc...|[rice, italian-cu...|\n",
      "| 57|How does a splash...|<p>What does spla...|[eggs, food-scien...|\n",
      "| 61|What are the pros...|<p>Why should/sho...|[storage-method, ...|\n",
      "+---+--------------------+--------------------+--------------------+\n",
      "only showing top 20 rows\n",
      "\n"
     ]
    }
   ],
   "source": [
    "df_all.show"
   ]
  },
  {
   "cell_type": "code",
   "execution_count": 4,
   "metadata": {
    "collapsed": false
   },
   "outputs": [
    {
     "data": {
      "text/plain": [
       "87000"
      ]
     },
     "execution_count": 4,
     "metadata": {},
     "output_type": "execute_result"
    }
   ],
   "source": [
    "df_all.count"
   ]
  },
  {
   "cell_type": "code",
   "execution_count": 12,
   "metadata": {
    "collapsed": false
   },
   "outputs": [],
   "source": [
    "val rdd = df_all.select(\"tags\").as[Seq[String]].rdd"
   ]
  },
  {
   "cell_type": "code",
   "execution_count": 15,
   "metadata": {
    "collapsed": false
   },
   "outputs": [
    {
     "data": {
      "text/plain": [
       "(meet-in-the-middle-attack,5)"
      ]
     },
     "execution_count": 15,
     "metadata": {},
     "output_type": "execute_result"
    }
   ],
   "source": [
    "val tags = rdd.collect.flatMap(_.map(t => (t, t.split(\"-\").size)))\n",
    "val tagsDF = tags.toSeq.distinct.toDF(\"tag\", \"length\")\n",
    "\n",
    "tags.maxBy(_._2)"
   ]
  },
  {
   "cell_type": "code",
   "execution_count": 16,
   "metadata": {
    "collapsed": false
   },
   "outputs": [
    {
     "name": "stdout",
     "output_type": "stream",
     "text": [
      "+--------------------+------+\n",
      "|                 tag|length|\n",
      "+--------------------+------+\n",
      "|              baking|     1|\n",
      "|             cookies|     1|\n",
      "|             texture|     1|\n",
      "|                oven|     1|\n",
      "|        cooking-time|     2|\n",
      "|               bacon|     1|\n",
      "|                eggs|     1|\n",
      "|       substitutions|     1|\n",
      "|please-remove-thi...|     4|\n",
      "|         baking-soda|     2|\n",
      "|       baking-powder|     2|\n",
      "|               sauce|     1|\n",
      "|               pasta|     1|\n",
      "|            tomatoes|     1|\n",
      "|     italian-cuisine|     2|\n",
      "|               herbs|     1|\n",
      "|             parsley|     1|\n",
      "|         food-safety|     2|\n",
      "|                beef|     1|\n",
      "|              basics|     1|\n",
      "+--------------------+------+\n",
      "only showing top 20 rows\n",
      "\n"
     ]
    }
   ],
   "source": [
    "tagsDF.show"
   ]
  },
  {
   "cell_type": "markdown",
   "metadata": {},
   "source": [
    "### TODO: load all data and do a histogram over tag lengths"
   ]
  },
  {
   "cell_type": "code",
   "execution_count": 21,
   "metadata": {
    "collapsed": false
   },
   "outputs": [
    {
     "name": "stdout",
     "output_type": "stream",
     "text": [
      "+-------------------------+------+\n",
      "|tag                      |length|\n",
      "+-------------------------+------+\n",
      "|meet-in-the-middle-attack|5     |\n",
      "|proof-provenance-of-funds|4     |\n",
      "|us-visa-waiver-program   |4     |\n",
      "|please-remove-this-tag   |4     |\n",
      "|90-180-visa-rules        |4     |\n",
      "|man-in-the-middle        |4     |\n",
      "|ho-chi-minh-city         |4     |\n",
      "|gondolas-and-cable-cars  |4     |\n",
      "|great-wall-of-china      |4     |\n",
      "|change-purpose-of-travel |4     |\n",
      "|proof-of-onward-travel   |4     |\n",
      "|san-francisco-bay-area   |4     |\n",
      "|t-and-t-citizens         |4     |\n",
      "|self-leveling-concrete   |3     |\n",
      "|glass-top-range          |3     |\n",
      "|diy-vs-pro               |3     |\n",
      "|damp-proof-course        |3     |\n",
      "|thermostat-c-wire        |3     |\n",
      "|grounding-and-bonding    |3     |\n",
      "|sliding-glass-door       |3     |\n",
      "+-------------------------+------+\n",
      "only showing top 20 rows\n",
      "\n"
     ]
    }
   ],
   "source": [
    "tagsDF.sort(-$\"length\").show(false)"
   ]
  },
  {
   "cell_type": "code",
   "execution_count": null,
   "metadata": {
    "collapsed": true
   },
   "outputs": [],
   "source": []
  }
 ],
 "metadata": {
  "kernelspec": {
   "display_name": "Apache Toree - Scala",
   "language": "scala",
   "name": "apache_toree_scala"
  },
  "language_info": {
   "name": "scala",
   "version": "2.11.8"
  }
 },
 "nbformat": 4,
 "nbformat_minor": 0
}
