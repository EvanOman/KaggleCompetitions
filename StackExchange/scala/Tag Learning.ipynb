{
 "cells": [
  {
   "cell_type": "code",
   "execution_count": 7,
   "metadata": {
    "collapsed": false
   },
   "outputs": [],
   "source": [
    "import org.apache.spark.sql.{Row, DataFrame}\n",
    "\n",
    "val myDF: DataFrame = spark.read.format(\"csv\").option(\"header\", \"true\").load(\"../dat/biology.csv\")"
   ]
  },
  {
   "cell_type": "code",
   "execution_count": 8,
   "metadata": {
    "collapsed": false
   },
   "outputs": [
    {
     "name": "stdout",
     "output_type": "stream",
     "text": [
      "+--------------------+--------------------+--------------------+--------------------+\n",
      "|                  id|               title|             content|                tags|\n",
      "+--------------------+--------------------+--------------------+--------------------+\n",
      "|                   1|What is the criti...|<p>In prokaryotic...|ribosome binding-...|\n",
      "|                   2|How is RNAse cont...|<p>Does anyone ha...|    rna biochemistry|\n",
      "|                   3|Are lymphocyte si...|<p>Tortora writes...|immunology cell-b...|\n",
      "|                   4|How long does ant...|<p>Various people...|        cell-culture|\n",
      "|                   5|Is exon order alw...|<p>Are there any ...|splicing mrna spl...|\n",
      "|                   6|How can I avoid d...|<p>I'm interested...|dna biochemistry ...|\n",
      "|                   8|Under what condit...|<p>I'm looking fo...|neuroscience syna...|\n",
      "|                   9|How should I ship...|<p>I shipped 10 µ...|            plasmids|\n",
      "|                  10|What is the reaso...|<p>I noticed with...|molecular-genetic...|\n",
      "|                  11|How many times di...|<p>According to t...|evolution mitocho...|\n",
      "|                  13|How to reduce edg...|\"<p>In high-throu...|                null|\n",
      "|<p><img src=\"\"htt...|                null|                null|                null|\n",
      "|<p>How can I redu...| but it would be ...|                null|                null|\n",
      "|\",\"high-throughpu...|                null|                null|                null|\n",
      "|                  16|Has anyone tried ...|<p>Has anyone tri...|molecular-biology...|\n",
      "|                  23|What is the optim...|\"<p>The whole que...| is how many adja...|\n",
      "|\",\"bioinformatics...|                null|                null|                null|\n",
      "|                  27|What are the main...|\"<p>We know from ...|               etc.)|\n",
      "|<p>Cell mediators...| but where in the...| are neurons rele...|                null|\n",
      "|\",\"neuroscience i...|                null|                null|                null|\n",
      "+--------------------+--------------------+--------------------+--------------------+\n",
      "only showing top 20 rows\n",
      "\n"
     ]
    }
   ],
   "source": [
    "myDF.show"
   ]
  },
  {
   "cell_type": "code",
   "execution_count": 3,
   "metadata": {
    "collapsed": false
   },
   "outputs": [
    {
     "data": {
      "text/plain": [
       "StructType(StructField(id,StringType,true), StructField(title,StringType,true), StructField(content,StringType,true), StructField(tags,StringType,true))"
      ]
     },
     "execution_count": 3,
     "metadata": {},
     "output_type": "execute_result"
    }
   ],
   "source": [
    "myDF.schema"
   ]
  },
  {
   "cell_type": "code",
   "execution_count": 5,
   "metadata": {
    "collapsed": false
   },
   "outputs": [
    {
     "data": {
      "text/plain": [
       "Name: Error parsing magics!\n",
       "Message: Magics [type] do not exist!\n",
       "StackTrace: "
      ]
     },
     "execution_count": 5,
     "metadata": {},
     "output_type": "execute_result"
    }
   ],
   "source": [
    "%type myDF"
   ]
  },
  {
   "cell_type": "code",
   "execution_count": null,
   "metadata": {
    "collapsed": true
   },
   "outputs": [],
   "source": []
  }
 ],
 "metadata": {
  "kernelspec": {
   "display_name": "Apache Toree - Scala",
   "language": "scala",
   "name": "apache_toree_scala"
  },
  "language_info": {
   "file_extension": ".scala",
   "name": "scala",
   "version": "2.11.8"
  }
 },
 "nbformat": 4,
 "nbformat_minor": 0
}
