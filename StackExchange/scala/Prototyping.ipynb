{
 "cells": [
  {
   "cell_type": "code",
   "execution_count": 5,
   "metadata": {
    "collapsed": false
   },
   "outputs": [
    {
     "name": "stdout",
     "output_type": "stream",
     "text": [
      "Marking edu.stanford.nlp:stanford-corenlp:3.7.0 for download\n",
      "Preparing to fetch from:\n",
      "-> file:/tmp/toree_add_deps2174403190407922360/\n",
      "-> https://repo1.maven.org/maven2\n",
      "-> New file at /tmp/toree_add_deps2174403190407922360/https/repo1.maven.org/maven2/edu/stanford/nlp/stanford-corenlp/3.7.0/stanford-corenlp-3.7.0.jar\n",
      "Marking com.google.protobuf:protobuf-java:2.6.1 for download\n",
      "Preparing to fetch from:\n",
      "-> file:/tmp/toree_add_deps2174403190407922360/\n",
      "-> https://repo1.maven.org/maven2\n",
      "-> New file at /tmp/toree_add_deps2174403190407922360/https/repo1.maven.org/maven2/com/google/protobuf/protobuf-java/2.6.1/protobuf-java-2.6.1.jar\n",
      "Starting download from file:lib/corenlp-models.jar\n",
      "Finished download of corenlp-models.jar\n"
     ]
    }
   ],
   "source": [
    "%AddDeps edu.stanford.nlp stanford-corenlp 3.7.0\n",
    "%AddDeps com.google.protobuf protobuf-java 2.6.1\n",
    "\n",
    "// Non-repo dependencies \n",
    "%AddJar file:lib/corenlp-models.jar"
   ]
  },
  {
   "cell_type": "code",
   "execution_count": 6,
   "metadata": {
    "collapsed": true
   },
   "outputs": [],
   "source": [
    "import edu.stanford.nlp.simple.Sentence\n",
    "import edu.stanford.nlp.semgraph.SemanticGraph"
   ]
  },
  {
   "cell_type": "code",
   "execution_count": 7,
   "metadata": {
    "collapsed": true
   },
   "outputs": [],
   "source": [
    "val post = \"In prokaryotic translation, how critical for efficient translation is the location of the ribosome binding site, relative to the start codon? Ideally, it is supposed to be -7b away from the start. How about if it is -9 bases away or even more? Will this have an observable effect on translation?\""
   ]
  },
  {
   "cell_type": "code",
   "execution_count": 8,
   "metadata": {
    "collapsed": false
   },
   "outputs": [],
   "source": [
    "val sg: SemanticGraph = new Sentence(post).dependencyGraph"
   ]
  },
  {
   "cell_type": "code",
   "execution_count": 9,
   "metadata": {
    "collapsed": false
   },
   "outputs": [
    {
     "name": "stdout",
     "output_type": "stream",
     "text": [
      "[is/VBZ\n",
      "  nmod:in>[translation/NN case>In/IN amod>prokaryotic/JJ]\n",
      "  punct>,/,\n",
      "  dep>[critical/JJ\n",
      "       advmod>how/WRB\n",
      "       nmod:for>[translation/NN case>for/IN amod>efficient/JJ]]\n",
      "  nsubj>[location/NN\n",
      "         det>the/DT\n",
      "         nmod:of>[site/NN\n",
      "                  case>of/IN\n",
      "                  det>the/DT\n",
      "                  compound>ribosome/NN\n",
      "                  compound>binding/NN]\n",
      "         punct>,/,\n",
      "         amod>[relative/JJ\n",
      "               nmod:to>[codon/NN case>to/TO det>the/DT compound>start/NN]]]\n",
      "  punct>?/.\n",
      "  advmod>Ideally/RB\n",
      "  punct>,/,\n",
      "  parataxis>[supposed/VBN\n",
      "             nsubjpass>it/PRP\n",
      "             auxpass>is/VBZ\n",
      "             xcomp>[b/NN\n",
      "                    nsubj:xsubj>\n",
      "                    mark>to/TO\n",
      "                    cop>be/VB\n",
      "                    nummod>-7/CD\n",
      "                    advmod>[away/RB\n",
      "                            nmod:from>[start/NN case>from/IN det>the/DT]]]\n",
      "             punct>./.\n",
      "             dep>[bases/NNS\n",
      "                  advmod>[about/RB advmod>How/WRB]\n",
      "                  mark>if/IN\n",
      "                  nsubj>it/PRP\n",
      "                  cop>is/VBZ\n",
      "                  nummod>-9/CD\n",
      "                  compound:prt>away/RB\n",
      "                  cc>or/CC\n",
      "                  conj:or>[more/RBR advmod>even/RB]\n",
      "                  punct>?/.\n",
      "                  dep>[have/VB\n",
      "                       aux>Will/MD\n",
      "                       nsubj>this/DT\n",
      "                       dobj>[effect/NN det>an/DT amod>observable/JJ]\n",
      "                       nmod:on>[translation/NN case>on/IN]]]\n",
      "             dep>]\n",
      "  punct>?/.]\n"
     ]
    }
   ],
   "source": [
    "sg.prettyPrint"
   ]
  },
  {
   "cell_type": "code",
   "execution_count": null,
   "metadata": {
    "collapsed": true
   },
   "outputs": [],
   "source": []
  }
 ],
 "metadata": {
  "kernelspec": {
   "display_name": "Apache Toree - Scala",
   "language": "scala",
   "name": "apache_toree_scala"
  },
  "language_info": {
   "name": "scala",
   "version": "2.10.4"
  }
 },
 "nbformat": 4,
 "nbformat_minor": 0
}
