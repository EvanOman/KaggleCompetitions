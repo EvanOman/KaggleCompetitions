{
 "cells": [
  {
   "cell_type": "code",
   "execution_count": 9,
   "metadata": {
    "collapsed": false
   },
   "outputs": [
    {
     "name": "stdout",
     "output_type": "stream",
     "text": [
      "Marking edu.stanford.nlp:stanford-corenlp:3.7.0 for download\n",
      "Preparing to fetch from:\n",
      "-> file:/tmp/toree_add_deps2087003410623593241/\n",
      "-> https://repo1.maven.org/maven2\n",
      "-> New file at /tmp/toree_add_deps2087003410623593241/https/repo1.maven.org/maven2/edu/stanford/nlp/stanford-corenlp/3.7.0/stanford-corenlp-3.7.0.jar\n",
      "Marking com.google.protobuf:protobuf-java:2.6.1 for download\n",
      "Preparing to fetch from:\n",
      "-> file:/tmp/toree_add_deps2087003410623593241/\n",
      "-> https://repo1.maven.org/maven2\n",
      "-> New file at /tmp/toree_add_deps2087003410623593241/https/repo1.maven.org/maven2/com/google/protobuf/protobuf-java/2.6.1/protobuf-java-2.6.1.jar\n",
      "Starting download from file:lib/corenlp-models.jar\n",
      "Finished download of corenlp-models.jar\n"
     ]
    }
   ],
   "source": [
    "%AddDeps edu.stanford.nlp stanford-corenlp 3.7.0\n",
    "%AddDeps com.google.protobuf protobuf-java 2.6.1\n",
    "\n",
    "// Non-repo dependencies \n",
    "%AddJar file:lib/corenlp-models.jar"
   ]
  },
  {
   "cell_type": "code",
   "execution_count": 23,
   "metadata": {
    "collapsed": false
   },
   "outputs": [],
   "source": [
    "import edu.stanford.nlp.simple.Sentence\n",
    "import edu.stanford.nlp.semgraph.SemanticGraph"
   ]
  },
  {
   "cell_type": "code",
   "execution_count": 24,
   "metadata": {
    "collapsed": true
   },
   "outputs": [],
   "source": [
    "val post = \"In prokaryotic translation, how critical for efficient translation is the location of the ribosome binding site, relative to the start codon? Ideally, it is supposed to be -7b away from the start. How about if it is -9 bases away or even more? Will this have an observable effect on translation?\""
   ]
  },
  {
   "cell_type": "code",
   "execution_count": 25,
   "metadata": {
    "collapsed": false
   },
   "outputs": [],
   "source": [
    "val s = new Sentence(post)"
   ]
  },
  {
   "cell_type": "code",
   "execution_count": 27,
   "metadata": {
    "collapsed": false
   },
   "outputs": [
    {
     "data": {
      "text/plain": [
       "[IN, JJ, NN, ,, WRB, JJ, IN, JJ, NN, VBZ, DT, NN, IN, DT, NN, NN, NN, ,, JJ, TO, DT, NN, NN, ., RB, ,, PRP, VBZ, VBN, TO, VB, CD, NN, RB, IN, DT, NN, ., WRB, RB, IN, PRP, VBZ, CD, NNS, RB, CC, RB, RBR, ., MD, DT, VB, DT, JJ, NN, IN, NN, .]"
      ]
     },
     "execution_count": 27,
     "metadata": {},
     "output_type": "execute_result"
    }
   ],
   "source": [
    "s.posTags"
   ]
  },
  {
   "cell_type": "code",
   "execution_count": 41,
   "metadata": {
    "collapsed": false
   },
   "outputs": [],
   "source": [
    "import collection.JavaConverters._\n",
    "// mk dep/ pos lists\n",
    "var w_d_p: List[(String, String, String)] = \n",
    "           (s.words.asScala, s.incomingDependencyLabels.asScala.map(_.get.toString), s.posTags.asScala).zipped.toList\n",
    "\n",
    "// filter punuation, unzip\n",
    "val (w, d, p) = w_d_p.filterNot(_._2 == \"punct\").unzip3"
   ]
  },
  {
   "cell_type": "code",
   "execution_count": 42,
   "metadata": {
    "collapsed": false
   },
   "outputs": [
    {
     "data": {
      "text/plain": [
       "List(In, prokaryotic, translation, how, critical, for, efficient, translation, is, the, location, of, the, ribosome, binding, site, relative, to, the, start, codon, Ideally, it, is, supposed, to, be, -7, b, away, from, the, start, How, about, if, it, is, -9, bases, away, or, even, more, Will, this, have, an, observable, effect, on, translation)"
      ]
     },
     "execution_count": 42,
     "metadata": {},
     "output_type": "execute_result"
    }
   ],
   "source": [
    "w"
   ]
  },
  {
   "cell_type": "code",
   "execution_count": 37,
   "metadata": {
    "collapsed": false
   },
   "outputs": [
    {
     "data": {
      "text/plain": [
       "List((In,case,IN), (prokaryotic,amod,JJ), (translation,nmod:in,NN), (,,punct,,), (how,advmod,WRB), (critical,dep,JJ), (for,case,IN), (efficient,amod,JJ), (translation,nmod:for,NN), (is,root,VBZ), (the,det,DT), (location,nsubj,NN), (of,case,IN), (the,det,DT), (ribosome,compound,NN), (binding,compound,NN), (site,nmod:of,NN), (,,punct,,), (relative,amod,JJ), (to,case,TO), (the,det,DT), (start,compound,NN), (codon,nmod:to,NN), (?,punct,.), (Ideally,advmod,RB), (,,punct,,), (it,nsubj:xsubj,PRP), (is,auxpass,VBZ), (supposed,parataxis,VBN), (to,mark,TO), (be,cop,VB), (-7,nummod,CD), (b,xcomp,NN), (away,advmod,RB), (from,case,IN), (the,det,DT), (start,nmod:from,NN), (.,punct,.), (How,advmod,WRB), (about,advmod,RB), (if,mark,IN), (it,nsubj,PRP), (is,cop,VB..."
      ]
     },
     "execution_count": 37,
     "metadata": {},
     "output_type": "execute_result"
    }
   ],
   "source": [
    "a.toList"
   ]
  },
  {
   "cell_type": "code",
   "execution_count": 16,
   "metadata": {
    "collapsed": true
   },
   "outputs": [],
   "source": [
    "import collection.JavaConverters._"
   ]
  },
  {
   "cell_type": "code",
   "execution_count": 3,
   "metadata": {
    "collapsed": false
   },
   "outputs": [],
   "source": [
    "def toTuple[A <: Object](as:List[A]):Product = {\n",
    "  val tupleClass = Class.forName(\"scala.Tuple\" + as.size)\n",
    "  tupleClass.getConstructors.apply(0).newInstance(as:_*).asInstanceOf[Product]\n",
    "}"
   ]
  },
  {
   "cell_type": "code",
   "execution_count": 4,
   "metadata": {
    "collapsed": false
   },
   "outputs": [],
   "source": [
    "def nGramsTup[A <: Object](n: Int, in: List[A]): List[Product] = \n",
    "{\n",
    "    in.sliding(n).map(toTuple).toList\n",
    "}\n",
    "\n",
    "def nGramList[A](n: Int, in: List[A]): List[List[A]] = \n",
    "{\n",
    "    in.sliding(n).map(_.toList).toList\n",
    "}"
   ]
  },
  {
   "cell_type": "code",
   "execution_count": 5,
   "metadata": {
    "collapsed": true
   },
   "outputs": [],
   "source": [
    "val t = List(\"abc\", \"def\", \"ghi\", \"jkl\", \"mno\", \"pqr\")"
   ]
  },
  {
   "cell_type": "code",
   "execution_count": 6,
   "metadata": {
    "collapsed": false
   },
   "outputs": [
    {
     "data": {
      "text/plain": [
       "List((abc,def,ghi), (def,ghi,jkl), (ghi,jkl,mno), (jkl,mno,pqr))"
      ]
     },
     "execution_count": 6,
     "metadata": {},
     "output_type": "execute_result"
    }
   ],
   "source": [
    "nGramsTup(3, t)"
   ]
  },
  {
   "cell_type": "code",
   "execution_count": 7,
   "metadata": {
    "collapsed": false
   },
   "outputs": [],
   "source": [
    "val grams = (1 to 5).flatMap(nGramList(_, t))"
   ]
  },
  {
   "cell_type": "code",
   "execution_count": 8,
   "metadata": {
    "collapsed": false
   },
   "outputs": [
    {
     "data": {
      "text/plain": [
       "Vector(abc, def, ghi, jkl, mno, pqr, abc-def, def-ghi, ghi-jkl, jkl-mno, mno-pqr, abc-def-ghi, def-ghi-jkl, ghi-jkl-mno, jkl-mno-pqr, abc-def-ghi-jkl, def-ghi-jkl-mno, ghi-jkl-mno-pqr, abc-def-ghi-jkl-mno, def-ghi-jkl-mno-pqr)"
      ]
     },
     "execution_count": 8,
     "metadata": {},
     "output_type": "execute_result"
    }
   ],
   "source": [
    "grams.map(_.mkString(\"-\"))"
   ]
  },
  {
   "cell_type": "markdown",
   "metadata": {},
   "source": [
    "## Manipulation Steps\n",
    "- Get pos tags\n",
    "- Make `(word,pos)`, `(word dep)` tuples\n",
    "- Make nGrams for n 1 through 5"
   ]
  },
  {
   "cell_type": "code",
   "execution_count": 15,
   "metadata": {
    "collapsed": false
   },
   "outputs": [
    {
     "data": {
      "text/plain": [
       "Name: Compile Error\n",
       "Message: <console>:22: error: type mismatch;\n",
       " found   : Unit\n",
       " required: TrainingFeatures\n",
       "       {\n",
       "       ^\n",
       "StackTrace: "
      ]
     },
     "execution_count": 15,
     "metadata": {},
     "output_type": "execute_result"
    }
   ],
   "source": [
    "/*\n",
    "    Returns Seq of case classes  with the following entries\n",
    "    posTags: String = string of - delimited pos tags for this ngram\n",
    "    depTags: String = string of - delimited dependency tags for this ngram\n",
    "    relPos: Double[0,1] = relative position of first element of the ngra,\n",
    "    numWords: Int = length of the ngram\n",
    "    isTitle: Boolean = indicates if this\n",
    "    isTag: Boolean = target classification value, inidcates if this ngram is a tag\n",
    "\n",
    "*/\n",
    "\n",
    "case class TrainingFeatures(nGram: String, posTags: String, depTags: String, relPos: Double, numWords: Int, isTitle: Boolean, isTag: Boolean)\n",
    "\n",
    "case class StdFeatures(nGram: String, posTags: String, depTags: String, relPos: Double, numWords: Int, isTitle: Boolean)\n",
    "\n",
    "def mkTrFeat(s: StdFeatures, isTag: Boolean): TrainingFeatures = \n",
    "                TrainingFeatures(s.nGram, s.posTags, s.depTags, s.relPos, s.numWords, s.isTitle, isTag)\n",
    "\n",
    "/* OR I can use a UDF to make the transition */\n",
    "\n",
    "def makeTrainingFeatures(n: Int)(title: String, content: String, tags: List[String]): TrainingFeatures =\n",
    "{\n",
    "    /* get standard features */\n",
    "    \n",
    "    /* apply tags and return training features*/\n",
    "    \n",
    "}\n",
    "\n",
    "def makeStdFeatures(n: Int)(title: String, content: String): Seq[StdFeatures] = \n",
    "{\n",
    "    // mk sentence\n",
    "    val s = new Sentence(post)\n",
    "    \n",
    "    // mk dep/ pos lists\n",
    "    var w_d_p: List[(String, String, String)] = \n",
    "               (s.words.asScala, s.incomingDependencyLabels.asScala.map(_.get.toString), s.posTags.asScala).zipped.toList\n",
    "\n",
    "    // filter punuation, unzip\n",
    "    val (w, d, p) = w_d_p.filterNot(_._2 == \"punct\").unzip3\n",
    "    \n",
    "    // calc rel pos\n",
    "    val relPos = (0 until w.length).map(_/w.length)\n",
    "    \n",
    "    (1 to n).flatMap{nGramLen =>\n",
    "        \n",
    "    }\n",
    "    \n",
    "    // mk ngrams, ADD to master list\n",
    "    \n",
    "    // uxe transpose on list of lists, mk output objects\n",
    "}\n",
    "\n",
    "val punctReg = \"\"\"[\\p{Punct}]\"\"\".r\n",
    "def isPunc(s: String): Boolean =\n",
    "{\n",
    "    punctReg.findFirstIn(s).isDefined\n",
    "}"
   ]
  },
  {
   "cell_type": "code",
   "execution_count": 4,
   "metadata": {
    "collapsed": true
   },
   "outputs": [],
   "source": [
    "case class A(x: Int, y: String)\n",
    "case class B(a: A, z: Double)"
   ]
  },
  {
   "cell_type": "code",
   "execution_count": 2,
   "metadata": {
    "collapsed": true
   },
   "outputs": [],
   "source": [
    "val sqlContext = org.apache.spark.sql.SQLContext.getOrCreate(sc)\n",
    "import sqlContext.implicits._"
   ]
  },
  {
   "cell_type": "code",
   "execution_count": 8,
   "metadata": {
    "collapsed": false
   },
   "outputs": [
    {
     "data": {
      "text/plain": [
       "Name: Compile Error\n",
       "Message: <console>:30: error: not enough arguments for method withColumn: (colName: String, col: org.apache.spark.sql.Column)org.apache.spark.sql.DataFrame.\n",
       "Unspecified value parameter col.\n",
       "              Seq(B(A(1,\"2\"),3d)).toDF.withColumn(explode($\"a\"))\n",
       "                                                 ^\n",
       "StackTrace: "
      ]
     },
     "execution_count": 8,
     "metadata": {},
     "output_type": "execute_result"
    }
   ],
   "source": [
    "Seq(B(A(1,\"2\"),3d))"
   ]
  },
  {
   "cell_type": "code",
   "execution_count": 11,
   "metadata": {
    "collapsed": false
   },
   "outputs": [
    {
     "data": {
      "text/plain": [
       "(List(1),List(2),List(3))"
      ]
     },
     "execution_count": 11,
     "metadata": {},
     "output_type": "execute_result"
    }
   ],
   "source": [
    "List((1,2,3)).unzip3"
   ]
  },
  {
   "cell_type": "code",
   "execution_count": 20,
   "metadata": {
    "collapsed": false
   },
   "outputs": [
    {
     "data": {
      "text/plain": [
       "List((0,a,10), (1,b,11), (2,c,12), (3,d,13), (4,e,14), (5,f,15))"
      ]
     },
     "execution_count": 20,
     "metadata": {},
     "output_type": "execute_result"
    }
   ],
   "source": [
    "(0 to 5, 'a' to 'f', 10 to 15).zipped.toList"
   ]
  },
  {
   "cell_type": "code",
   "execution_count": null,
   "metadata": {
    "collapsed": true
   },
   "outputs": [],
   "source": []
  }
 ],
 "metadata": {
  "kernelspec": {
   "display_name": "Apache Toree - Scala",
   "language": "scala",
   "name": "apache_toree_scala"
  },
  "language_info": {
   "name": "scala",
   "version": "2.10.4"
  }
 },
 "nbformat": 4,
 "nbformat_minor": 0
}
