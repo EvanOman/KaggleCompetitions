{
 "cells": [
  {
   "cell_type": "code",
   "execution_count": 1,
   "metadata": {
    "collapsed": false
   },
   "outputs": [
    {
     "name": "stdout",
     "output_type": "stream",
     "text": [
      "Marking edu.stanford.nlp:stanford-corenlp:3.7.0 for download\n",
      "Preparing to fetch from:\n",
      "-> file:/tmp/toree_add_deps6042086609772552663/\n",
      "-> https://repo1.maven.org/maven2\n",
      "-> New file at /tmp/toree_add_deps6042086609772552663/https/repo1.maven.org/maven2/edu/stanford/nlp/stanford-corenlp/3.7.0/stanford-corenlp-3.7.0.jar\n",
      "Marking com.google.protobuf:protobuf-java:2.6.1 for download\n",
      "Preparing to fetch from:\n",
      "-> file:/tmp/toree_add_deps6042086609772552663/\n",
      "-> https://repo1.maven.org/maven2\n",
      "-> New file at /tmp/toree_add_deps6042086609772552663/https/repo1.maven.org/maven2/com/google/protobuf/protobuf-java/2.6.1/protobuf-java-2.6.1.jar\n",
      "Starting download from file:lib/corenlp-models.jar\n",
      "Finished download of corenlp-models.jar\n"
     ]
    }
   ],
   "source": [
    "%AddDeps edu.stanford.nlp stanford-corenlp 3.7.0\n",
    "%AddDeps com.google.protobuf protobuf-java 2.6.1\n",
    "\n",
    "// Non-repo dependencies \n",
    "%AddJar file:lib/corenlp-models.jar"
   ]
  },
  {
   "cell_type": "code",
   "execution_count": 2,
   "metadata": {
    "collapsed": true
   },
   "outputs": [],
   "source": [
    "import edu.stanford.nlp.simple.Sentence\n",
    "import edu.stanford.nlp.semgraph.SemanticGraph"
   ]
  },
  {
   "cell_type": "code",
   "execution_count": 3,
   "metadata": {
    "collapsed": true
   },
   "outputs": [],
   "source": [
    "val post = \"In prokaryotic translation, how critical for efficient translation is the location of the ribosome binding site, relative to the start codon? Ideally, it is supposed to be -7b away from the start. How about if it is -9 bases away or even more? Will this have an observable effect on translation?\""
   ]
  },
  {
   "cell_type": "code",
   "execution_count": 6,
   "metadata": {
    "collapsed": false
   },
   "outputs": [],
   "source": [
    "val s = new Sentence(post)"
   ]
  },
  {
   "cell_type": "code",
   "execution_count": 7,
   "metadata": {
    "collapsed": false
   },
   "outputs": [
    {
     "data": {
      "text/plain": [
       "[IN, JJ, NN, ,, WRB, JJ, IN, JJ, NN, VBZ, DT, NN, IN, DT, NN, NN, NN, ,, JJ, TO, DT, NN, NN, ., RB, ,, PRP, VBZ, VBN, TO, VB, CD, NN, RB, IN, DT, NN, ., WRB, RB, IN, PRP, VBZ, CD, NNS, RB, CC, RB, RBR, ., MD, DT, VB, DT, JJ, NN, IN, NN, .]"
      ]
     },
     "execution_count": 7,
     "metadata": {},
     "output_type": "execute_result"
    }
   ],
   "source": [
    "s. s.posTags"
   ]
  },
  {
   "cell_type": "code",
   "execution_count": 16,
   "metadata": {
    "collapsed": true
   },
   "outputs": [],
   "source": [
    "import collection.JavaConverters._"
   ]
  },
  {
   "cell_type": "code",
   "execution_count": 17,
   "metadata": {
    "collapsed": false
   },
   "outputs": [
    {
     "data": {
      "text/plain": [
       "ArrayBuffer((In,IN), (prokaryotic,JJ), (translation,NN), (,,,), (how,WRB), (critical,JJ), (for,IN), (efficient,JJ), (translation,NN), (is,VBZ), (the,DT), (location,NN), (of,IN), (the,DT), (ribosome,NN), (binding,NN), (site,NN), (,,,), (relative,JJ), (to,TO), (the,DT), (start,NN), (codon,NN), (?,.), (Ideally,RB), (,,,), (it,PRP), (is,VBZ), (supposed,VBN), (to,TO), (be,VB), (-7,CD), (b,NN), (away,RB), (from,IN), (the,DT), (start,NN), (.,.), (How,WRB), (about,RB), (if,IN), (it,PRP), (is,VBZ), (-9,CD), (bases,NNS), (away,RB), (or,CC), (even,RB), (more,RBR), (?,.), (Will,MD), (this,DT), (have,VB), (an,DT), (observable,JJ), (effect,NN), (on,IN), (translation,NN), (?,.))"
      ]
     },
     "execution_count": 17,
     "metadata": {},
     "output_type": "execute_result"
    }
   ],
   "source": [
    "s.words.asScala.zip(s.posTags.asScala)"
   ]
  },
  {
   "cell_type": "code",
   "execution_count": 46,
   "metadata": {
    "collapsed": false
   },
   "outputs": [
    {
     "data": {
      "text/plain": [
       "ArrayBuffer((In,case), (prokaryotic,amod), (translation,nmod:in), (,,punct), (how,advmod), (critical,dep), (for,case), (efficient,amod), (translation,nmod:for), (is,root), (the,det), (location,nsubj), (of,case), (the,det), (ribosome,compound), (binding,compound), (site,nmod:of), (,,punct), (relative,amod), (to,case), (the,det), (start,compound), (codon,nmod:to), (?,punct), (Ideally,advmod), (,,punct), (it,nsubj:xsubj), (is,auxpass), (supposed,parataxis), (to,mark), (be,cop), (-7,nummod), (b,xcomp), (away,advmod), (from,case), (the,det), (start,nmod:from), (.,punct), (How,advmod), (about,advmod), (if,mark), (it,nsubj), (is,cop), (-9,nummod), (bases,dep), (away,compound:prt), (or,cc), (even,advmod), (more,conj:or), (?,punct), (Wil..."
      ]
     },
     "execution_count": 46,
     "metadata": {},
     "output_type": "execute_result"
    }
   ],
   "source": [
    "s.words.asScala.zip(s.incomingDependencyLabels.asScala.map(_.get))"
   ]
  },
  {
   "cell_type": "code",
   "execution_count": 50,
   "metadata": {
    "collapsed": false
   },
   "outputs": [
    {
     "data": {
      "text/plain": [
       "List(ArrayBuffer(In, prokaryotic), ArrayBuffer(prokaryotic, translation), ArrayBuffer(translation, ,), ArrayBuffer(,, how), ArrayBuffer(how, critical), ArrayBuffer(critical, for), ArrayBuffer(for, efficient), ArrayBuffer(efficient, translation), ArrayBuffer(translation, is), ArrayBuffer(is, the), ArrayBuffer(the, location), ArrayBuffer(location, of), ArrayBuffer(of, the), ArrayBuffer(the, ribosome), ArrayBuffer(ribosome, binding), ArrayBuffer(binding, site), ArrayBuffer(site, ,), ArrayBuffer(,, relative), ArrayBuffer(relative, to), ArrayBuffer(to, the), ArrayBuffer(the, start), ArrayBuffer(start, codon), ArrayBuffer(codon, ?), ArrayBuffer(?, Ideally), ArrayBuffer(Ideally, ,), ArrayBuffer(,, it), ArrayBuffer(it, is), ArrayBuffer(is, ..."
      ]
     },
     "execution_count": 50,
     "metadata": {},
     "output_type": "execute_result"
    }
   ],
   "source": [
    "s.words.asScala.sliding(2).toList"
   ]
  },
  {
   "cell_type": "code",
   "execution_count": 53,
   "metadata": {
    "collapsed": false
   },
   "outputs": [],
   "source": [
    "def toTuple[A <: Object](as:List[A]):Product = {\n",
    "  val tupleClass = Class.forName(\"scala.Tuple\" + as.size)\n",
    "  tupleClass.getConstructors.apply(0).newInstance(as:_*).asInstanceOf[Product]\n",
    "}"
   ]
  },
  {
   "cell_type": "code",
   "execution_count": 60,
   "metadata": {
    "collapsed": false
   },
   "outputs": [],
   "source": [
    "def nGramsTup[A <: Object](n: Int, in: List[A]): List[Product] = \n",
    "{\n",
    "    in.sliding(n).map(toTuple).toList\n",
    "}\n",
    "\n",
    "def nGramList[A](n: Int, in: List[A]): List[List[A]] = \n",
    "{\n",
    "    in.sliding(n).map(_.toList).toList\n",
    "}"
   ]
  },
  {
   "cell_type": "code",
   "execution_count": 62,
   "metadata": {
    "collapsed": true
   },
   "outputs": [],
   "source": [
    "val t = List(\"abc\", \"def\", \"ghi\", \"jkl\", \"mno\", \"pqr\")"
   ]
  },
  {
   "cell_type": "code",
   "execution_count": 63,
   "metadata": {
    "collapsed": false
   },
   "outputs": [
    {
     "data": {
      "text/plain": [
       "List((abc,def,ghi), (def,ghi,jkl), (ghi,jkl,mno), (jkl,mno,pqr))"
      ]
     },
     "execution_count": 63,
     "metadata": {},
     "output_type": "execute_result"
    }
   ],
   "source": [
    "nGramsTup(3, t)"
   ]
  },
  {
   "cell_type": "code",
   "execution_count": 66,
   "metadata": {
    "collapsed": false
   },
   "outputs": [],
   "source": [
    "val grams = (1 to 5).flatMap(nGramList(_, t))"
   ]
  },
  {
   "cell_type": "code",
   "execution_count": 73,
   "metadata": {
    "collapsed": false
   },
   "outputs": [
    {
     "data": {
      "text/plain": [
       "Vector(abc, def, ghi, jkl, mno, pqr, abc-def, def-ghi, ghi-jkl, jkl-mno, mno-pqr, abc-def-ghi, def-ghi-jkl, ghi-jkl-mno, jkl-mno-pqr, abc-def-ghi-jkl, def-ghi-jkl-mno, ghi-jkl-mno-pqr, abc-def-ghi-jkl-mno, def-ghi-jkl-mno-pqr)"
      ]
     },
     "execution_count": 73,
     "metadata": {},
     "output_type": "execute_result"
    }
   ],
   "source": [
    "grams.map(_.mkString(\"-\"))"
   ]
  },
  {
   "cell_type": "markdown",
   "metadata": {},
   "source": [
    "## Manipulation Steps\n",
    "- Get pos tags\n",
    "- Make `(word,pos)`, `(word dep)` tuples\n",
    "- Make nGrams for n 1 through 5"
   ]
  },
  {
   "cell_type": "code",
   "execution_count": null,
   "metadata": {
    "collapsed": true
   },
   "outputs": [],
   "source": []
  }
 ],
 "metadata": {
  "kernelspec": {
   "display_name": "Apache Toree - Scala",
   "language": "scala",
   "name": "apache_toree_scala"
  },
  "language_info": {
   "name": "scala",
   "version": "2.10.4"
  }
 },
 "nbformat": 4,
 "nbformat_minor": 0
}
