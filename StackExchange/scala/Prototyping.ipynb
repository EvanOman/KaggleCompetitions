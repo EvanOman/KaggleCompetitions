{
 "cells": [
  {
   "cell_type": "code",
   "execution_count": 1,
   "metadata": {
    "collapsed": false
   },
   "outputs": [
    {
     "name": "stdout",
     "output_type": "stream",
     "text": [
      "Marking edu.stanford.nlp:stanford-corenlp:3.7.0 for download\n",
      "Preparing to fetch from:\n",
      "-> file:/tmp/toree_add_deps5663756416182231079/\n",
      "-> https://repo1.maven.org/maven2\n",
      "-> New file at /tmp/toree_add_deps5663756416182231079/https/repo1.maven.org/maven2/edu/stanford/nlp/stanford-corenlp/3.7.0/stanford-corenlp-3.7.0.jar\n",
      "Marking com.google.protobuf:protobuf-java:2.6.1 for download\n",
      "Preparing to fetch from:\n",
      "-> file:/tmp/toree_add_deps5663756416182231079/\n",
      "-> https://repo1.maven.org/maven2\n",
      "-> New file at /tmp/toree_add_deps5663756416182231079/https/repo1.maven.org/maven2/com/google/protobuf/protobuf-java/2.6.1/protobuf-java-2.6.1.jar\n",
      "Starting download from file:lib/corenlp-models.jar\n",
      "Finished download of corenlp-models.jar\n"
     ]
    }
   ],
   "source": [
    "%AddDeps edu.stanford.nlp stanford-corenlp 3.7.0\n",
    "%AddDeps com.google.protobuf protobuf-java 2.6.1\n",
    "\n",
    "// Non-repo dependencies \n",
    "%AddJar file:lib/corenlp-models.jar"
   ]
  },
  {
   "cell_type": "code",
   "execution_count": 9,
   "metadata": {
    "collapsed": true
   },
   "outputs": [],
   "source": [
    "import edu.stanford.nlp.simple.Sentence\n",
    "import edu.stanford.nlp.simple.Document\n",
    "import collection.JavaConverters._"
   ]
  },
  {
   "cell_type": "code",
   "execution_count": 18,
   "metadata": {
    "collapsed": true
   },
   "outputs": [],
   "source": [
    "val s = new Sentence(\"winning-greatest-the-is\".replace(\"-\", \" \"))"
   ]
  },
  {
   "cell_type": "code",
   "execution_count": 19,
   "metadata": {
    "collapsed": false
   },
   "outputs": [
    {
     "data": {
      "text/plain": [
       "Buffer(win, greatest, the, be)"
      ]
     },
     "execution_count": 19,
     "metadata": {},
     "output_type": "execute_result"
    }
   ],
   "source": [
    "s.lemmas.asScala"
   ]
  },
  {
   "cell_type": "code",
   "execution_count": 1,
   "metadata": {
    "collapsed": true
   },
   "outputs": [],
   "source": [
    "val (a, b,c, d) = (1,2,3,4)"
   ]
  },
  {
   "cell_type": "code",
   "execution_count": 4,
   "metadata": {
    "collapsed": false
   },
   "outputs": [],
   "source": [
    "import scala.collection.mutable.ArrayBuffer\n",
    "val a = ArrayBuffer[Int]()"
   ]
  },
  {
   "cell_type": "code",
   "execution_count": 7,
   "metadata": {
    "collapsed": false
   },
   "outputs": [
    {
     "data": {
      "text/plain": [
       "ArrayBuffer(2, 3, 3)"
      ]
     },
     "execution_count": 7,
     "metadata": {},
     "output_type": "execute_result"
    }
   ],
   "source": [
    "a += 3"
   ]
  },
  {
   "cell_type": "code",
   "execution_count": 18,
   "metadata": {
    "collapsed": false
   },
   "outputs": [
    {
     "data": {
      "text/plain": [
       "Vector((1,11), (1,12), (1,13), (1,14), (1,15), (2,11), (2,12), (2,13), (2,14), (2,15), (3,11), (3,12), (3,13), (3,14), (3,15), (4,11), (4,12), (4,13), (4,14), (4,15), (5,11), (5,12), (5,13), (5,14), (5,15))"
      ]
     },
     "execution_count": 18,
     "metadata": {},
     "output_type": "execute_result"
    }
   ],
   "source": [
    "for (a <- 1 to 5; b <- 11 to 15) yield (a, b)"
   ]
  },
  {
   "cell_type": "code",
   "execution_count": 13,
   "metadata": {
    "collapsed": false
   },
   "outputs": [],
   "source": [
    "import scala.collection.mutable.ArrayBuffer\n",
    "def unzip4[A, B, C, D](in: List[(A, B, C, D)]): (List[A], List[B], List[C], List[D]) = \n",
    "{\n",
    "    val a_a = ArrayBuffer[A]()\n",
    "    val a_b = ArrayBuffer[B]()\n",
    "    val a_c = ArrayBuffer[C]()\n",
    "    val a_d = ArrayBuffer[D]()\n",
    "    for ((a,b,c,d) <- in)\n",
    "    {\n",
    "        a_a += a\n",
    "        a_b += b\n",
    "        a_c += c\n",
    "        a_d += d\n",
    "    }\n",
    "    (a_a.toList, a_b.toList, a_c.toList, a_d.toList)\n",
    "}"
   ]
  },
  {
   "cell_type": "code",
   "execution_count": 14,
   "metadata": {
    "collapsed": true
   },
   "outputs": [],
   "source": [
    "val (a, b, c, d) = unzip4(List((\"a\", 1, 2, 3d), (\"b\", 4, 5, 6d)))"
   ]
  },
  {
   "cell_type": "code",
   "execution_count": 23,
   "metadata": {
    "collapsed": false
   },
   "outputs": [],
   "source": [
    "val a = new StringBuffer()"
   ]
  },
  {
   "cell_type": "code",
   "execution_count": 29,
   "metadata": {
    "collapsed": false
   },
   "outputs": [],
   "source": [
    "var a = true"
   ]
  },
  {
   "cell_type": "code",
   "execution_count": 30,
   "metadata": {
    "collapsed": false
   },
   "outputs": [],
   "source": [
    "a ||= false"
   ]
  },
  {
   "cell_type": "code",
   "execution_count": 31,
   "metadata": {
    "collapsed": false
   },
   "outputs": [
    {
     "data": {
      "text/plain": [
       "true"
      ]
     },
     "execution_count": 31,
     "metadata": {},
     "output_type": "execute_result"
    }
   ],
   "source": [
    "a"
   ]
  },
  {
   "cell_type": "code",
   "execution_count": 22,
   "metadata": {
    "collapsed": false
   },
   "outputs": [],
   "source": [
    "import edu.staanfaord.nlp.simple.Sentence\n",
    "import edu.stanford.nlp.simple.Document\n",
    "import edu.stanford.nlp.semgraph.SemanticGraph"
   ]
  },
  {
   "cell_type": "code",
   "execution_count": 3,
   "metadata": {
    "collapsed": true
   },
   "outputs": [],
   "source": [
    "val post = \"In prokaryotic translation, how critical for efficient translation is the location of the ribosome binding site, relative to the start codon? Ideally, it is supposed to be -7b away from the start. How about if it is -9 bases away or even more? Will this have an observable effect on translation?\""
   ]
  },
  {
   "cell_type": "code",
   "execution_count": 26,
   "metadata": {
    "collapsed": false
   },
   "outputs": [
    {
     "data": {
      "text/plain": [
       "List(This, is, a, Test)"
      ]
     },
     "execution_count": 26,
     "metadata": {},
     "output_type": "execute_result"
    }
   ],
   "source": [
    "import collection.JavaConverters._\n",
    "val s = new Sentence(\"This is a Test\")\n",
    "s.words.asScala.toList"
   ]
  },
  {
   "cell_type": "code",
   "execution_count": 29,
   "metadata": {
    "collapsed": false
   },
   "outputs": [
    {
     "data": {
      "text/plain": [
       "Name: Compile Error\n",
       "Message: <console>:45: error: No implicit view available from (Int, Int, Int, Int) => (A1, A2).\n",
       "         val (a,b,c) = List((1,2,3,4), (4,5,6,7), (7,8,9,10)).unzip\n",
       "                                                              ^\n",
       "StackTrace: "
      ]
     },
     "execution_count": 29,
     "metadata": {},
     "output_type": "execute_result"
    }
   ],
   "source": [
    "val (a,b,c) = List((1,2,3,4), (4,5,6,7), (7,8,9,10)).unzip\n",
    "println(a.mkString(\"-\"))"
   ]
  },
  {
   "cell_type": "code",
   "execution_count": 50,
   "metadata": {
    "collapsed": false
   },
   "outputs": [
    {
     "data": {
      "text/plain": [
       "false"
      ]
     },
     "execution_count": 50,
     "metadata": {},
     "output_type": "execute_result"
    }
   ],
   "source": [
    "List(false, false, false).exists(identity)"
   ]
  },
  {
   "cell_type": "code",
   "execution_count": 12,
   "metadata": {
    "collapsed": false
   },
   "outputs": [
    {
     "data": {
      "text/plain": [
       "true"
      ]
     },
     "execution_count": 12,
     "metadata": {},
     "output_type": "execute_result"
    }
   ],
   "source": [
    "\"aBcd\".exists(_.isUpper)"
   ]
  },
  {
   "cell_type": "code",
   "execution_count": 19,
   "metadata": {
    "collapsed": false
   },
   "outputs": [
    {
     "data": {
      "text/plain": [
       "anc"
      ]
     },
     "execution_count": 19,
     "metadata": {},
     "output_type": "execute_result"
    }
   ],
   "source": [
    "\"ANC\".toLowerCase"
   ]
  },
  {
   "cell_type": "code",
   "execution_count": 6,
   "metadata": {
    "collapsed": false
   },
   "outputs": [
    {
     "data": {
      "text/plain": [
       "Vector(97, 99, 101, 103, 105, 107, 109, 111, 113, 115, 117)"
      ]
     },
     "execution_count": 6,
     "metadata": {},
     "output_type": "execute_result"
    }
   ],
   "source": [
    "val a = 0 to 10 zip('a' to 'w')\n",
    "a.map{case (x: Int, y: Char) => x+y}"
   ]
  },
  {
   "cell_type": "code",
   "execution_count": 20,
   "metadata": {
    "collapsed": false
   },
   "outputs": [],
   "source": [
    "import collection.JavaConverters._\n",
    "// mk dep/ pos lists\n",
    "var w_d_p: List[(String, String, String)] = \n",
    "           (s.words.asScala, s.incomingDependencyLabels.asScala.map(_.get.toString), s.posTags.asScala).zipped.toList\n",
    "\n",
    "// filter punuation, unzip\n",
    "val (w, d, p) = w_d_p.filterNot(_._2 == \"punct\").unzip3"
   ]
  },
  {
   "cell_type": "code",
   "execution_count": 42,
   "metadata": {
    "collapsed": false
   },
   "outputs": [
    {
     "data": {
      "text/plain": [
       "List(In, prokaryotic, translation, how, critical, for, efficient, translation, is, the, location, of, the, ribosome, binding, site, relative, to, the, start, codon, Ideally, it, is, supposed, to, be, -7, b, away, from, the, start, How, about, if, it, is, -9, bases, away, or, even, more, Will, this, have, an, observable, effect, on, translation)"
      ]
     },
     "execution_count": 42,
     "metadata": {},
     "output_type": "execute_result"
    }
   ],
   "source": [
    "w"
   ]
  },
  {
   "cell_type": "code",
   "execution_count": 37,
   "metadata": {
    "collapsed": false
   },
   "outputs": [
    {
     "data": {
      "text/plain": [
       "List((In,case,IN), (prokaryotic,amod,JJ), (translation,nmod:in,NN), (,,punct,,), (how,advmod,WRB), (critical,dep,JJ), (for,case,IN), (efficient,amod,JJ), (translation,nmod:for,NN), (is,root,VBZ), (the,det,DT), (location,nsubj,NN), (of,case,IN), (the,det,DT), (ribosome,compound,NN), (binding,compound,NN), (site,nmod:of,NN), (,,punct,,), (relative,amod,JJ), (to,case,TO), (the,det,DT), (start,compound,NN), (codon,nmod:to,NN), (?,punct,.), (Ideally,advmod,RB), (,,punct,,), (it,nsubj:xsubj,PRP), (is,auxpass,VBZ), (supposed,parataxis,VBN), (to,mark,TO), (be,cop,VB), (-7,nummod,CD), (b,xcomp,NN), (away,advmod,RB), (from,case,IN), (the,det,DT), (start,nmod:from,NN), (.,punct,.), (How,advmod,WRB), (about,advmod,RB), (if,mark,IN), (it,nsubj,PRP), (is,cop,VB..."
      ]
     },
     "execution_count": 37,
     "metadata": {},
     "output_type": "execute_result"
    }
   ],
   "source": [
    "a.toList"
   ]
  },
  {
   "cell_type": "code",
   "execution_count": 16,
   "metadata": {
    "collapsed": true
   },
   "outputs": [],
   "source": [
    "import collection.JavaConverters._"
   ]
  },
  {
   "cell_type": "code",
   "execution_count": 3,
   "metadata": {
    "collapsed": false
   },
   "outputs": [],
   "source": [
    "def toTuple[A <: Object](as:List[A]):Product = {\n",
    "  val tupleClass = Class.forName(\"scala.Tuple\" + as.size)\n",
    "  tupleClass.getConstructors.apply(0).newInstance(as:_*).asInstanceOf[Product]\n",
    "}"
   ]
  },
  {
   "cell_type": "code",
   "execution_count": 4,
   "metadata": {
    "collapsed": false
   },
   "outputs": [],
   "source": [
    "def nGramsTup[A <: Object](n: Int, in: List[A]): List[Product] = \n",
    "{\n",
    "    in.sliding(n).map(toTuple).toList\n",
    "}\n",
    "\n",
    "def nGramList[A](n: Int, in: List[A]): List[List[A]] = \n",
    "{\n",
    "    in.sliding(n).map(_.toList).toList\n",
    "}"
   ]
  },
  {
   "cell_type": "code",
   "execution_count": 5,
   "metadata": {
    "collapsed": true
   },
   "outputs": [],
   "source": [
    "val t = List(\"abc\", \"def\", \"ghi\", \"jkl\", \"mno\", \"pqr\")"
   ]
  },
  {
   "cell_type": "code",
   "execution_count": 6,
   "metadata": {
    "collapsed": false
   },
   "outputs": [
    {
     "data": {
      "text/plain": [
       "List((abc,def,ghi), (def,ghi,jkl), (ghi,jkl,mno), (jkl,mno,pqr))"
      ]
     },
     "execution_count": 6,
     "metadata": {},
     "output_type": "execute_result"
    }
   ],
   "source": [
    "nGramsTup(3, t)"
   ]
  },
  {
   "cell_type": "code",
   "execution_count": 7,
   "metadata": {
    "collapsed": false
   },
   "outputs": [],
   "source": [
    "val grams = (1 to 5).flatMap(nGramList(_, t))"
   ]
  },
  {
   "cell_type": "code",
   "execution_count": 8,
   "metadata": {
    "collapsed": false
   },
   "outputs": [
    {
     "data": {
      "text/plain": [
       "Vector(abc, def, ghi, jkl, mno, pqr, abc-def, def-ghi, ghi-jkl, jkl-mno, mno-pqr, abc-def-ghi, def-ghi-jkl, ghi-jkl-mno, jkl-mno-pqr, abc-def-ghi-jkl, def-ghi-jkl-mno, ghi-jkl-mno-pqr, abc-def-ghi-jkl-mno, def-ghi-jkl-mno-pqr)"
      ]
     },
     "execution_count": 8,
     "metadata": {},
     "output_type": "execute_result"
    }
   ],
   "source": [
    "grams.map(_.mkString(\"-\"))"
   ]
  },
  {
   "cell_type": "markdown",
   "metadata": {},
   "source": [
    "## Manipulation Steps\n",
    "- Get pos tags\n",
    "- Make `(word,pos)`, `(word dep)` tuples\n",
    "- Make nGrams for n 1 through 5"
   ]
  },
  {
   "cell_type": "code",
   "execution_count": 15,
   "metadata": {
    "collapsed": false
   },
   "outputs": [
    {
     "data": {
      "text/plain": [
       "Name: Compile Error\n",
       "Message: <console>:22: error: type mismatch;\n",
       " found   : Unit\n",
       " required: TrainingFeatures\n",
       "       {\n",
       "       ^\n",
       "StackTrace: "
      ]
     },
     "execution_count": 15,
     "metadata": {},
     "output_type": "execute_result"
    }
   ],
   "source": [
    "/*\n",
    "    Returns Seq of case classes  with the following entries\n",
    "    posTags: String = string of - delimited pos tags for this ngram\n",
    "    depTags: String = string of - delimited dependency tags for this ngram\n",
    "    relPos: Double[0,1] = relative position of first element of the ngra,\n",
    "    numWords: Int = length of the ngram\n",
    "    isTitle: Boolean = indicates if this\n",
    "    isTag: Boolean = target classification value, inidcates if this ngram is a tag\n",
    "\n",
    "*/\n",
    "\n",
    "case class TrainingFeatures(nGram: String, posTags: String, depTags: String, relPos: Double, numWords: Int, isTitle: Boolean, isTag: Boolean)\n",
    "\n",
    "case class StdFeatures(nGram: String, posTags: String, depTags: String, relPos: Double, numWords: Int, isTitle: Boolean)\n",
    "\n",
    "def mkTrFeat(s: StdFeatures, isTag: Boolean): TrainingFeatures = \n",
    "                TrainingFeatures(s.nGram, s.posTags, s.depTags, s.relPos, s.numWords, s.isTitle, isTag)\n",
    "\n",
    "/* OR I can use a UDF to make the transition */\n",
    "\n",
    "def makeTrainingFeatures(n: Int)(title: String, content: String, tags: List[String]): TrainingFeatures =\n",
    "{\n",
    "    /* get standard features */\n",
    "    \n",
    "    /* apply tags and return training features*/\n",
    "    \n",
    "}\n",
    "\n",
    "// LDP is just a lemma, dependency, part of speech triple\n",
    "type LDP = (String, String, String)\n",
    "\n",
    "def makeStdFeatures(n: Int)(title: String, content: String): Seq[StdFeatures] = \n",
    "{\n",
    "    // mk post sentence\n",
    "    val post_sents = (new Document(post)).sentences.asScala\n",
    "    \n",
    "    // mk title sentence\n",
    "    val title_sents = (new Document(title)).sentences.asScala\n",
    "    \n",
    "    // gather lemmas, pos tags, deps\n",
    "    // these features will be also be ngrammed \n",
    "    val post_feats: List[(List[LDP], Boolean)] = post_sents.map((mkLPDlists(_).zipped, false))\n",
    "    val title_feats: List[(List[LDP], Boolean)] = title_sents.map((mkLPDlists(_).zipped, true))\n",
    "    \n",
    "    /* N-Grammable features (plus isTitle)*/\n",
    "    val gram_feats_it: List[(List[LDP], Boolean)] = post_feats ++ title_feats\n",
    "    \n",
    "    // mk dep/ pos lists\n",
    "    var w_d_p: List[(String, String, String)] = \n",
    "               (s.words.asScala, s.incomingDependencyLabels.asScala.map(_.get.toString), s.posTags.asScala).zipped.toList\n",
    "\n",
    "    // filter punuation, unzip\n",
    "    val (w, d, p) = w_d_p.filterNot(_._2 == \"punct\").unzip3\n",
    "    \n",
    "    // calc rel pos\n",
    "    val relPos = (0 until w.length).map(_/w.length)\n",
    "    \n",
    "    (1 to n).flatMap{nGramLen =>\n",
    "        gram_feats_it.flatMap{ \n",
    "            /* make n grams from n-grammable items */\n",
    "            \n",
    "        }\n",
    "    }\n",
    "    \n",
    "    // mk ngrams, ADD to master list\n",
    "    \n",
    "    // uxe transpose on list of lists, mk output objects\n",
    "}\n",
    "\n",
    "def mkLPDlists(s: Sentence): List[LDP_T] = \n",
    "{\n",
    "    val trips = (s.lemmas.asScala, s.incomingDependencyLabels.asScala.map(_.get.toString), s.posTags.asScala).zipped\n",
    "    trips.filterNot(_._2 == \"punct\")\n",
    "}\n",
    "\n",
    "val punctReg = \"\"\"[\\p{Punct}]\"\"\".r\n",
    "def isPunc(s: String): Boolean =\n",
    "{\n",
    "    punctReg.findFirstIn(s).isDefined\n",
    "}"
   ]
  },
  {
   "cell_type": "code",
   "execution_count": 9,
   "metadata": {
    "collapsed": false
   },
   "outputs": [
    {
     "data": {
      "text/plain": [
       "scala.runtime.Tuple3Zipped@cd084b7e"
      ]
     },
     "execution_count": 9,
     "metadata": {},
     "output_type": "execute_result"
    }
   ],
   "source": [
    "(List(1), List(2), List(3)).zipped"
   ]
  },
  {
   "cell_type": "code",
   "execution_count": 28,
   "metadata": {
    "collapsed": false
   },
   "outputs": [],
   "source": [
    "val a = new Document(\"This is the first sentence. This is the second sentence.\" )"
   ]
  },
  {
   "cell_type": "code",
   "execution_count": 35,
   "metadata": {
    "collapsed": false
   },
   "outputs": [
    {
     "data": {
      "text/plain": [
       "ArrayBuffer(DT, VBZ, DT, JJ, NN, ., DT, VBZ, DT, JJ, NN, .)"
      ]
     },
     "execution_count": 35,
     "metadata": {},
     "output_type": "execute_result"
    }
   ],
   "source": [
    "a.sentences.asScala.flatMap(_.incom.asScala)"
   ]
  },
  {
   "cell_type": "code",
   "execution_count": 37,
   "metadata": {
    "collapsed": false
   },
   "outputs": [],
   "source": [
    "type NUM = Int"
   ]
  },
  {
   "cell_type": "code",
   "execution_count": 38,
   "metadata": {
    "collapsed": true
   },
   "outputs": [],
   "source": [
    "val a: NUM = 2"
   ]
  },
  {
   "cell_type": "code",
   "execution_count": 39,
   "metadata": {
    "collapsed": false
   },
   "outputs": [
    {
     "data": {
      "text/plain": [
       "2"
      ]
     },
     "execution_count": 39,
     "metadata": {},
     "output_type": "execute_result"
    }
   ],
   "source": [
    "a"
   ]
  },
  {
   "cell_type": "code",
   "execution_count": 41,
   "metadata": {
    "collapsed": false
   },
   "outputs": [
    {
     "data": {
      "text/plain": [
       "Vector(0, 2, 4, 6, 8, 10)"
      ]
     },
     "execution_count": 41,
     "metadata": {},
     "output_type": "execute_result"
    }
   ],
   "source": [
    "0 to 10 filter(_ % 2 == 0) "
   ]
  },
  {
   "cell_type": "code",
   "execution_count": null,
   "metadata": {
    "collapsed": true
   },
   "outputs": [],
   "source": []
  }
 ],
 "metadata": {
  "kernelspec": {
   "display_name": "Apache Toree - Scala",
   "language": "scala",
   "name": "apache_toree_scala"
  },
  "language_info": {
   "name": "scala",
   "version": "2.10.4"
  }
 },
 "nbformat": 4,
 "nbformat_minor": 0
}
