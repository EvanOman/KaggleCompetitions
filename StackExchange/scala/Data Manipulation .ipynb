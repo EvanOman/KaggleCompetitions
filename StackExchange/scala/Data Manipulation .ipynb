{
 "cells": [
  {
   "cell_type": "code",
   "execution_count": 1,
   "metadata": {
    "collapsed": false
   },
   "outputs": [],
   "source": [
    "val ss = org.apache.spark.sql.SparkSession.builder().getOrCreate()\n",
    "import ss.implicits._\n",
    "import org.apache.spark.sql.functions._\n",
    "\n",
    "val files = List(\"cooking\", \"crypto\", \"robotics\", \"biology\", \"travel\", \"diy\")\n",
    "\n",
    "/* Load and print all files */\n",
    "val df_all = files.map(f => {\n",
    "                        spark.read.format(\"csv\").option(\"header\", \"true\").load(\"../dat/\"+f+\"_clean.csv\")\n",
    "                   }).reduce(_ union _).withColumn(\"tags\", split($\"tags\", \" \"))"
   ]
  },
  {
   "cell_type": "code",
   "execution_count": 2,
   "metadata": {
    "collapsed": false
   },
   "outputs": [
    {
     "name": "stdout",
     "output_type": "stream",
     "text": [
      "+---+--------------------+--------------------+--------------------+\n",
      "| id|               title|             content|                tags|\n",
      "+---+--------------------+--------------------+--------------------+\n",
      "|  1|How can I get che...|<p>My chocolate c...|[baking, cookies,...|\n",
      "|  2|How should I cook...|<p>I've heard of ...|[oven, cooking-ti...|\n",
      "|  3|What is the diffe...|<p>I always use b...|              [eggs]|\n",
      "|  4|What is the diffe...|<p>And can I use ...|[substitutions, p...|\n",
      "|  5|In a tomato sauce...|<p>It seems that ...|[sauce, pasta, to...|\n",
      "|  6|What ingredients ...|<p>I have a recip...|[substitutions, h...|\n",
      "|  9|What is the inter...|<p>I'd like to kn...|[food-safety, bee...|\n",
      "| 11|How should I poac...|<p>What's the bes...|[eggs, basics, po...|\n",
      "| 12|How can I make my...|<p>My ice cream d...|         [ice-cream]|\n",
      "| 17|How long and at w...|<p>I'm interested...|[baking, chicken,...|\n",
      "| 23|Besides salmon, w...|<p>I've fallen in...|[grilling, salmon...|\n",
      "| 27|Do I need to sift...|<p>Is there reall...|[baking, flour, m...|\n",
      "| 28|Storage life for ...|<p>When I roast a...|[storage-method, ...|\n",
      "| 30|Pressure canning ...|<p>Where can safe...|[canning, pressur...|\n",
      "| 32|What's a good res...|<p>I know what sp...|[spices, resource...|\n",
      "| 36|Is it safe to lea...|<p>Is it safe to ...|[food-safety, sto...|\n",
      "| 38|Does resting the ...|<p>In this <a hre...|[baking, bread, d...|\n",
      "| 54|How should I prep...|<p>I've been watc...|[rice, italian-cu...|\n",
      "| 57|How does a splash...|<p>What does spla...|[eggs, food-scien...|\n",
      "| 61|What are the pros...|<p>Why should/sho...|[storage-method, ...|\n",
      "+---+--------------------+--------------------+--------------------+\n",
      "only showing top 20 rows\n",
      "\n"
     ]
    }
   ],
   "source": [
    "df_all.show"
   ]
  },
  {
   "cell_type": "code",
   "execution_count": 3,
   "metadata": {
    "collapsed": false
   },
   "outputs": [
    {
     "name": "stdout",
     "output_type": "stream",
     "text": [
      "Marking org.jsoup:jsoup:1.10.2 for download\n",
      "Preparing to fetch from:\n",
      "-> file:/tmp/toree_add_deps5624941784330490430/\n",
      "-> https://repo1.maven.org/maven2\n",
      "-> New file at /tmp/toree_add_deps5624941784330490430/https/repo1.maven.org/maven2/org/jsoup/jsoup/1.10.2/jsoup-1.10.2.jar\n"
     ]
    }
   ],
   "source": [
    "%AddDeps org.jsoup jsoup 1.10.2"
   ]
  },
  {
   "cell_type": "code",
   "execution_count": 4,
   "metadata": {
    "collapsed": false
   },
   "outputs": [],
   "source": [
    "import org.jsoup.Jsoup\n",
    "\n",
    "val cleanHTML = udf((in: String) => Jsoup.parse(in).text())"
   ]
  },
  {
   "cell_type": "code",
   "execution_count": 5,
   "metadata": {
    "collapsed": false
   },
   "outputs": [
    {
     "data": {
      "text/plain": [
       "Name: Compile Error\n",
       "Message: <console>:35: error: type mismatch;\n",
       " found   : org.apache.spark.sql.ColumnName\n",
       " required: org.apache.spark.sql.Column\n",
       "       df_all.withColumn(\"content\", cleanHTML($\"content\")).show\n",
       "                                              ^\n",
       "StackTrace: "
      ]
     },
     "execution_count": 5,
     "metadata": {},
     "output_type": "execute_result"
    }
   ],
   "source": [
    "df_all.withColumn(\"content\", cleanHTML($\"content\")).show"
   ]
  },
  {
   "cell_type": "code",
   "execution_count": 6,
   "metadata": {
    "collapsed": false
   },
   "outputs": [
    {
     "data": {
      "text/plain": [
       "Name: Compile Error\n",
       "Message: <console>:32: error: type mismatch;\n",
       " found   : org.apache.spark.sql.ColumnName\n",
       " required: org.apache.spark.sql.Column\n",
       "                          }).reduce(_ union _).withColumn(\"tags\", split($\"tags\", \" \"))\n",
       "                                                                        ^\n",
       "StackTrace: "
      ]
     },
     "execution_count": 6,
     "metadata": {},
     "output_type": "execute_result"
    }
   ],
   "source": [
    "\n",
    "val df_all = files.map(f => {\n",
    "                        spark.read.format(\"csv\").option(\"header\", \"true\").load(\"../dat/\"+f+\"_clean.csv\")\n",
    "                   }).reduce(_ union _).withColumn(\"tags\", split($\"tags\", \" \"))"
   ]
  },
  {
   "cell_type": "code",
   "execution_count": null,
   "metadata": {
    "collapsed": true
   },
   "outputs": [],
   "source": []
  }
 ],
 "metadata": {
  "kernelspec": {
   "display_name": "Apache Toree - Scala",
   "language": "scala",
   "name": "apache_toree_scala"
  },
  "language_info": {
   "file_extension": ".scala",
   "name": "scala",
   "version": "2.11.8"
  }
 },
 "nbformat": 4,
 "nbformat_minor": 0
}
