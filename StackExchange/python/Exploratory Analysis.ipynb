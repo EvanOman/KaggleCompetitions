{
 "cells": [
  {
   "cell_type": "markdown",
   "metadata": {},
   "source": [
    "# Exploratory Analysis\n",
    "### Random code exploring the structure of the Stack Exchange answer Data"
   ]
  },
  {
   "cell_type": "code",
   "execution_count": 1,
   "metadata": {
    "collapsed": true
   },
   "outputs": [],
   "source": [
    "import pandas as pd\n",
    "import numpy as np\n",
    "import math"
   ]
  },
  {
   "cell_type": "markdown",
   "metadata": {
    "collapsed": true
   },
   "source": [
    "## Check to see what % of questions have tag in content"
   ]
  },
  {
   "cell_type": "markdown",
   "metadata": {},
   "source": [
    "### Define couning functions"
   ]
  },
  {
   "cell_type": "code",
   "execution_count": 2,
   "metadata": {
    "collapsed": false
   },
   "outputs": [],
   "source": [
    "def count_occur(tags, content):\n",
    "    return sum([1 if tag in content else 0 for tag in tags])\n",
    "\n",
    "def calc_tags_occur(df, name):\n",
    "    df[\"tags_l\"] = df[\"tags\"].apply(lambda tags: tags.split(\" \"))\n",
    "    df[\"numTags\"] =  df[\"tags_l\"].apply(lambda tags_list: len(tags_list))\n",
    "    df[\"numTagsFound\"] =  df.apply(lambda row: count_occur(row[\"tags_l\"], row[\"content\"]), axis=1)\n",
    "    tags, occur = (sum(df[\"numTags\"]), sum(df[\"numTagsFound\"]))\n",
    "    print(\"{0} has occurence percentage: {1}\".format(name, occur/tags))\n",
    "    return (tags, occur)"
   ]
  },
  {
   "cell_type": "markdown",
   "metadata": {},
   "source": [
    "### Read and agg all datas"
   ]
  },
  {
   "cell_type": "code",
   "execution_count": 3,
   "metadata": {
    "collapsed": false
   },
   "outputs": [],
   "source": [
    "cooking = pd.read_csv(\"../dat/cooking.csv\")\n",
    "diy = pd.read_csv(\"../dat/diy.csv\")\n",
    "travel = pd.read_csv(\"../dat/travel.csv\")\n",
    "biology = pd.read_csv(\"../dat/biology.csv\")\n",
    "robotics = pd.read_csv(\"../dat/robotics.csv\")\n",
    "crypto = pd.read_csv(\"../dat/crypto.csv\")\n",
    "dfs = [(cooking, \"cooking\"), (diy, \"diy\"), (travel, \"travel\"), (biology, \"biology\"),\n",
    "       (robotics, \"robotics\"), (crypto, \"crypto\")]"
   ]
  },
  {
   "cell_type": "markdown",
   "metadata": {},
   "source": [
    "### Run counting funcs on all dfs"
   ]
  },
  {
   "cell_type": "code",
   "execution_count": 4,
   "metadata": {
    "collapsed": false
   },
   "outputs": [
    {
     "name": "stdout",
     "output_type": "stream",
     "text": [
      "cooking has occurence percentage: 0.4960047268020933\n",
      "diy has occurence percentage: 0.44397842006460453\n",
      "travel has occurence percentage: 0.1246977071662534\n",
      "biology has occurence percentage: 0.16861360137643755\n",
      "robotics has occurence percentage: 0.3179447852760736\n",
      "crypto has occurence percentage: 0.20922932035787162\n"
     ]
    }
   ],
   "source": [
    "tags_occurs_all = [calc_tags_occur(df, name) for df, name in dfs]"
   ]
  },
  {
   "cell_type": "markdown",
   "metadata": {},
   "source": [
    "### Calculate Overall Percentage"
   ]
  },
  {
   "cell_type": "code",
   "execution_count": 5,
   "metadata": {
    "collapsed": false
   },
   "outputs": [
    {
     "name": "stdout",
     "output_type": "stream",
     "text": [
      "Overall occurence percentage is 0.28879620499427017\n"
     ]
    }
   ],
   "source": [
    "tags, occur = [sum(x) for x in zip(*tags_occurs_all)]\n",
    "print(\"Overall occurence percentage is {0}\".format(occur/tags))"
   ]
  }
 ],
 "metadata": {
  "kernelspec": {
   "display_name": "Python 3",
   "language": "python",
   "name": "python3"
  },
  "language_info": {
   "codemirror_mode": {
    "name": "ipython",
    "version": 3
   },
   "file_extension": ".py",
   "mimetype": "text/x-python",
   "name": "python",
   "nbconvert_exporter": "python",
   "pygments_lexer": "ipython3",
   "version": "3.5.2"
  }
 },
 "nbformat": 4,
 "nbformat_minor": 1
}
