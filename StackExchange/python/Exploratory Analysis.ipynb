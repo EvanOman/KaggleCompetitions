{
 "cells": [
  {
   "cell_type": "markdown",
   "metadata": {},
   "source": [
    "# Exploratory Analysis\n",
    "### Random code exploring the structure of the Stack Exchange answer Data"
   ]
  },
  {
   "cell_type": "code",
   "execution_count": 1,
   "metadata": {
    "collapsed": true
   },
   "outputs": [],
   "source": [
    "import pandas as pd\n",
    "import numpy as np\n",
    "import math\n",
    "import re, string"
   ]
  },
  {
   "cell_type": "markdown",
   "metadata": {
    "collapsed": true
   },
   "source": [
    "## Check to see what % of questions have tag in content"
   ]
  },
  {
   "cell_type": "markdown",
   "metadata": {},
   "source": [
    "### Define couning functions"
   ]
  },
  {
   "cell_type": "code",
   "execution_count": 2,
   "metadata": {
    "collapsed": false
   },
   "outputs": [],
   "source": [
    "def count_occur(tags, content):\n",
    "    return sum([1 if tag in content else 0 for tag in tags])\n",
    "\n",
    "def calc_tags_occur(df, name):\n",
    "    df[\"tags_l\"] = df[\"tags\"].apply(lambda tags: tags.split(\" \"))\n",
    "    df[\"numTags\"] =  df[\"tags_l\"].apply(lambda tags_list: len(tags_list))\n",
    "    df[\"numTagsFound\"] =  df.apply(lambda row: count_occur(row[\"tags_l\"], row[\"content\"]), axis=1)\n",
    "    tags, occur = (sum(df[\"numTags\"]), sum(df[\"numTagsFound\"]))\n",
    "    print(\"{0} has occurence percentage: {1}\".format(name, occur/tags))\n",
    "    return (tags, occur)"
   ]
  },
  {
   "cell_type": "markdown",
   "metadata": {},
   "source": [
    "### Read and agg all datas"
   ]
  },
  {
   "cell_type": "code",
   "execution_count": 3,
   "metadata": {
    "collapsed": false
   },
   "outputs": [],
   "source": [
    "cooking = pd.read_csv(\"../dat/cooking.csv\")\n",
    "diy = pd.read_csv(\"../dat/diy.csv\")\n",
    "travel = pd.read_csv(\"../dat/travel.csv\")\n",
    "biology = pd.read_csv(\"../dat/biology.csv\")\n",
    "robotics = pd.read_csv(\"../dat/robotics.csv\")\n",
    "crypto = pd.read_csv(\"../dat/crypto.csv\")\n",
    "dfs = [(cooking, \"cooking\"), (diy, \"diy\"), (travel, \"travel\"), (biology, \"biology\"),\n",
    "       (robotics, \"robotics\"), (crypto, \"crypto\")]"
   ]
  },
  {
   "cell_type": "markdown",
   "metadata": {},
   "source": [
    "### Run counting funcs on all dfs"
   ]
  },
  {
   "cell_type": "code",
   "execution_count": 4,
   "metadata": {
    "collapsed": false
   },
   "outputs": [
    {
     "name": "stdout",
     "output_type": "stream",
     "text": [
      "cooking has occurence percentage: 0.4960047268020933\n",
      "diy has occurence percentage: 0.44397842006460453\n",
      "travel has occurence percentage: 0.1246977071662534\n",
      "biology has occurence percentage: 0.16861360137643755\n",
      "robotics has occurence percentage: 0.3179447852760736\n",
      "crypto has occurence percentage: 0.20922932035787162\n"
     ]
    }
   ],
   "source": [
    "tags_occurs_all = [calc_tags_occur(df, name) for df, name in dfs]"
   ]
  },
  {
   "cell_type": "markdown",
   "metadata": {},
   "source": [
    "### Calculate Overall Percentage"
   ]
  },
  {
   "cell_type": "code",
   "execution_count": 5,
   "metadata": {
    "collapsed": false
   },
   "outputs": [
    {
     "name": "stdout",
     "output_type": "stream",
     "text": [
      "Overall occurence percentage is 0.28879620499427017\n"
     ]
    }
   ],
   "source": [
    "tags, occur = [sum(x) for x in zip(*tags_occurs_all)]\n",
    "print(\"Overall occurence percentage is {0}\".format(occur/tags))"
   ]
  },
  {
   "cell_type": "markdown",
   "metadata": {},
   "source": [
    "## Do the same for lemmatized/split words"
   ]
  },
  {
   "cell_type": "code",
   "execution_count": 16,
   "metadata": {
    "collapsed": false
   },
   "outputs": [],
   "source": [
    "from nltk.stem.porter import PorterStemmer\n",
    "def calc_tags_occur_lemma(df, name):\n",
    "    porter_stemmer = PorterStemmer()\n",
    "    # split tags on space\n",
    "    df[\"tags_l\"] = df[\"tags\"].apply(lambda tags: tags.split(\" \"))\n",
    "    \n",
    "    # some tags are compounds w/ \"-\" connectors, split those\n",
    "    df[\"tags_l\"] = df[\"tags_l\"].apply(lambda tags: [tag.split(\"-\") for tag in tags])\n",
    "    \n",
    "    # lemmatize each word in each tag, join into space delimited string\n",
    "    df[\"tags_l\"] = df[\"tags_l\"].apply(lambda tag_list: lemmatize_tags(tag_list))\n",
    "    \n",
    "    # calculate the number of tags for each row\n",
    "    df[\"numTags\"] =  df[\"tags_l\"].apply(lambda tags_list: len(tags_list))\n",
    "    \n",
    "    # clean out some ugly html \n",
    "    df[\"cleaned_content\"] = df[\"content\"].apply(lambda text: clean_content(text))\n",
    "    \n",
    "    # lemmatize each paragraph\n",
    "    df[\"lemma_content\"] = df[\"cleaned_content\"].apply(lambda text: lemmatize_content(text))\n",
    "    \n",
    "    # calculate the # of occurances \n",
    "    df[\"numTagsFound\"] =  df.apply(lambda row: count_occur(row[\"tags_l\"], row[\"lemma_content\"]), axis=1)\n",
    "    \n",
    "    # determine ratio\n",
    "    tags, occur = (sum(df[\"numTags\"]), sum(df[\"numTagsFound\"]))\n",
    "    print(\"{0} has occurence percentage: {1}\".format(name, occur/tags))\n",
    "    return (tags, occur)\n",
    "\n",
    "def calc_tags_occur_split(df, name):\n",
    "    # split tags on space\n",
    "    df[\"tags_l\"] = df[\"tags\"].apply(lambda tags: tags.split(\" \"))\n",
    "    \n",
    "    # some tags are compounds w/ \"-\" connectors, split those\n",
    "    df[\"tags_l\"] = df[\"tags_l\"].apply(lambda tags: [\" \".join(tag.split(\"-\")) for tag in tags])\n",
    "    \n",
    "    # calculate the number of tags for each row\n",
    "    df[\"numTags\"] =  df[\"tags_l\"].apply(lambda tags_list: len(tags_list))\n",
    "    \n",
    "    # clean out some ugly html \n",
    "    df[\"cleaned_content\"] = df[\"content\"].apply(lambda text: clean_content(text))\n",
    "    \n",
    "    # calculate the # of occurances \n",
    "    df[\"numTagsFound\"] =  df.apply(lambda row: count_occur(row[\"tags_l\"], row[\"cleaned_content\"]), axis=1)\n",
    "    \n",
    "    # determine ratio\n",
    "    tags, occur = (sum(df[\"numTags\"]), sum(df[\"numTagsFound\"]))\n",
    "    print(\"{0} has occurence percentage: {1}\".format(name, occur/tags))\n",
    "    return (tags, occur)\n",
    "\n",
    "def lemmatize_content(content):\n",
    "    # remove puncuation\n",
    "    no_punc = \"\".join([char for char in content if char not in string.punctuation])\n",
    "    return \" \".join([porter_stemmer.stem(w) for w in no_punc.split(\" \")])\n",
    "\n",
    "def lemmatize_tags(tag_list):\n",
    "    porter_stemmer = PorterStemmer()\n",
    "    lemma_list = [porter_stemmer.stem(tword) for tag in tag_list for tword in tag]\n",
    "    return \" \".join(lemma_list)\n",
    "\n",
    "def clean_content(content):\n",
    "    cleaned = remove_p_tags(content)\n",
    "    cleaned = parse_a_tags(cleaned)\n",
    "    return cleaned\n",
    "\n",
    "def remove_p_tags(content):\n",
    "    return re.sub(r'\\<\\/?p\\>', '', content).strip()\n",
    "\n",
    "def parse_a_tags(content):\n",
    "    return re.sub(r\"\\<a[^\\>]*\\>([^\\<\\>]+)\\<\\/a\\>\", r\"\\1\", content)"
   ]
  },
  {
   "cell_type": "code",
   "execution_count": 17,
   "metadata": {
    "collapsed": false
   },
   "outputs": [
    {
     "name": "stdout",
     "output_type": "stream",
     "text": [
      "cooking has occurence percentage: 0.9931153117631142\n",
      "diy has occurence percentage: 0.9969057127481803\n",
      "travel has occurence percentage: 0.989908636098006\n",
      "biology has occurence percentage: 0.9893969106284527\n",
      "robotics has occurence percentage: 0.9947065464842955\n",
      "crypto has occurence percentage: 0.9935724456962135\n"
     ]
    }
   ],
   "source": [
    "tags_occurs_all = [calc_tags_occur_lemma(df, name) for df, name in dfs]"
   ]
  },
  {
   "cell_type": "code",
   "execution_count": 20,
   "metadata": {
    "collapsed": false
   },
   "outputs": [
    {
     "name": "stdout",
     "output_type": "stream",
     "text": [
      "Overall occurence percentage is 0.9924786488871824\n"
     ]
    }
   ],
   "source": [
    "tags, occur = [sum(x) for x in zip(*tags_occurs_all)]\n",
    "print(\"Overall occurence percentage is {0}\".format(occur/tags))"
   ]
  },
  {
   "cell_type": "markdown",
   "metadata": {},
   "source": [
    "## So lemmatizing and breaking the tags apart _really_ helps"
   ]
  },
  {
   "cell_type": "code",
   "execution_count": 12,
   "metadata": {
    "collapsed": false
   },
   "outputs": [
    {
     "name": "stdout",
     "output_type": "stream",
     "text": [
      "cooking has occurence percentage: 0.5242248607281526\n",
      "diy has occurence percentage: 0.4867662230039405\n",
      "travel has occurence percentage: 0.11886613401904063\n",
      "biology has occurence percentage: 0.1856077756648254\n",
      "robotics has occurence percentage: 0.35690184049079754\n",
      "crypto has occurence percentage: 0.26734421597865327\n"
     ]
    }
   ],
   "source": [
    "tags_occurs_split_all = [calc_tags_occur_split(df, name) for df, name in dfs]"
   ]
  },
  {
   "cell_type": "code",
   "execution_count": 14,
   "metadata": {
    "collapsed": false
   },
   "outputs": [
    {
     "name": "stdout",
     "output_type": "stream",
     "text": [
      "Overall occurence percentage is 0.31300358002647266\n"
     ]
    }
   ],
   "source": [
    "tags, occur = [sum(x) for x in zip(*tags_occurs_split_all)]\n",
    "print(\"Overall occurence percentage is {0}\".format(occur/tags))"
   ]
  },
  {
   "cell_type": "code",
   "execution_count": null,
   "metadata": {
    "collapsed": true
   },
   "outputs": [],
   "source": []
  }
 ],
 "metadata": {
  "kernelspec": {
   "display_name": "Python 3",
   "language": "python",
   "name": "python3"
  },
  "language_info": {
   "codemirror_mode": {
    "name": "ipython",
    "version": 3
   },
   "file_extension": ".py",
   "mimetype": "text/x-python",
   "name": "python",
   "nbconvert_exporter": "python",
   "pygments_lexer": "ipython3",
   "version": "3.4.5"
  }
 },
 "nbformat": 4,
 "nbformat_minor": 1
}
