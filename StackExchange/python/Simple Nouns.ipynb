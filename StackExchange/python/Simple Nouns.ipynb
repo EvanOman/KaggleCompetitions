{
 "cells": [
  {
   "cell_type": "markdown",
   "metadata": {},
   "source": [
    "# Simple Nouns\n",
    "Tag each submission with all of its NNs"
   ]
  },
  {
   "cell_type": "code",
   "execution_count": 1,
   "metadata": {
    "collapsed": true
   },
   "outputs": [],
   "source": [
    "import pandas as pd\n",
    "import numpy as np\n",
    "import nltk\n",
    "import re"
   ]
  },
  {
   "cell_type": "code",
   "execution_count": 2,
   "metadata": {
    "collapsed": false
   },
   "outputs": [],
   "source": [
    "test_orig = pd.read_csv(\"../dat/test.csv\")"
   ]
  },
  {
   "cell_type": "code",
   "execution_count": 7,
   "metadata": {
    "collapsed": false
   },
   "outputs": [],
   "source": [
    "def extract_nouns(content, sent_tok, word_tok):\n",
    "    # tokenize into sentences\n",
    "    sentences = sent_tok.tokenize(content)\n",
    "    \n",
    "    # tokenize into words\n",
    "    tok_sent = [word_tok.tokenize(sent) for sent in sentences]  \n",
    "    \n",
    "    # tag words\n",
    "    tagged_words = [tag for tagged_sent in nltk.pos_tag_sents(tok_sent) for tag in tagged_sent]\n",
    "    \n",
    "    # return nouns\n",
    "    return [word for word, tag in tagged_words if tag == \"NN\"]   \n",
    "\n",
    "def clean_content(content):\n",
    "    cleaned = remove_p_tags(content)\n",
    "    cleaned = parse_a_tags(cleaned)\n",
    "    return cleaned\n",
    "\n",
    "def remove_p_tags(content):\n",
    "    return re.sub(r'\\<\\/?p\\>', '', content).strip()\n",
    "\n",
    "def parse_a_tags(content):\n",
    "    return re.sub(r\"\\<a[^\\>]*\\>([^\\<\\>]+)\\<\\/a\\>\", r\"\\1\", content)\n",
    "\n",
    "test_sub = test_orig"
   ]
  },
  {
   "cell_type": "code",
   "execution_count": 10,
   "metadata": {
    "collapsed": false
   },
   "outputs": [],
   "source": [
    "# clean content\n",
    "c_content = test_sub[\"content\"].apply(clean_content)\n",
    "\n",
    "# extract nouns\n",
    "sent_tok = nltk.data.load('tokenizers/punkt/english.pickle')\n",
    "word_tok = nltk.tokenize.TreebankWordTokenizer()\n",
    "nouns = c_content.apply(lambda text: \" \".join(extract_nouns(text, sent_tok, word_tok)))\n",
    "\n",
    "# build submission\n",
    "ids  = test_orig[\"id\"]\n",
    "sub = pd.DataFrame({\"id\": ids, \"tags\": nouns})"
   ]
  },
  {
   "cell_type": "code",
   "execution_count": 12,
   "metadata": {
    "collapsed": false
   },
   "outputs": [],
   "source": [
    "sub.to_csv(\"../subs/sub4.csv\", index=False)"
   ]
  }
 ],
 "metadata": {
  "kernelspec": {
   "display_name": "Python 3",
   "language": "python",
   "name": "python3"
  },
  "language_info": {
   "codemirror_mode": {
    "name": "ipython",
    "version": 3
   },
   "file_extension": ".py",
   "mimetype": "text/x-python",
   "name": "python",
   "nbconvert_exporter": "python",
   "pygments_lexer": "ipython3",
   "version": "3.4.5"
  }
 },
 "nbformat": 4,
 "nbformat_minor": 1
}
