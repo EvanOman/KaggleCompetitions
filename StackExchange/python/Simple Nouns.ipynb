{
 "cells": [
  {
   "cell_type": "markdown",
   "metadata": {},
   "source": [
    "# Simple Nouns\n",
    "Tag each submission with all of its NNs"
   ]
  },
  {
   "cell_type": "code",
   "execution_count": 1,
   "metadata": {
    "collapsed": true
   },
   "outputs": [],
   "source": [
    "import pandas as pd\n",
    "import numpy as np\n",
    "import nltk"
   ]
  },
  {
   "cell_type": "code",
   "execution_count": 2,
   "metadata": {
    "collapsed": true
   },
   "outputs": [],
   "source": [
    "test_orig = pd.read_csv(\"../dat/test.csv\")"
   ]
  },
  {
   "cell_type": "code",
   "execution_count": 3,
   "metadata": {
    "collapsed": true
   },
   "outputs": [],
   "source": [
    "# find all tags from other topics\n",
    "cooking = pd.read_csv(\"../dat/cooking.csv\")\n",
    "diy = pd.read_csv(\"../dat/diy.csv\")\n",
    "travel = pd.read_csv(\"../dat/travel.csv\")\n",
    "biology = pd.read_csv(\"../dat/biology.csv\")\n",
    "robotics = pd.read_csv(\"../dat/robotics.csv\")\n",
    "crypto = pd.read_csv(\"../dat/crypto.csv\")\n",
    "dfs = [cooking, diy, travel, biology, robotics, crypto, diy]"
   ]
  },
  {
   "cell_type": "markdown",
   "metadata": {
    "collapsed": false
   },
   "source": [
    "## Filter out stop words"
   ]
  },
  {
   "cell_type": "markdown",
   "metadata": {},
   "source": [
    "## Apply POS Tagger"
   ]
  },
  {
   "cell_type": "markdown",
   "metadata": {},
   "source": [
    "## Find most frequent nouns"
   ]
  },
  {
   "cell_type": "code",
   "execution_count": 4,
   "metadata": {
    "collapsed": false
   },
   "outputs": [
    {
     "data": {
      "text/plain": [
       "['sentence']"
      ]
     },
     "execution_count": 4,
     "metadata": {},
     "output_type": "execute_result"
    }
   ],
   "source": [
    "[word for sentence in nltk.pos_tag_sents([\"This is a sentence\".split(\" \")]) for word, pos in sentence if pos == 'NN']"
   ]
  },
  {
   "cell_type": "code",
   "execution_count": 5,
   "metadata": {
    "collapsed": false
   },
   "outputs": [
    {
     "name": "stdout",
     "output_type": "stream",
     "text": [
      "NLTK Downloader\n",
      "---------------------------------------------------------------------------\n",
      "    d) Download   l) List    u) Update   c) Config   h) Help   q) Quit\n",
      "---------------------------------------------------------------------------\n",
      "Downloader> q\n"
     ]
    },
    {
     "data": {
      "text/plain": [
       "True"
      ]
     },
     "execution_count": 5,
     "metadata": {},
     "output_type": "execute_result"
    }
   ],
   "source": [
    "nltk.download()"
   ]
  },
  {
   "cell_type": "code",
   "execution_count": 44,
   "metadata": {
    "collapsed": false
   },
   "outputs": [],
   "source": [
    "a= crypto[\"content\"][1]"
   ]
  },
  {
   "cell_type": "code",
   "execution_count": 45,
   "metadata": {
    "collapsed": false
   },
   "outputs": [
    {
     "data": {
      "text/plain": [
       "'<p>When initiating an <a href=\"http://en.wikipedia.org/wiki/Oblivious_transfer\">oblivious transfer</a>, why would someone use a <a href=\"http://en.wikipedia.org/wiki/Oblivious_transfer#1-2_oblivious_transfer\">1-2 oblivious transfer</a> rather than going for an <a href=\"http://en.wikipedia.org/wiki/Oblivious_transfer#1-out-of-n_oblivious_transfer_and_k-out-of-n_oblivious_transfer\">1 out of n oblivious transfer</a>? Perhaps a slight time overhead for the extra message encrypts, but with everything as fast as it is these days is that a concern?</p>\\n'"
      ]
     },
     "execution_count": 45,
     "metadata": {},
     "output_type": "execute_result"
    }
   ],
   "source": [
    "a"
   ]
  },
  {
   "cell_type": "code",
   "execution_count": 13,
   "metadata": {
    "collapsed": false
   },
   "outputs": [],
   "source": [
    "sent_detector = nltk.data.load('tokenizers/punkt/english.pickle')"
   ]
  },
  {
   "cell_type": "code",
   "execution_count": 42,
   "metadata": {
    "collapsed": false
   },
   "outputs": [],
   "source": [
    "a = sent_detector.tokenize(a.strip())"
   ]
  },
  {
   "cell_type": "code",
   "execution_count": 60,
   "metadata": {
    "collapsed": true
   },
   "outputs": [],
   "source": [
    "def removePTags(content):\n",
    "    return re.sub(r'\\<\\/?p\\>', '', content).strip()\n",
    "\n",
    "def parseATags(content):\n",
    "    return re.sub(r\"\\<a[^\\>]*\\>([^\\<\\>]+)\\<\\/a\\>\", r\"\\1\", content)"
   ]
  },
  {
   "cell_type": "code",
   "execution_count": 18,
   "metadata": {
    "collapsed": true
   },
   "outputs": [],
   "source": [
    "import re"
   ]
  },
  {
   "cell_type": "code",
   "execution_count": 20,
   "metadata": {
    "collapsed": false
   },
   "outputs": [],
   "source": [
    "r =re.compile('\\<\\/?p\\>')"
   ]
  },
  {
   "cell_type": "code",
   "execution_count": 31,
   "metadata": {
    "collapsed": false
   },
   "outputs": [
    {
     "data": {
      "text/plain": [
       "'abc 123'"
      ]
     },
     "execution_count": 31,
     "metadata": {},
     "output_type": "execute_result"
    }
   ],
   "source": [
    "removePTags(\"<p> abc 123 </p>\")"
   ]
  },
  {
   "cell_type": "code",
   "execution_count": 48,
   "metadata": {
    "collapsed": false
   },
   "outputs": [
    {
     "data": {
      "text/plain": [
       "'oblivious transfer'"
      ]
     },
     "execution_count": 48,
     "metadata": {},
     "output_type": "execute_result"
    }
   ],
   "source": [
    "re.sub(r'\\<a.*\\>(.+)\\<\\/a\\>', r\"\\1\", \"<a href=\\\"http://en.wikipedia.org/wiki/Oblivious_transfer\\\">oblivious transfer</a>\").strip()"
   ]
  },
  {
   "cell_type": "code",
   "execution_count": 61,
   "metadata": {
    "collapsed": false
   },
   "outputs": [
    {
     "name": "stdout",
     "output_type": "stream",
     "text": [
      "<p>When initiating an <a href=\"http://en.wikipedia.org/wiki/Oblivious_transfer\">oblivious transfer</a>, why would someone use a <a href=\"http://en.wikipedia.org/wiki/Oblivious_transfer#1-2_oblivious_transfer\">1-2 oblivious transfer</a> rather than going for an <a href=\"http://en.wikipedia.org/wiki/Oblivious_transfer#1-out-of-n_oblivious_transfer_and_k-out-of-n_oblivious_transfer\">1 out of n oblivious transfer</a>? Perhaps a slight time overhead for the extra message encrypts, but with everything as fast as it is these days is that a concern?</p>\n",
      "\n",
      "When initiating an oblivious transfer, why would someone use a 1-2 oblivious transfer rather than going for an 1 out of n oblivious transfer? Perhaps a slight time overhead for the extra message encrypts, but with everything as fast as it is these days is that a concern?\n"
     ]
    }
   ],
   "source": [
    "print(a)\n",
    "fixed = removePTags(a)\n",
    "fixed = parseATags(fixed)\n",
    "print(fixed)"
   ]
  },
  {
   "cell_type": "code",
   "execution_count": null,
   "metadata": {
    "collapsed": true
   },
   "outputs": [],
   "source": []
  }
 ],
 "metadata": {
  "kernelspec": {
   "display_name": "Python 3",
   "language": "python",
   "name": "python3"
  },
  "language_info": {
   "codemirror_mode": {
    "name": "ipython",
    "version": 3
   },
   "file_extension": ".py",
   "mimetype": "text/x-python",
   "name": "python",
   "nbconvert_exporter": "python",
   "pygments_lexer": "ipython3",
   "version": "3.5.2"
  }
 },
 "nbformat": 4,
 "nbformat_minor": 1
}
