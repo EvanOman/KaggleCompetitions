{
 "cells": [
  {
   "cell_type": "markdown",
   "metadata": {},
   "source": [
    "## Generate Dummy Data\n",
    "\n",
    "Generate data according to $y = x_1 + 2x_2 + 3x_3 + \\xi$ where $\\xi$ represents random noise such that $\\xi \\sim U[-10,10]$ "
   ]
  },
  {
   "cell_type": "code",
   "execution_count": 1,
   "metadata": {
    "collapsed": false
   },
   "outputs": [
    {
     "name": "stdout",
     "output_type": "stream",
     "text": [
      "+------------------+------------------+------------------+------------------+\n",
      "|                x1|                x2|                x3|                 y|\n",
      "+------------------+------------------+------------------+------------------+\n",
      "|45.313454186562815| 40.64844204181767| 70.38053786933851|  338.032829891297|\n",
      "|29.271923155629764|26.458317702278666| 9.461358559389232|102.93713082550283|\n",
      "| 87.46401504983163|24.015888193007086| 73.12760975971955| 355.6219246002725|\n",
      "| 59.03232817833298|18.674466357522455| 59.57460662128722|266.81308640825546|\n",
      "| 62.80822316119333| 62.24705357840472| 51.39587770088898| 333.3419489843179|\n",
      "| 79.52719220537526| 95.69022289408964|  36.8885420535219|389.15854511423174|\n",
      "| 44.29286905609108| 84.46967639231525|28.022439619776296| 303.7327855826478|\n",
      "|19.995897905781813| 98.56854913056992| 51.29677669145447|378.40457203878213|\n",
      "| 9.210201049943901| 34.82214209547628| 38.58696932719751|200.59918857976706|\n",
      "| 2.030680789828432|23.110500887094755| 99.08819391641833|349.55477277934995|\n",
      "| 50.38270634909791| 79.91283177858809|  10.5912000687845|245.31432314832657|\n",
      "| 5.525215611660872| 72.82544865884553|28.579682116994565|  235.214819187385|\n",
      "| 54.78564353079366|37.867615163214765| 75.01755718060478| 358.9619489170667|\n",
      "| 46.00625606168802|47.747238351715815| 35.19831605580481|244.60897529827457|\n",
      "| 93.74795305106784| 63.73110116196719| 60.65754834759981|403.36405360290445|\n",
      "|19.988947888409015|16.361932755450603| 48.90363878463977| 191.1306012514847|\n",
      "|  93.8721430097144|50.987269723220074|46.600576959911585| 329.0409022141387|\n",
      "| 99.99646427406998|42.912750960257284| 1.840644969206362|183.97345558233462|\n",
      "| 82.81379992802306|33.965112038376446| 73.27376843877421|  363.150298774122|\n",
      "| 85.88456050701078| 67.34781435471429| 89.11410858055689|494.39065225313163|\n",
      "+------------------+------------------+------------------+------------------+\n",
      "only showing top 20 rows\n",
      "\n"
     ]
    }
   ],
   "source": [
    "import scala.math._\n",
    "val sqlContext = org.apache.spark.sql.SQLContext.getOrCreate(sc)\n",
    "import sqlContext.implicits._\n",
    "\n",
    "\n",
    "// gen data according to y = x1 + 2*x2 + 3*x3 + random noise\n",
    "def genRanRow: (Double, Double, Double, Double) = {\n",
    "    val (x1, x2, x3) = (100*random, 100*random, 100*random)\n",
    "    (x1, x2, x3, x1 + 2*x2 + 3*x3 + (20*random - 10))\n",
    "}\n",
    "\n",
    "val myDF = sc.parallelize((0 to 10000).map(x => genRanRow)).toDF(\"x1\", \"x2\", \"x3\", \"y\")\n",
    "\n",
    "myDF.show"
   ]
  },
  {
   "cell_type": "markdown",
   "metadata": {},
   "source": [
    "## Run Linear Regression\n",
    "\n",
    "Here are the steps to running linear regression:\n",
    "\n",
    "1. Split the data into training and testing sets\n",
    "- Make a `VectorAssembler` which combines our feature columns into a single `features` column\n",
    "- Make a `LinearRegression` object with label column `y`\n",
    "- Put the `VectorAssembler` and `LinearRegression` objects into a single `Pipeline` object\n",
    "- Fit the `Pipeline` to the training data. This runs the `VectorAssembler` and the `LinearRegression`\n",
    "- Tranform the testing data with our `Pipeline` to make predictions. This runs the `VectorAssembler` and applies the learned `LinearRegression` method\n",
    "- Extract the `LinearRegressionModel` from our `Pipeline` to check the Root Mean Square Error = $\\displaystyle\\sqrt{\\displaystyle\\frac{\\sum_i^n (x_i - \\hat{x_i})^2}{n}}$ and the coffificients $x_1$, $x_2$, and $x_3$"
   ]
  },
  {
   "cell_type": "code",
   "execution_count": 2,
   "metadata": {
    "collapsed": false
   },
   "outputs": [
    {
     "name": "stdout",
     "output_type": "stream",
     "text": [
      "RMSE: 5.771114729395559\n",
      "[0.9984630123395857,1.9977193553047907,2.9995259790964734]\n"
     ]
    }
   ],
   "source": [
    "/* Import needed classes*/\n",
    "import org.apache.spark.ml.feature.{VectorAssembler, StandardScaler}\n",
    "import org.apache.spark.ml.regression.{LinearRegression, LinearRegressionModel}\n",
    "import org.apache.spark.ml.Pipeline\n",
    "\n",
    "/* (1) Split the Data */\n",
    "val Array(trainingData, testData) = myDF.randomSplit(Array(0.7, 0.3))\n",
    "\n",
    "/* (2) Make your feature vector assembler */\n",
    "val assembler = new VectorAssembler().\n",
    "    setInputCols(Array(\"x1\", \"x2\", \"x3\")).\n",
    "    setOutputCol(\"features\")\n",
    "\n",
    "/* (3) Make your Linear Regression model */\n",
    "val lr = new LinearRegression().\n",
    "    setLabelCol(\"y\"). // Output column name\n",
    "    setFeaturesCol(\"features\"). // Features column name\n",
    "    setStandardization(true) // Standardize training data\n",
    "\n",
    "/* (4) Put the assembler and regression model into a pipeline */\n",
    "val pipeline = new Pipeline().setStages(Array(assembler, lr))\n",
    "\n",
    "/* (5) Run the pipeline on your training data */\n",
    "val model = pipeline.fit(trainingData)\n",
    "\n",
    "/* (6) Make the predictions */\n",
    "val predictions = model.transform(testData).persist\n",
    "\n",
    "/* (7) Pull out the linear regression model from the pipeline, generate summary info */\n",
    "val lrModel = model.stages(1).asInstanceOf[LinearRegressionModel]\n",
    "val trainingSummary = lrModel.summary\n",
    "\n",
    "/* (7.1) Print the Root Mean Square Error */\n",
    "println(s\"RMSE: ${trainingSummary.rootMeanSquaredError}\")\n",
    "\n",
    "/* (7.2) Print the Coefficients */\n",
    "println(lrModel.coefficients)"
   ]
  },
  {
   "cell_type": "markdown",
   "metadata": {},
   "source": [
    "## Conclusion\n",
    "\n",
    "As we can see the model found the correct coefficients (within a small $\\varepsilon$) with a corresponding error of $5.74$ (this is irreduciable error due to $\\xi$).\n",
    "\n",
    "In fact, we can compute the exact irreducible error introduced by $\\xi$ by looking at the root of the mean. Thus the irreducible error, which we will call $IE$, can be calculated as $IE = \\sqrt{\\mathbb{E}\\left(\\xi^2\\right)}$.\n",
    "\n",
    "We know that $\\xi \\sim U[-10,10]$ so we can compute $\\mathbb{E}\\left(\\xi^2\\right)$ using the general form for the expected value of powers of uniformly distributed random variables.\n",
    "\n",
    "Given that $X \\sim U[a,b]$, \n",
    "\n",
    "<center>\n",
    "\n",
    "$\\displaystyle \\mathbb{E}\\left(X^n\\right) = \\frac{1}{n+1}\\left(\\frac{b^{n+1}-a^{n+1}}{b - a}\\right)$\n",
    "\n",
    "</center>\n",
    "\n",
    "In our case we have $a=-10$, $b=10$, and $n=2$"
   ]
  },
  {
   "cell_type": "code",
   "execution_count": 3,
   "metadata": {
    "collapsed": false
   },
   "outputs": [
    {
     "name": "stdout",
     "output_type": "stream",
     "text": [
      "33.33333333333333\n"
     ]
    }
   ],
   "source": [
    "val a = -10d\n",
    "val b = 10d\n",
    "val n = 2d\n",
    "\n",
    "val E = (1/(n+1))*(math.pow(b,n+1) - math.pow(a, n+1))/(b - a)\n",
    "println(E)"
   ]
  },
  {
   "cell_type": "markdown",
   "metadata": {},
   "source": [
    "We now know the value of $\\mathbb{E}\\left(\\xi^2\\right)$, to finish our computation we just need to take the root: "
   ]
  },
  {
   "cell_type": "code",
   "execution_count": 4,
   "metadata": {
    "collapsed": false
   },
   "outputs": [
    {
     "name": "stdout",
     "output_type": "stream",
     "text": [
      "5.773502691896257\n"
     ]
    }
   ],
   "source": [
    "val IE = math.sqrt(E)\n",
    "println(IE)"
   ]
  },
  {
   "cell_type": "markdown",
   "metadata": {},
   "source": [
    "Thus we can see that the RMSE of our model is 5.742 which is pretty close the minimal irreducible error of 5.774"
   ]
  }
 ],
 "metadata": {
  "kernelspec": {
   "display_name": "Apache Toree - Scala",
   "language": "scala",
   "name": "apache_toree_scala"
  },
  "language_info": {
   "name": "scala",
   "version": "2.10.4"
  }
 },
 "nbformat": 4,
 "nbformat_minor": 1
}
