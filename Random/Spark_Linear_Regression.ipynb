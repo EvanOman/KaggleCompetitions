{
 "cells": [
  {
   "cell_type": "markdown",
   "metadata": {},
   "source": [
    "## Generate Dummy Data\n",
    "\n",
    "Generate data according to $y = x_1 + 2x_2 + 3x_3 + \\xi$ where $\\xi$ represents random noise such that $\\xi \\sim U[-10,10]$ "
   ]
  },
  {
   "cell_type": "code",
   "execution_count": 5,
   "metadata": {
    "collapsed": false
   },
   "outputs": [
    {
     "name": "stdout",
     "output_type": "stream",
     "text": [
      "+------------------+------------------+------------------+------------------+\n",
      "|                x1|                x2|                x3|                 y|\n",
      "+------------------+------------------+------------------+------------------+\n",
      "| 46.52689119609921|24.327819287759354|  79.0476322364853| 340.4882827237372|\n",
      "| 67.08943710680401|25.232985240496607| 38.48523378105699| 236.4988103991865|\n",
      "|11.674995654017506|31.006456175387598|14.597980548332002|112.34261900289309|\n",
      "|27.691692128385213|  37.8236750041249|17.815721014295573| 150.4252984305596|\n",
      "|10.551002908145934| 34.63097721151326| 99.05640815930421| 375.4659166042033|\n",
      "| 34.76411479712841| 68.74288501576116|10.245467974502976|193.92369292606014|\n",
      "|  69.4740640445639| 32.71061010585551| 52.65989806303608| 294.4560694057112|\n",
      "| 59.34707067918383| 33.48781157143556| 47.38970612201261| 273.2186789668586|\n",
      "|  49.8910798266533| 60.09534545944313| 5.666297852299628| 189.2823263464727|\n",
      "|50.039032825920984| 61.78759952278872| 85.88950039187218|428.78222005704276|\n",
      "| 54.22892599501807| 85.14875102750453|  98.8919131831567| 521.6293817429366|\n",
      "| 91.23223060684975| 95.59805553715731| 63.31128777136842| 471.7039117093821|\n",
      "| 27.62680958569741|26.459115100147212| 18.89875271715946|130.41502217969565|\n",
      "| 30.07997776794381|57.048751278695775|  77.1726081586946|384.35199994711695|\n",
      "| 82.50186544000935|20.167034739988043| 26.03455764992615|200.46571234020337|\n",
      "| 61.64882632787081| 78.92063392607628| 7.797205500835991| 236.8096136450989|\n",
      "| 97.90112778386491| 92.98759330063051| 58.52872844532304|463.33449193575984|\n",
      "| 86.70865604426001|15.232296087507969| 30.70258966442656|205.57051935238601|\n",
      "| 70.59302255773457|21.005243710208553|20.847306470495475| 184.2456705555041|\n",
      "|  81.6138214755958| 74.51300539228242| 89.22318711876216|495.97872593935097|\n",
      "+------------------+------------------+------------------+------------------+\n",
      "only showing top 20 rows\n",
      "\n"
     ]
    }
   ],
   "source": [
    "import scala.math._\n",
    "val sqlContext = org.apache.spark.sql.SQLContext.getOrCreate(sc)\n",
    "import sqlContext.implicits._\n",
    "\n",
    "\n",
    "// gen data according to y = x1 + 2*x2 + 3*x3 + random noise\n",
    "def genRanRow: (Double, Double, Double, Double) = {\n",
    "    val (x1, x2, x3) = (100*random, 100*random, 100*random)\n",
    "    (x1, x2, x3, x1 + 2*x2 + 3*x3 + (20*random - 10))\n",
    "}\n",
    "\n",
    "val myDF = sc.parallelize((0 to 10000).map(x => genRanRow)).toDF(\"x1\", \"x2\", \"x3\", \"y\")\n",
    "\n",
    "myDF.show"
   ]
  },
  {
   "cell_type": "markdown",
   "metadata": {},
   "source": [
    "## Run Linear Regression\n",
    "\n",
    "Here are the steps to running linear regression:\n",
    "\n",
    "1. Split the data into training and testing sets\n",
    "- Make a `VectorAssembler` which combines our feature columns into a single `features` column\n",
    "- Make a `LinearRegression` object with label column `y`\n",
    "- Put the `VectorAssembler` and `LinearRegression` objects into a single `Pipeline` object\n",
    "- Fit the `Pipeline` to the training data. This runs the `VectorAssembler` and the `LinearRegression`\n",
    "- Tranform the testing data with our `Pipeline` to make predictions. This runs the `VectorAssembler` and applies the learned `LinearRegression` method\n",
    "- Extract the `LinearRegressionModel` from our `Pipeline` to check the Root Mean Square Error = $\\displaystyle\\sqrt{\\displaystyle\\frac{\\sum_i^n (x_i - \\hat{x_i})^2}{n}}$ and the coffificients $x_1$, $x_2$, and $x_3$"
   ]
  },
  {
   "cell_type": "code",
   "execution_count": 6,
   "metadata": {
    "collapsed": false
   },
   "outputs": [
    {
     "name": "stdout",
     "output_type": "stream",
     "text": [
      "RMSE: 5.741902848522907\n",
      "[1.000852160795363,2.000315472723747,3.003152979678295]\n"
     ]
    }
   ],
   "source": [
    "/* Import needed classes*/\n",
    "import org.apache.spark.ml.feature.{VectorAssembler, StandardScaler}\n",
    "import org.apache.spark.ml.regression.{LinearRegression, LinearRegressionModel}\n",
    "import org.apache.spark.ml.Pipeline\n",
    "\n",
    "/* (1) Split the Data */\n",
    "val Array(trainingData, testData) = myDF.randomSplit(Array(0.7, 0.3))\n",
    "\n",
    "/* (2) Make your feature vector assembler */\n",
    "val assembler = new VectorAssembler().\n",
    "    setInputCols(Array(\"x1\", \"x2\", \"x3\")).\n",
    "    setOutputCol(\"features\")\n",
    "\n",
    "/* (3) Make your Linear Regression model */\n",
    "val lr = new LinearRegression().\n",
    "    setLabelCol(\"y\"). // Output column name\n",
    "    setFeaturesCol(\"features\"). // Features column name\n",
    "    setStandardization(true) // Standardize training data\n",
    "\n",
    "/* (4) Put the assembler and regression model into a pipeline */\n",
    "val pipeline = new Pipeline().setStages(Array(assembler, lr))\n",
    "\n",
    "/* (5) Run the pipeline on your training data */\n",
    "val model = pipeline.fit(trainingData)\n",
    "\n",
    "/* (6) Make the predictions */\n",
    "val predictions = model.transform(testData).persist\n",
    "\n",
    "/* (7) Pull out the linear regression model from the pipeline, generate summary info */\n",
    "val lrModel = model.stages(1).asInstanceOf[LinearRegressionModel]\n",
    "val trainingSummary = lrModel.summary\n",
    "\n",
    "/* (7.1) Print the Root Mean Square Error */\n",
    "println(s\"RMSE: ${trainingSummary.rootMeanSquaredError}\")\n",
    "\n",
    "/* (7.2) Print the Coefficients */\n",
    "println(lrModel.coefficients)"
   ]
  },
  {
   "cell_type": "markdown",
   "metadata": {},
   "source": [
    "## Conclusion\n",
    "\n",
    "As we can see the model found the correct coefficients (within a small $\\varepsilon$) with a corresponding error of $5.74$ (this is irreduciable error due to $\\xi$)."
   ]
  }
 ],
 "metadata": {
  "kernelspec": {
   "display_name": "Apache Toree - Scala",
   "language": "scala",
   "name": "apache_toree_scala"
  },
  "language_info": {
   "name": "scala",
   "version": "2.10.4"
  }
 },
 "nbformat": 4,
 "nbformat_minor": 1
}
