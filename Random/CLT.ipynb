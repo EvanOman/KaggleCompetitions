{
 "cells": [
  {
   "cell_type": "code",
   "execution_count": 1,
   "metadata": {
    "collapsed": true
   },
   "outputs": [],
   "source": [
    "import matplotlib as mp\n",
    "from typing import *\n",
    "from itertools import accumulate\n",
    "from sys import r"
   ]
  },
  {
   "cell_type": "code",
   "execution_count": null,
   "metadata": {
    "collapsed": true
   },
   "outputs": [],
   "source": [
    "T = TypeVar('T')\n",
    "class DiscreteDistribution(Generic[T]):\n",
    "    values: List[T] = []\n",
    "    probabilities: List[double] = []\n",
    "    cumSumProbs = []\n",
    "    \n",
    "    def __init__(self, values: List[T], probabilities: List[double]) -> None:\n",
    "        if (len(values) != len(probabilities)):\n",
    "            raise ValueError('Number of values not the same of number of probabilties')\n",
    "        elif sum(probabilities) != 1.0:\n",
    "            raise ValueError('Invalid distribution: probabilties do not sum to 1')\n",
    "            \n",
    "        self.values = values\n",
    "        self.probabilities = probabilities\n",
    "        self.cumSumProbs = list(accumulate(probabilities))\n",
    "        \n",
    "    def draw() -> T:\n",
    "        randVal: double = random.random()\n",
    "        return values(next(filter(i -> i >= randVal, cumSumProbs)))"
   ]
  }
 ],
 "metadata": {
  "kernelspec": {
   "display_name": "Python 3",
   "language": "python",
   "name": "python3"
  },
  "language_info": {
   "codemirror_mode": {
    "name": "ipython",
    "version": 3
   },
   "file_extension": ".py",
   "mimetype": "text/x-python",
   "name": "python",
   "nbconvert_exporter": "python",
   "pygments_lexer": "ipython3",
   "version": "3.6.4"
  }
 },
 "nbformat": 4,
 "nbformat_minor": 2
}
