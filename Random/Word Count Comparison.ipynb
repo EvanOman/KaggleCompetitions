{
 "cells": [
  {
   "cell_type": "markdown",
   "metadata": {},
   "source": [
    "## Method 1: `reduceByKey`"
   ]
  },
  {
   "cell_type": "code",
   "execution_count": 15,
   "metadata": {
    "collapsed": false
   },
   "outputs": [
    {
     "name": "stdout",
     "output_type": "stream",
     "text": [
      "reduceByKey took an average of 0.4531570923 seconds per run\n",
      "(the,34258)\n",
      "(and,21396)\n",
      "(to,16500)\n",
      "(of,14904)\n",
      "(a,10388)\n",
      "(he,9298)\n",
      "(in,8733)\n",
      "(his,7930)\n",
      "(that,7412)\n",
      "(was,7200)\n",
      "(with,5648)\n",
      "(had,5334)\n",
      "(at,4492)\n",
      "(not,4481)\n",
      "(her,3962)\n",
      "(as,3908)\n",
      "(it,3900)\n",
      "(on,3666)\n",
      "(but,3619)\n",
      "(for,3390)\n",
      "(i,3226)\n",
      "(she,3225)\n",
      "(is,3038)\n",
      "(him,2733)\n",
      "(you,2680)\n"
     ]
    }
   ],
   "source": [
    "/* Time over 10 runs */\n",
    "val n = 10\n",
    "val linesRDD = sc.textFile(\"./WarAndPeace.txt\").persist\n",
    "val s = System.nanoTime\n",
    "var top25 = Array[(String, Int)]()\n",
    "for (i <- 0 until n)\n",
    "{\n",
    "    top25 = linesRDD.flatMap(_.toLowerCase.split(\"\\\\s+\").filter(_.length > 0)).\n",
    "        map((_,1)).reduceByKey(_+_).sortBy(-_._2).\n",
    "        take(25)\n",
    "}\n",
    "\n",
    "val elapsed = System.nanoTime - s\n",
    "\n",
    "println(s\"reduceByKey took an average of ${elapsed/(n * 1e9d)} seconds per run\")\n",
    "\n",
    "top25.foreach{println}"
   ]
  },
  {
   "cell_type": "markdown",
   "metadata": {},
   "source": [
    "## Method 2: `groupBy`"
   ]
  },
  {
   "cell_type": "code",
   "execution_count": 16,
   "metadata": {
    "collapsed": false
   },
   "outputs": [
    {
     "name": "stdout",
     "output_type": "stream",
     "text": [
      "groupBy took an average of 0.9322475327 seconds per run\n",
      "(34258,the)\n",
      "(21396,and)\n",
      "(16500,to)\n",
      "(14904,of)\n",
      "(10388,a)\n",
      "(9298,he)\n",
      "(8733,in)\n",
      "(7930,his)\n",
      "(7412,that)\n",
      "(7200,was)\n",
      "(5648,with)\n",
      "(5334,had)\n",
      "(4492,at)\n",
      "(4481,not)\n",
      "(3962,her)\n",
      "(3908,as)\n",
      "(3900,it)\n",
      "(3666,on)\n",
      "(3619,but)\n",
      "(3390,for)\n",
      "(3226,i)\n",
      "(3225,she)\n",
      "(3038,is)\n",
      "(2733,him)\n",
      "(2680,you)\n"
     ]
    }
   ],
   "source": [
    "/* Time over 10 runs */\n",
    "val linesRDD = sc.textFile(\"./WarAndPeace.txt\").persist\n",
    "val n = 10\n",
    "val s = System.nanoTime\n",
    "var top25 = Array[(Int, String)]()\n",
    "for (i <- 0 until n)\n",
    "{\n",
    "    top25 = linesRDD.flatMap(_.toLowerCase.split(\"\\\\s+\").filter(_.length > 0)).\n",
    "            groupBy(identity).map(x => x._2.size -> x._1).\n",
    "            sortBy(-_._1).\n",
    "            take(25)\n",
    "}\n",
    "\n",
    "val elapsed = System.nanoTime - s\n",
    "\n",
    "println(s\"groupBy took an average of ${elapsed/(n * 1e9d)} seconds per run\")\n",
    "\n",
    "top25.foreach{println}"
   ]
  }
 ],
 "metadata": {
  "kernelspec": {
   "display_name": "Apache Toree - Scala",
   "language": "scala",
   "name": "apache_toree_scala"
  },
  "language_info": {
   "name": "scala",
   "version": "2.10.4"
  }
 },
 "nbformat": 4,
 "nbformat_minor": 1
}
