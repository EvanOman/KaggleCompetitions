{
 "cells": [
  {
   "cell_type": "markdown",
   "metadata": {},
   "source": [
    "## Method 1: `reduceByKey`"
   ]
  },
  {
   "cell_type": "code",
   "execution_count": 6,
   "metadata": {
    "collapsed": false
   },
   "outputs": [
    {
     "name": "stdout",
     "output_type": "stream",
     "text": [
      "reduceByKey took an average of 0.4752614618 seconds per run\n",
      "(the,31704)\n",
      "(and,20564)\n",
      "(to,16320)\n",
      "(of,14855)\n",
      "(in,8228)\n",
      "(he,7631)\n",
      "(his,7630)\n",
      "(that,7230)\n",
      "(was,7188)\n",
      "(with,5520)\n",
      "(had,5305)\n",
      "(not,4411)\n",
      "(at,4201)\n",
      "(her,3882)\n",
      "(as,3694)\n",
      "(on,3368)\n",
      "(it,3325)\n",
      "(for,3270)\n",
      "(is,2990)\n",
      "(but,2789)\n",
      "(him,2722)\n",
      "(The,2550)\n",
      "(she,2540)\n",
      "(from,2517)\n",
      "(you,2417)\n"
     ]
    }
   ],
   "source": [
    "/* Time over 10 runs */\n",
    "val n = 10\n",
    "val s = System.nanoTime\n",
    "var top25 = Array[(String, Int)]()\n",
    "for (i <- 0 until n)\n",
    "{\n",
    "    val linesRDD = sc.textFile(\"./WarAndPeace.txt\")\n",
    "    top25 = linesRDD.flatMap(_.split(\"\\\\s+\").\n",
    "        filter(_.length > 1)).\n",
    "        map((_,1)).reduceByKey(_+_).sortBy(-_._2).\n",
    "        take(25)\n",
    "}\n",
    "\n",
    "val elapsed = System.nanoTime - s\n",
    "\n",
    "println(s\"reduceByKey took an average of ${elapsed/(n * 1e9d)} seconds per run\")\n",
    "\n",
    "top25.foreach{println}"
   ]
  },
  {
   "cell_type": "markdown",
   "metadata": {},
   "source": [
    "## Method 2: `groupBy`"
   ]
  },
  {
   "cell_type": "code",
   "execution_count": 7,
   "metadata": {
    "collapsed": false
   },
   "outputs": [
    {
     "name": "stdout",
     "output_type": "stream",
     "text": [
      "groupBy took an average of 0.9964297898 seconds per run\n",
      "(31704,the)\n",
      "(20564,and)\n",
      "(16320,to)\n",
      "(14855,of)\n",
      "(8228,in)\n",
      "(7631,he)\n",
      "(7630,his)\n",
      "(7230,that)\n",
      "(7188,was)\n",
      "(5520,with)\n",
      "(5305,had)\n",
      "(4411,not)\n",
      "(4201,at)\n",
      "(3882,her)\n",
      "(3694,as)\n",
      "(3368,on)\n",
      "(3325,it)\n",
      "(3270,for)\n",
      "(2990,is)\n",
      "(2789,but)\n",
      "(2722,him)\n",
      "(2550,The)\n",
      "(2540,she)\n",
      "(2517,from)\n",
      "(2417,you)\n"
     ]
    }
   ],
   "source": [
    "/* Time over 10 runs */\n",
    "val n = 10\n",
    "val s = System.nanoTime\n",
    "var top25 = Array[(Int, String)]()\n",
    "for (i <- 0 until n)\n",
    "{\n",
    "    val linesRDD = sc.textFile(\"./WarAndPeace.txt\")\n",
    "    top25 = linesRDD.flatMap(_.split(\" \").\n",
    "            filter(_.length > 1)).\n",
    "            groupBy(identity).map(x => x._2.size -> x._1).\n",
    "            sortBy(-_._1).\n",
    "            take(25)\n",
    "}\n",
    "\n",
    "val elapsed = System.nanoTime - s\n",
    "\n",
    "println(s\"groupBy took an average of ${elapsed/(n * 1e9d)} seconds per run\")\n",
    "\n",
    "top25.foreach{println}"
   ]
  },
  {
   "cell_type": "code",
   "execution_count": null,
   "metadata": {
    "collapsed": true
   },
   "outputs": [],
   "source": []
  }
 ],
 "metadata": {
  "kernelspec": {
   "display_name": "Apache Toree - Scala",
   "language": "scala",
   "name": "apache_toree_scala"
  },
  "language_info": {
   "name": "scala",
   "version": "2.10.4"
  }
 },
 "nbformat": 4,
 "nbformat_minor": 1
}
