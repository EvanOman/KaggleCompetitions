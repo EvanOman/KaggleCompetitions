{
 "cells": [
  {
   "cell_type": "markdown",
   "metadata": {},
   "source": [
    "# MNIST Classification"
   ]
  },
  {
   "cell_type": "code",
   "execution_count": 2,
   "metadata": {
    "collapsed": false
   },
   "outputs": [
    {
     "data": {
      "text/plain": [
       "\u001b[36mres1\u001b[0m: \u001b[32mcollection\u001b[0m.\u001b[32mimmutable\u001b[0m.\u001b[32mIndexedSeq\u001b[0m[\u001b[32mDouble\u001b[0m] = \u001b[33mVector\u001b[0m(\n",
       "  \u001b[32m1.0\u001b[0m,\n",
       "  \u001b[32m1.4142135623730951\u001b[0m,\n",
       "  \u001b[32m1.7320508075688772\u001b[0m,\n",
       "  \u001b[32m2.0\u001b[0m,\n",
       "  \u001b[32m2.23606797749979\u001b[0m,\n",
       "  \u001b[32m2.449489742783178\u001b[0m,\n",
       "  \u001b[32m2.6457513110645907\u001b[0m,\n",
       "  \u001b[32m2.8284271247461903\u001b[0m,\n",
       "  \u001b[32m3.0\u001b[0m,\n",
       "  \u001b[32m3.1622776601683795\u001b[0m\n",
       ")"
      ]
     },
     "metadata": {},
     "output_type": "display_data"
    }
   ],
   "source": [
    "(1 to 10).map(math.sqrt(_))"
   ]
  }
 ],
 "metadata": {
  "kernelspec": {
   "display_name": "Scala 2.11",
   "language": "scala211",
   "name": "scala211"
  },
  "language_info": {
   "codemirror_mode": "text/x-scala",
   "file_extension": ".scala",
   "mimetype": "text/x-scala",
   "name": "scala211",
   "pygments_lexer": "scala",
   "version": "2.11.8"
  }
 },
 "nbformat": 4,
 "nbformat_minor": 0
}
