{
 "cells": [
  {
   "cell_type": "markdown",
   "metadata": {},
   "source": [
    "# Import / Preprocessing"
   ]
  },
  {
   "cell_type": "code",
   "execution_count": 1,
   "metadata": {
    "collapsed": true
   },
   "outputs": [],
   "source": [
    "import pandas as pd\n",
    "import numpy as np\n",
    "import math\n",
    "from sklearn import preprocessing"
   ]
  },
  {
   "cell_type": "code",
   "execution_count": 2,
   "metadata": {
    "collapsed": true
   },
   "outputs": [],
   "source": [
    "# Read in the datas\n",
    "training = pd.read_csv(\"./train.csv\")\n",
    "evaluation = pd.read_csv(\"./test.csv\")"
   ]
  },
  {
   "cell_type": "code",
   "execution_count": 3,
   "metadata": {
    "collapsed": false
   },
   "outputs": [],
   "source": [
    "# There are 116 categorical columns of the form: cat1-cat116\n",
    "catCols = [\"cat\" + str(x) for x in range(1, 117)]\n",
    "\n",
    "# There are 14 continuous columns of the form cont1-cont14\n",
    "contCols = [\"cont\" + str(x) for x in range(1,15)]"
   ]
  },
  {
   "cell_type": "code",
   "execution_count": 4,
   "metadata": {
    "collapsed": false
   },
   "outputs": [],
   "source": [
    "# Create label encoder model dictionary and populate dict with label encoding models\n",
    "leDict = {}\n",
    "for catCol in catCols:\n",
    "    leDict[catCol] = preprocessing.LabelEncoder().fit(pd.concat([training[catCol], evaluation[catCol]]))"
   ]
  },
  {
   "cell_type": "code",
   "execution_count": 5,
   "metadata": {
    "collapsed": false
   },
   "outputs": [],
   "source": [
    "# Apply encoding models to categorical variables\n",
    "training[catCols] = training[catCols].apply(lambda x: leDict[x.name].transform(x))\n",
    "evaluation[catCols] = evaluation[catCols].apply(lambda x: leDict[x.name].transform(x))"
   ]
  },
  {
   "cell_type": "code",
   "execution_count": 6,
   "metadata": {
    "collapsed": false
   },
   "outputs": [],
   "source": [
    "def splitDF(df):\n",
    "    # create and random permutation of indices\n",
    "    indices = np.random.permutation(df.shape[0])\n",
    "\n",
    "    # split permutation in two\n",
    "    numInd = len(indices)\n",
    "    trainingInds = indices[:math.ceil(numInd/2)]\n",
    "\n",
    "    # split df using permutations\n",
    "    inds = df.index.isin(trainingInds)\n",
    "    training = df[inds]\n",
    "    testing = df[~inds]\n",
    "\n",
    "    # double check shape\n",
    "    print(testing.shape)\n",
    "    print(training.shape)\n",
    "    \n",
    "    return (testing, training)"
   ]
  },
  {
   "cell_type": "code",
   "execution_count": 7,
   "metadata": {
    "collapsed": false
   },
   "outputs": [
    {
     "name": "stdout",
     "output_type": "stream",
     "text": [
      "(94159, 131)\n",
      "(94159, 131)\n"
     ]
    }
   ],
   "source": [
    "# Make a training and testing set\n",
    "train, test = splitDF(training.drop(\"id\", axis=1))"
   ]
  },
  {
   "cell_type": "markdown",
   "metadata": {},
   "source": [
    "# All the Boosting"
   ]
  },
  {
   "cell_type": "code",
   "execution_count": 8,
   "metadata": {
    "collapsed": false
   },
   "outputs": [],
   "source": [
    "import sklearn.ensemble as em\n",
    "\n",
    "models = [em.AdaBoostRegressor(), em.BaggingRegressor(), em.ExtraTreesRegressor(), em.GradientBoostingRegressor(), em.RandomForestRegressor()]"
   ]
  },
  {
   "cell_type": "code",
   "execution_count": 9,
   "metadata": {
    "collapsed": false
   },
   "outputs": [
    {
     "name": "stderr",
     "output_type": "stream",
     "text": [
      "/usr/local/lib/python3.4/dist-packages/sklearn/externals/joblib/parallel.py:540: UserWarning: Multiprocessing-backed parallel loops cannot be nested, setting n_jobs=1\n",
      "  **self._backend_args)\n"
     ]
    }
   ],
   "source": [
    "from joblib import Parallel, delayed\n",
    "import multiprocessing\n",
    "import sklearn.ensemble as em\n",
    "\n",
    "models = [em.AdaBoostRegressor(), em.BaggingRegressor(), em.ExtraTreesRegressor(), em.GradientBoostingRegressor(), em.RandomForestRegressor()]\n",
    "num_cores = multiprocessing.cpu_count()\n",
    "\n",
    "# prep params\n",
    "X = train.drop([\"loss\"], axis=1)\n",
    "y = train[\"loss\"]\n",
    "X_t = test.drop([\"loss\"], axis=1)\n",
    "y_t = test[\"loss\"] \n",
    "\n",
    "# Fit all of the models\n",
    "fittedModels = Parallel(n_jobs=num_cores)(delayed(model.fit)(X, y) for model in models)"
   ]
  },
  {
   "cell_type": "code",
   "execution_count": 10,
   "metadata": {
    "collapsed": false
   },
   "outputs": [],
   "source": [
    "# Apply models to training data:\n",
    "y_hats_train = [m.predict(X) for m in fittedModels]\n",
    "\n",
    "\n",
    "# Apply models to testing data\n",
    "y_hats_test = [m.predict(X_t) for m in fittedModels]"
   ]
  },
  {
   "cell_type": "code",
   "execution_count": 21,
   "metadata": {
    "collapsed": false
   },
   "outputs": [],
   "source": [
    "# Make Training Ensemble DF from model predictions:\n",
    "ensembleTrain = pd.DataFrame(y_hats_train).transpose()\n",
    "ensembleTrain[\"y\"] = y.reset_index().drop(\"index\", axis=1)\n",
    "\n",
    "# Make Testing Ensemble DF from model predictions:\n",
    "ensembleTest = pd.DataFrame(y_hats_test).transpose()"
   ]
  },
  {
   "cell_type": "code",
   "execution_count": 22,
   "metadata": {
    "collapsed": false
   },
   "outputs": [],
   "source": [
    "# Fit model to training Ensemble DF\n",
    "ensMod = em.RandomForestRegressor()\n",
    "ensMod.fit(ensembleTrain.drop(\"y\", axis=1), ensembleTrain[\"y\"])\n",
    "\n",
    "\n",
    "# Apply ensemble model to testing ensemble DF\n",
    "y_hat_final = ensMod.predict(ensembleTest)"
   ]
  },
  {
   "cell_type": "code",
   "execution_count": 23,
   "metadata": {
    "collapsed": false
   },
   "outputs": [],
   "source": [
    "def score(y, y_hat):\n",
    "    return abs(y - y_hat).mean()"
   ]
  },
  {
   "cell_type": "code",
   "execution_count": 25,
   "metadata": {
    "collapsed": false
   },
   "outputs": [
    {
     "data": {
      "text/plain": [
       "1330.3040535689634"
      ]
     },
     "execution_count": 25,
     "metadata": {},
     "output_type": "execute_result"
    }
   ],
   "source": [
    "score(y_hat_final, y_t)"
   ]
  },
  {
   "cell_type": "markdown",
   "metadata": {},
   "source": [
    "## Thoughts\n",
    "Sooo, my ensembling score is only 1330, which I think is worse than the gradient boosting score (1200ish)\n",
    "- Does this mean my ensembling method is not working?\n",
    "- Could my result mean that ensembling makes my code less liable to overfitting?\n",
    "- **Submission w/ all of this ensembling gave me a score of 1302, which is not an improvement on my best (RF) of 1242**"
   ]
  },
  {
   "cell_type": "markdown",
   "metadata": {},
   "source": [
    "# Ensembling All Training Data"
   ]
  },
  {
   "cell_type": "code",
   "execution_count": 26,
   "metadata": {
    "collapsed": false
   },
   "outputs": [
    {
     "name": "stderr",
     "output_type": "stream",
     "text": [
      "/usr/local/lib/python3.4/dist-packages/sklearn/externals/joblib/parallel.py:540: UserWarning: Multiprocessing-backed parallel loops cannot be nested, setting n_jobs=1\n",
      "  **self._backend_args)\n"
     ]
    }
   ],
   "source": [
    "from joblib import Parallel, delayed\n",
    "import multiprocessing\n",
    "import sklearn.ensemble as em\n",
    "\n",
    "models = [em.AdaBoostRegressor(), em.BaggingRegressor(), em.ExtraTreesRegressor(), em.GradientBoostingRegressor(), em.RandomForestRegressor()]\n",
    "num_cores = multiprocessing.cpu_count()\n",
    "\n",
    "allData = pd.concat([train, test])\n",
    "\n",
    "# prep params\n",
    "X = allData.drop([\"loss\"], axis=1)\n",
    "y = allData[\"loss\"]\n",
    "\n",
    "# Fit all of the models\n",
    "fittedModels = Parallel(n_jobs=num_cores)(delayed(model.fit)(X, y) for model in models)"
   ]
  },
  {
   "cell_type": "code",
   "execution_count": 27,
   "metadata": {
    "collapsed": true
   },
   "outputs": [],
   "source": [
    "# Apply models to training data:\n",
    "y_hats_train = [m.predict(X) for m in fittedModels]"
   ]
  },
  {
   "cell_type": "code",
   "execution_count": 29,
   "metadata": {
    "collapsed": true
   },
   "outputs": [],
   "source": [
    "# Apply models to eval data\n",
    "X_t = evaluationation.drop(\"id\", axis=1)\n",
    "\n",
    "y_hats_eval = [m.predict(X_t) for m in fittedModels]"
   ]
  },
  {
   "cell_type": "code",
   "execution_count": 28,
   "metadata": {
    "collapsed": true
   },
   "outputs": [],
   "source": [
    "# Make Training Ensemble DF from model predictions:\n",
    "ensembleTrain = pd.DataFrame(y_hats_train).transpose()\n",
    "ensembleTrain[\"y\"] = y.reset_index().drop(\"index\", axis=1)"
   ]
  },
  {
   "cell_type": "code",
   "execution_count": 30,
   "metadata": {
    "collapsed": true
   },
   "outputs": [],
   "source": [
    "# Make Testing Ensemble DF from model predictions:\n",
    "ensembleEval = pd.DataFrame(y_hats_eval).transpose()"
   ]
  },
  {
   "cell_type": "code",
   "execution_count": 35,
   "metadata": {
    "collapsed": true
   },
   "outputs": [],
   "source": [
    "# Apply ensemble model to eval ensemble DF\n",
    "y_hat_final = ensMod.predict(ensembleEval)"
   ]
  },
  {
   "cell_type": "code",
   "execution_count": 36,
   "metadata": {
    "collapsed": false
   },
   "outputs": [
    {
     "data": {
      "text/plain": [
       "(125546,)"
      ]
     },
     "execution_count": 36,
     "metadata": {},
     "output_type": "execute_result"
    }
   ],
   "source": [
    "y_hat_final.shape"
   ]
  },
  {
   "cell_type": "code",
   "execution_count": 37,
   "metadata": {
    "collapsed": false
   },
   "outputs": [],
   "source": [
    "evaluation[\"loss\"] = y_hat_final"
   ]
  },
  {
   "cell_type": "code",
   "execution_count": 38,
   "metadata": {
    "collapsed": true
   },
   "outputs": [],
   "source": [
    "evaluation[[\"id\",\"loss\"]].to_csv(\"./submission4.csv\", index=False)"
   ]
  }
 ],
 "metadata": {
  "kernelspec": {
   "display_name": "Python 3",
   "language": "python",
   "name": "python3"
  },
  "language_info": {
   "codemirror_mode": {
    "name": "ipython",
    "version": 3
   },
   "file_extension": ".py",
   "mimetype": "text/x-python",
   "name": "python",
   "nbconvert_exporter": "python",
   "pygments_lexer": "ipython3",
   "version": "3.4.3"
  }
 },
 "nbformat": 4,
 "nbformat_minor": 1
}
