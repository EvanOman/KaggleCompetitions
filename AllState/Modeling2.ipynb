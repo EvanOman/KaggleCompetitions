{
 "cells": [
  {
   "cell_type": "markdown",
   "metadata": {},
   "source": [
    "# Import / Preprocessing"
   ]
  },
  {
   "cell_type": "code",
   "execution_count": 72,
   "metadata": {
    "collapsed": true
   },
   "outputs": [],
   "source": [
    "import pandas as pd\n",
    "import numpy as np\n",
    "import math\n",
    "from sklearn import preprocessing"
   ]
  },
  {
   "cell_type": "code",
   "execution_count": 73,
   "metadata": {
    "collapsed": true
   },
   "outputs": [],
   "source": [
    "# Read in the datas\n",
    "training = pd.read_csv(\"./train.csv\")\n",
    "testing = pd.read_csv(\"./test.csv\")"
   ]
  },
  {
   "cell_type": "code",
   "execution_count": 74,
   "metadata": {
    "collapsed": false
   },
   "outputs": [],
   "source": [
    "# There are 116 categorical columns of the form: cat1-cat116\n",
    "catCols = [\"cat\" + str(x) for x in range(1, 117)]\n",
    "\n",
    "# There are 14 continuous columns of the form cont1-cont14\n",
    "contCols = [\"cont\" + str(x) for x in range(1,15)]"
   ]
  },
  {
   "cell_type": "code",
   "execution_count": 75,
   "metadata": {
    "collapsed": false
   },
   "outputs": [],
   "source": [
    "# Create label encoder model dictionary and populate dict with label encoding models\n",
    "leDict = {}\n",
    "for catCol in catCols:\n",
    "    leDict[catCol] = preprocessing.LabelEncoder().fit(pd.concat([training[catCol], testing[catCol]]))"
   ]
  },
  {
   "cell_type": "code",
   "execution_count": 76,
   "metadata": {
    "collapsed": false
   },
   "outputs": [],
   "source": [
    "# Apply encoding models to categorical variables\n",
    "training[catCols] = training[catCols].apply(lambda x: leDict[x.name].transform(x))\n",
    "testing[catCols] = testing[catCols].apply(lambda x: leDict[x.name].transform(x))"
   ]
  },
  {
   "cell_type": "code",
   "execution_count": 79,
   "metadata": {
    "collapsed": false
   },
   "outputs": [],
   "source": [
    "def splitDF(df):\n",
    "    # create and random permutation of indices\n",
    "    indices = np.random.permutation(df.shape[0])\n",
    "\n",
    "    # split permutation in two\n",
    "    numInd = len(indices)\n",
    "    trainingInds = indices[:math.ceil(numInd/2)]\n",
    "\n",
    "    # split df using permutations\n",
    "    inds = df.index.isin(trainingInds)\n",
    "    training = df[inds]\n",
    "    testing = df[~inds]\n",
    "\n",
    "    # double check shape\n",
    "    print(testing.shape)\n",
    "    print(training.shape)\n",
    "    \n",
    "    (testing, training)"
   ]
  },
  {
   "cell_type": "markdown",
   "metadata": {},
   "source": [
    "# SGDRegressor"
   ]
  },
  {
   "cell_type": "code",
   "execution_count": 56,
   "metadata": {
    "collapsed": false
   },
   "outputs": [
    {
     "name": "stdout",
     "output_type": "stream",
     "text": [
      "Automatically created module for IPython interactive environment\n"
     ]
    }
   ],
   "source": [
    "print(__doc__)\n",
    "%matplotlib inline\n",
    "import numpy as np\n",
    "from sklearn.svm import SVR\n",
    "import matplotlib.pyplot as plt\n",
    "from sklearn.preprocessing import StandardScaler"
   ]
  },
  {
   "cell_type": "markdown",
   "metadata": {},
   "source": [
    "## First we need to scale all of the data"
   ]
  },
  {
   "cell_type": "code",
   "execution_count": 81,
   "metadata": {
    "collapsed": false
   },
   "outputs": [],
   "source": [
    "scaler = StandardScaler()\n",
    "scaler.fit(training.drop([\"loss\"], axis=1))  # Don't cheat - fit only on training data\n",
    "trScale = scaler.transform(training.drop([\"loss\"], axis=1))\n",
    "teScale = scaler.transform(testing)  # apply same transformation to test data"
   ]
  },
  {
   "cell_type": "code",
   "execution_count": 87,
   "metadata": {
    "collapsed": false
   },
   "outputs": [
    {
     "name": "stdout",
     "output_type": "stream",
     "text": [
      "(188318, 131)\n",
      "(188318, 130)\n"
     ]
    }
   ],
   "source": [
    "print(trScale.shape)\n",
    "print(trScale[:,1:].shape)"
   ]
  },
  {
   "cell_type": "code",
   "execution_count": 88,
   "metadata": {
    "collapsed": false
   },
   "outputs": [],
   "source": [
    "from sklearn import linear_model\n",
    "\n",
    "clf = linear_model.SGDRegressor()\n",
    "clf_model = clf.fit(trScale[:,1:], training[\"loss\"])\n",
    "\n",
    "testing[\"loss\"] = clf_model.predict(teScale[:,1:])"
   ]
  },
  {
   "cell_type": "markdown",
   "metadata": {},
   "source": [
    "TODO:\n",
    "- Read in actual training/testing data\n",
    "- Run SGD on full data"
   ]
  },
  {
   "cell_type": "code",
   "execution_count": 91,
   "metadata": {
    "collapsed": false
   },
   "outputs": [],
   "source": [
    "testing[[\"id\",\"loss\"]].to_csv(\"./submission1.csv\")"
   ]
  },
  {
   "cell_type": "code",
   "execution_count": 63,
   "metadata": {
    "collapsed": false
   },
   "outputs": [
    {
     "data": {
      "text/plain": [
       "Index(['cat1', 'cat2', 'cat3', 'cat4', 'cat5', 'cat6', 'cat7', 'cat8', 'cat9',\n",
       "       'cat10',\n",
       "       ...\n",
       "       'cont6', 'cont7', 'cont8', 'cont9', 'cont10', 'cont11', 'cont12',\n",
       "       'cont13', 'cont14', 'loss'],\n",
       "      dtype='object', length=131)"
      ]
     },
     "execution_count": 63,
     "metadata": {},
     "output_type": "execute_result"
    }
   ],
   "source": [
    "testing.columns"
   ]
  },
  {
   "cell_type": "code",
   "execution_count": 27,
   "metadata": {
    "collapsed": false
   },
   "outputs": [
    {
     "data": {
      "text/plain": [
       "(94159, 132)"
      ]
     },
     "execution_count": 27,
     "metadata": {},
     "output_type": "execute_result"
    }
   ],
   "source": [
    "testing.drop(\"loss\", axis=1).shape"
   ]
  },
  {
   "cell_type": "code",
   "execution_count": 28,
   "metadata": {
    "collapsed": false
   },
   "outputs": [
    {
     "data": {
      "text/plain": [
       "(94159, 131)"
      ]
     },
     "execution_count": 28,
     "metadata": {},
     "output_type": "execute_result"
    }
   ],
   "source": [
    "training.drop(\"loss\", axis=1).shape"
   ]
  },
  {
   "cell_type": "code",
   "execution_count": 29,
   "metadata": {
    "collapsed": false
   },
   "outputs": [
    {
     "data": {
      "text/plain": [
       "(94159, 132)"
      ]
     },
     "execution_count": 29,
     "metadata": {},
     "output_type": "execute_result"
    }
   ],
   "source": [
    "training.shape"
   ]
  },
  {
   "cell_type": "code",
   "execution_count": 30,
   "metadata": {
    "collapsed": false
   },
   "outputs": [
    {
     "data": {
      "text/plain": [
       "(94159, 133)"
      ]
     },
     "execution_count": 30,
     "metadata": {},
     "output_type": "execute_result"
    }
   ],
   "source": [
    "testing.shape"
   ]
  },
  {
   "cell_type": "code",
   "execution_count": 36,
   "metadata": {
    "collapsed": false
   },
   "outputs": [
    {
     "data": {
      "text/html": [
       "<div>\n",
       "<table border=\"1\" class=\"dataframe\">\n",
       "  <thead>\n",
       "    <tr style=\"text-align: right;\">\n",
       "      <th></th>\n",
       "      <th>cat1</th>\n",
       "      <th>cat2</th>\n",
       "      <th>cat3</th>\n",
       "      <th>cat4</th>\n",
       "      <th>cat5</th>\n",
       "      <th>cat6</th>\n",
       "      <th>cat7</th>\n",
       "      <th>cat8</th>\n",
       "      <th>cat9</th>\n",
       "      <th>cat10</th>\n",
       "      <th>...</th>\n",
       "      <th>cont5</th>\n",
       "      <th>cont6</th>\n",
       "      <th>cont7</th>\n",
       "      <th>cont8</th>\n",
       "      <th>cont9</th>\n",
       "      <th>cont10</th>\n",
       "      <th>cont11</th>\n",
       "      <th>cont12</th>\n",
       "      <th>cont13</th>\n",
       "      <th>cont14</th>\n",
       "    </tr>\n",
       "  </thead>\n",
       "  <tbody>\n",
       "    <tr>\n",
       "      <th>4</th>\n",
       "      <td>0</td>\n",
       "      <td>1</td>\n",
       "      <td>0</td>\n",
       "      <td>1</td>\n",
       "      <td>0</td>\n",
       "      <td>0</td>\n",
       "      <td>0</td>\n",
       "      <td>0</td>\n",
       "      <td>1</td>\n",
       "      <td>1</td>\n",
       "      <td>...</td>\n",
       "      <td>0.704268</td>\n",
       "      <td>0.178193</td>\n",
       "      <td>0.247408</td>\n",
       "      <td>0.24564</td>\n",
       "      <td>0.22089</td>\n",
       "      <td>0.21230</td>\n",
       "      <td>0.204687</td>\n",
       "      <td>0.202213</td>\n",
       "      <td>0.246011</td>\n",
       "      <td>0.432606</td>\n",
       "    </tr>\n",
       "    <tr>\n",
       "      <th>9</th>\n",
       "      <td>0</td>\n",
       "      <td>1</td>\n",
       "      <td>0</td>\n",
       "      <td>0</td>\n",
       "      <td>1</td>\n",
       "      <td>1</td>\n",
       "      <td>0</td>\n",
       "      <td>0</td>\n",
       "      <td>1</td>\n",
       "      <td>0</td>\n",
       "      <td>...</td>\n",
       "      <td>0.310061</td>\n",
       "      <td>0.713343</td>\n",
       "      <td>0.469223</td>\n",
       "      <td>0.30260</td>\n",
       "      <td>0.67135</td>\n",
       "      <td>0.83510</td>\n",
       "      <td>0.863052</td>\n",
       "      <td>0.879347</td>\n",
       "      <td>0.822493</td>\n",
       "      <td>0.294523</td>\n",
       "    </tr>\n",
       "    <tr>\n",
       "      <th>15</th>\n",
       "      <td>0</td>\n",
       "      <td>0</td>\n",
       "      <td>0</td>\n",
       "      <td>0</td>\n",
       "      <td>1</td>\n",
       "      <td>1</td>\n",
       "      <td>0</td>\n",
       "      <td>0</td>\n",
       "      <td>0</td>\n",
       "      <td>0</td>\n",
       "      <td>...</td>\n",
       "      <td>0.281143</td>\n",
       "      <td>0.570733</td>\n",
       "      <td>0.547756</td>\n",
       "      <td>0.80438</td>\n",
       "      <td>0.44352</td>\n",
       "      <td>0.63026</td>\n",
       "      <td>0.385085</td>\n",
       "      <td>0.377003</td>\n",
       "      <td>0.516660</td>\n",
       "      <td>0.340325</td>\n",
       "    </tr>\n",
       "    <tr>\n",
       "      <th>16</th>\n",
       "      <td>0</td>\n",
       "      <td>1</td>\n",
       "      <td>1</td>\n",
       "      <td>0</td>\n",
       "      <td>0</td>\n",
       "      <td>0</td>\n",
       "      <td>0</td>\n",
       "      <td>0</td>\n",
       "      <td>1</td>\n",
       "      <td>1</td>\n",
       "      <td>...</td>\n",
       "      <td>0.525831</td>\n",
       "      <td>0.411902</td>\n",
       "      <td>0.593548</td>\n",
       "      <td>0.31796</td>\n",
       "      <td>0.38846</td>\n",
       "      <td>0.48889</td>\n",
       "      <td>0.457203</td>\n",
       "      <td>0.447145</td>\n",
       "      <td>0.301535</td>\n",
       "      <td>0.205651</td>\n",
       "    </tr>\n",
       "    <tr>\n",
       "      <th>17</th>\n",
       "      <td>0</td>\n",
       "      <td>0</td>\n",
       "      <td>0</td>\n",
       "      <td>0</td>\n",
       "      <td>0</td>\n",
       "      <td>1</td>\n",
       "      <td>0</td>\n",
       "      <td>0</td>\n",
       "      <td>0</td>\n",
       "      <td>0</td>\n",
       "      <td>...</td>\n",
       "      <td>0.551723</td>\n",
       "      <td>0.688705</td>\n",
       "      <td>0.437192</td>\n",
       "      <td>0.67263</td>\n",
       "      <td>0.83505</td>\n",
       "      <td>0.59334</td>\n",
       "      <td>0.678924</td>\n",
       "      <td>0.665644</td>\n",
       "      <td>0.684242</td>\n",
       "      <td>0.407411</td>\n",
       "    </tr>\n",
       "  </tbody>\n",
       "</table>\n",
       "<p>5 rows × 130 columns</p>\n",
       "</div>"
      ],
      "text/plain": [
       "    cat1  cat2  cat3  cat4  cat5  cat6  cat7  cat8  cat9  cat10    ...     \\\n",
       "4      0     1     0     1     0     0     0     0     1      1    ...      \n",
       "9      0     1     0     0     1     1     0     0     1      0    ...      \n",
       "15     0     0     0     0     1     1     0     0     0      0    ...      \n",
       "16     0     1     1     0     0     0     0     0     1      1    ...      \n",
       "17     0     0     0     0     0     1     0     0     0      0    ...      \n",
       "\n",
       "       cont5     cont6     cont7    cont8    cont9   cont10    cont11  \\\n",
       "4   0.704268  0.178193  0.247408  0.24564  0.22089  0.21230  0.204687   \n",
       "9   0.310061  0.713343  0.469223  0.30260  0.67135  0.83510  0.863052   \n",
       "15  0.281143  0.570733  0.547756  0.80438  0.44352  0.63026  0.385085   \n",
       "16  0.525831  0.411902  0.593548  0.31796  0.38846  0.48889  0.457203   \n",
       "17  0.551723  0.688705  0.437192  0.67263  0.83505  0.59334  0.678924   \n",
       "\n",
       "      cont12    cont13    cont14  \n",
       "4   0.202213  0.246011  0.432606  \n",
       "9   0.879347  0.822493  0.294523  \n",
       "15  0.377003  0.516660  0.340325  \n",
       "16  0.447145  0.301535  0.205651  \n",
       "17  0.665644  0.684242  0.407411  \n",
       "\n",
       "[5 rows x 130 columns]"
      ]
     },
     "execution_count": 36,
     "metadata": {},
     "output_type": "execute_result"
    }
   ],
   "source": [
    "training.drop(\"loss\", axis=1).head()"
   ]
  },
  {
   "cell_type": "code",
   "execution_count": null,
   "metadata": {
    "collapsed": true
   },
   "outputs": [],
   "source": []
  }
 ],
 "metadata": {
  "kernelspec": {
   "display_name": "Python 3",
   "language": "python",
   "name": "python3"
  },
  "language_info": {
   "codemirror_mode": {
    "name": "ipython",
    "version": 3
   },
   "file_extension": ".py",
   "mimetype": "text/x-python",
   "name": "python",
   "nbconvert_exporter": "python",
   "pygments_lexer": "ipython3",
   "version": "3.4.3"
  }
 },
 "nbformat": 4,
 "nbformat_minor": 1
}
