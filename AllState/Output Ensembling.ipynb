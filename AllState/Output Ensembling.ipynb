{
 "cells": [
  {
   "cell_type": "code",
   "execution_count": 17,
   "metadata": {
    "collapsed": false
   },
   "outputs": [],
   "source": [
    "import numpy as np\n",
    "import pandas as pd\n",
    "weights = np.array([1/1175.50, 1/1240.67, 1/1930.81, 1 / 1928.33, 1 / 1235.22,\n",
    "             1 / 1302.06, 1 / 1242.72, 1 / 1303.23])"
   ]
  },
  {
   "cell_type": "code",
   "execution_count": 18,
   "metadata": {
    "collapsed": false
   },
   "outputs": [],
   "source": [
    "# Normalize\n",
    "weights = weights/weights.sum()"
   ]
  },
  {
   "cell_type": "code",
   "execution_count": 19,
   "metadata": {
    "collapsed": false
   },
   "outputs": [],
   "source": [
    "indices = [11, 10, 9, 8, 6, 4, 3, 2]\n",
    "subFiles = [\"submission\" + str(i) + \".csv\" for i in indices]"
   ]
  },
  {
   "cell_type": "code",
   "execution_count": 20,
   "metadata": {
    "collapsed": false
   },
   "outputs": [
    {
     "data": {
      "text/plain": [
       "['submission11.csv',\n",
       " 'submission10.csv',\n",
       " 'submission9.csv',\n",
       " 'submission8.csv',\n",
       " 'submission6.csv',\n",
       " 'submission4.csv',\n",
       " 'submission3.csv',\n",
       " 'submission2.csv']"
      ]
     },
     "execution_count": 20,
     "metadata": {},
     "output_type": "execute_result"
    }
   ],
   "source": [
    "subFiles"
   ]
  },
  {
   "cell_type": "code",
   "execution_count": 36,
   "metadata": {
    "collapsed": false
   },
   "outputs": [],
   "source": [
    "dfs = [pd.read_csv(file) for file in subFiles]\n",
    "\n",
    "y_hats = [df[\"loss\"] for df in dfs]\n",
    "\n",
    "weighted_y_hats = np.array([t[0] * t[1] for t in zip(y_hats, weights)])\n",
    "\n",
    "y_hat_prime = weighted_y_hats.sum(axis=0)"
   ]
  },
  {
   "cell_type": "code",
   "execution_count": 42,
   "metadata": {
    "collapsed": false
   },
   "outputs": [],
   "source": [
    "d = {\"id\": pd.Series(dfs[0][\"id\"]), \"loss\": pd.Series(y_hat_prime)}\n",
    "out = pd.DataFrame(d)"
   ]
  },
  {
   "cell_type": "code",
   "execution_count": 44,
   "metadata": {
    "collapsed": false
   },
   "outputs": [],
   "source": [
    "out.to_csv(\"./submission12.csv\", index=False)"
   ]
  },
  {
   "cell_type": "code",
   "execution_count": null,
   "metadata": {
    "collapsed": true
   },
   "outputs": [],
   "source": []
  }
 ],
 "metadata": {
  "kernelspec": {
   "display_name": "Python 3",
   "language": "python",
   "name": "python3"
  },
  "language_info": {
   "codemirror_mode": {
    "name": "ipython",
    "version": 3
   },
   "file_extension": ".py",
   "mimetype": "text/x-python",
   "name": "python",
   "nbconvert_exporter": "python",
   "pygments_lexer": "ipython3",
   "version": "3.4.5"
  }
 },
 "nbformat": 4,
 "nbformat_minor": 0
}
