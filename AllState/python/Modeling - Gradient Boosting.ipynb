{
 "cells": [
  {
   "cell_type": "markdown",
   "metadata": {},
   "source": [
    "# Import / Preprocessing"
   ]
  },
  {
   "cell_type": "code",
   "execution_count": 1,
   "metadata": {
    "collapsed": false
   },
   "outputs": [],
   "source": [
    "import pandas as pd\n",
    "import numpy as np\n",
    "import math\n",
    "from sklearn import preprocessing"
   ]
  },
  {
   "cell_type": "code",
   "execution_count": 2,
   "metadata": {
    "code_folding": [],
    "collapsed": true
   },
   "outputs": [],
   "source": [
    "# Read in the datas\n",
    "training = pd.read_csv(\"./train.csv\")\n",
    "evaluation = pd.read_csv(\"./test.csv\")"
   ]
  },
  {
   "cell_type": "code",
   "execution_count": 3,
   "metadata": {
    "collapsed": false
   },
   "outputs": [],
   "source": [
    "# There are 116 categorical columns of the form: cat1-cat116\n",
    "catCols = [\"cat\" + str(x) for x in range(1, 117)]\n",
    "\n",
    "# There are 14 continuous columns of the form cont1-cont14\n",
    "contCols = [\"cont\" + str(x) for x in range(1,15)]"
   ]
  },
  {
   "cell_type": "code",
   "execution_count": 4,
   "metadata": {
    "collapsed": false
   },
   "outputs": [],
   "source": [
    "# Create label encoder model dictionary and populate dict with label encoding models\n",
    "leDict = {}\n",
    "for catCol in catCols:\n",
    "    leDict[catCol] = preprocessing.LabelEncoder().fit(pd.concat([training[catCol], evaluation[catCol]]))"
   ]
  },
  {
   "cell_type": "code",
   "execution_count": 5,
   "metadata": {
    "collapsed": false
   },
   "outputs": [],
   "source": [
    "# Apply encoding models to categorical variables\n",
    "training[catCols] = training[catCols].apply(lambda x: leDict[x.name].transform(x))\n",
    "evaluation[catCols] = evaluation[catCols].apply(lambda x: leDict[x.name].transform(x))"
   ]
  },
  {
   "cell_type": "code",
   "execution_count": 6,
   "metadata": {
    "collapsed": false
   },
   "outputs": [],
   "source": [
    "def splitDF(df):\n",
    "    # create and random permutation of indices\n",
    "    indices = np.random.permutation(df.shape[0])\n",
    "\n",
    "    # split permutation in two\n",
    "    numInd = len(indices)\n",
    "    trainingInds = indices[:math.ceil(numInd/2)]\n",
    "\n",
    "    # split df using permutations\n",
    "    inds = df.index.isin(trainingInds)\n",
    "    training = df[inds]\n",
    "    testing = df[~inds]\n",
    "\n",
    "    # double check shape\n",
    "    print(testing.shape)\n",
    "    print(training.shape)\n",
    "    \n",
    "    return (testing, training)"
   ]
  },
  {
   "cell_type": "code",
   "execution_count": 7,
   "metadata": {
    "collapsed": false
   },
   "outputs": [
    {
     "name": "stdout",
     "output_type": "stream",
     "text": [
      "(94159, 131)\n",
      "(94159, 131)\n"
     ]
    }
   ],
   "source": [
    "# Make a training and testing set\n",
    "train, test = splitDF(training.drop(\"id\", axis=1))"
   ]
  },
  {
   "cell_type": "code",
   "execution_count": 17,
   "metadata": {
    "collapsed": false
   },
   "outputs": [],
   "source": [
    "from joblib import Parallel, delayed\n",
    "import multiprocessing\n",
    "import sklearn.ensemble as em\n",
    "\n",
    "models = [em.AdaBoostRegressor(), em.BaggingRegressor(), em.ExtraTreesRegressor(), em.GradientBoostingRegressor(), em.RandomForestRegressor()]\n",
    "num_cores = multiprocessing.cpu_count()\n",
    "\n",
    "allData = pd.concat([train, test])\n",
    "\n",
    "# prep params\n",
    "X = allData.drop([\"loss\"], axis=1)\n",
    "y = allData[\"loss\"]\n",
    "\n",
    "# Fit all of the models\n",
    "# fittedModels = Parallel(n_jobs=num_cores)(delayed(model.fit)(X, y) for model in models)"
   ]
  },
  {
   "cell_type": "markdown",
   "metadata": {},
   "source": [
    "## Gradient boost with PCA"
   ]
  },
  {
   "cell_type": "code",
   "execution_count": 18,
   "metadata": {
    "collapsed": false
   },
   "outputs": [],
   "source": [
    "from sklearn.decomposition import PCA"
   ]
  },
  {
   "cell_type": "code",
   "execution_count": 23,
   "metadata": {
    "collapsed": true
   },
   "outputs": [],
   "source": [
    "X_t = evaluation.drop(\"id\", axis=1)"
   ]
  },
  {
   "cell_type": "code",
   "execution_count": 41,
   "metadata": {
    "collapsed": false
   },
   "outputs": [
    {
     "name": "stdout",
     "output_type": "stream",
     "text": [
      "(188318, 65)\n",
      "(125546, 65)\n"
     ]
    }
   ],
   "source": [
    "pca = PCA(n_components = 65, svd_solver = 'full')\n",
    "pca.fit(X)\n",
    "X_PCA = pca.transform(X)\n",
    "X_t_PCA = pca.transform(X_t)\n",
    "print(X_PCA.shape)\n",
    "print(X_t_PCA.shape)"
   ]
  },
  {
   "cell_type": "code",
   "execution_count": 45,
   "metadata": {
    "collapsed": false
   },
   "outputs": [
    {
     "data": {
      "text/plain": [
       "GradientBoostingRegressor(alpha=0.9, criterion='friedman_mse', init=None,\n",
       "             learning_rate=0.1, loss='ls', max_depth=3, max_features=None,\n",
       "             max_leaf_nodes=None, min_impurity_split=1e-07,\n",
       "             min_samples_leaf=1, min_samples_split=2,\n",
       "             min_weight_fraction_leaf=0.0, n_estimators=5000,\n",
       "             presort='auto', random_state=None, subsample=1.0, verbose=0,\n",
       "             warm_start=False)"
      ]
     },
     "execution_count": 45,
     "metadata": {},
     "output_type": "execute_result"
    }
   ],
   "source": [
    "m = em.GradientBoostingRegressor(n_estimators=5000)\n",
    "m.fit(X, y)"
   ]
  },
  {
   "cell_type": "code",
   "execution_count": 46,
   "metadata": {
    "collapsed": true
   },
   "outputs": [],
   "source": [
    "y_hat = m.predict(X_t)"
   ]
  },
  {
   "cell_type": "code",
   "execution_count": 47,
   "metadata": {
    "collapsed": true
   },
   "outputs": [],
   "source": [
    "evaluation[\"loss\"] = y_hat\n",
    "evaluation[[\"id\",\"loss\"]].to_csv(\"./submission11.csv\", index=False)"
   ]
  },
  {
   "cell_type": "code",
   "execution_count": 27,
   "metadata": {
    "collapsed": false
   },
   "outputs": [
    {
     "data": {
      "text/plain": [
       "(125546, 129)"
      ]
     },
     "execution_count": 27,
     "metadata": {},
     "output_type": "execute_result"
    }
   ],
   "source": [
    "X_t_PCA.shape"
   ]
  },
  {
   "cell_type": "code",
   "execution_count": null,
   "metadata": {
    "collapsed": true
   },
   "outputs": [],
   "source": []
  },
  {
   "cell_type": "code",
   "execution_count": 29,
   "metadata": {
    "collapsed": false
   },
   "outputs": [
    {
     "data": {
      "text/plain": [
       "(125546, 130)"
      ]
     },
     "execution_count": 29,
     "metadata": {},
     "output_type": "execute_result"
    }
   ],
   "source": [
    "X_t.shape"
   ]
  },
  {
   "cell_type": "markdown",
   "metadata": {},
   "source": [
    "## TODOs\n",
    "- run xgboost\n",
    "- read about effective dimensionality reduction\n",
    "- read about scaling for boosting algos"
   ]
  },
  {
   "cell_type": "code",
   "execution_count": null,
   "metadata": {
    "collapsed": true
   },
   "outputs": [],
   "source": []
  }
 ],
 "metadata": {
  "kernelspec": {
   "display_name": "Python 3",
   "language": "python",
   "name": "python3"
  },
  "language_info": {
   "codemirror_mode": {
    "name": "ipython",
    "version": 3
   },
   "file_extension": ".py",
   "mimetype": "text/x-python",
   "name": "python",
   "nbconvert_exporter": "python",
   "pygments_lexer": "ipython3",
   "version": "3.4.5"
  }
 },
 "nbformat": 4,
 "nbformat_minor": 1
}
