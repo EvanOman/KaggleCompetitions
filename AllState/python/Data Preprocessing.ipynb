{
 "cells": [
  {
   "cell_type": "code",
   "execution_count": 1,
   "metadata": {
    "collapsed": false
   },
   "outputs": [],
   "source": [
    "import pandas as pd\n",
    "import numpy as np\n",
    "import math\n",
    "from sklearn import preprocessing"
   ]
  },
  {
   "cell_type": "code",
   "execution_count": 2,
   "metadata": {
    "collapsed": true
   },
   "outputs": [],
   "source": [
    "# Read in the datas\n",
    "training = pd.read_csv(\"./dat/train.csv\")\n",
    "evaluation = pd.read_csv(\"./dat/test.csv\")"
   ]
  },
  {
   "cell_type": "code",
   "execution_count": 3,
   "metadata": {
    "collapsed": true
   },
   "outputs": [],
   "source": [
    "# There are 116 categorical columns of the form: cat1-cat116\n",
    "catCols = [x for x in training.columns if \"cat\" in x]\n",
    "\n",
    "# There are 14 continuous columns of the form cont1-cont14\n",
    "contCols = [x for x in training.columns if \"cont\" in x]"
   ]
  },
  {
   "cell_type": "code",
   "execution_count": 4,
   "metadata": {
    "collapsed": false
   },
   "outputs": [],
   "source": [
    "# Create label encoder model dictionary and populate dict with label encoding models\n",
    "leDict = {}\n",
    "for catCol in catCols:\n",
    "    leDict[catCol] = preprocessing.LabelEncoder().fit(pd.concat([training[catCol], evaluation[catCol]]))"
   ]
  },
  {
   "cell_type": "code",
   "execution_count": 5,
   "metadata": {
    "collapsed": true
   },
   "outputs": [],
   "source": [
    "# Apply encoding models to categorical variables\n",
    "training[catCols] = training[catCols].apply(lambda x: leDict[x.name].transform(x))\n",
    "evaluation[catCols] = evaluation[catCols].apply(lambda x: leDict[x.name].transform(x))\n",
    "\n",
    "# Save off non-scaled versions of the DFs\n",
    "training_noscale = training\n",
    "evaluation_noscale = evaluation\n",
    "\n",
    "# Now we want to scale all of the columns\n",
    "min_max_scaler = preprocessing.MinMaxScaler()\n",
    "\n",
    "# fit the scaler once on all the data\n",
    "min_max_scaler.fit(pd.concat([training[catCols + contCols], evaluation[catCols + contCols]]))\n",
    "\n",
    "# apply the scaler\n",
    "training[catCols + contCols] = min_max_scaler.transform(training[catCols + contCols])\n",
    "evaluation[catCols + contCols] = min_max_scaler.transform(evaluation[catCols + contCols])"
   ]
  },
  {
   "cell_type": "code",
   "execution_count": 7,
   "metadata": {
    "collapsed": false
   },
   "outputs": [],
   "source": [
    "# Output data\n",
    "training_noscale.to_csv(\"./dat/training_encoded.csv\", index=False)\n",
    "evaluation_noscale.to_csv(\"./dat/evaluation_encoded.csv\", index=False)\n",
    "training.to_csv(\"./dat/training_encoded_scaled.csv\", index=False)\n",
    "evaluation.to_csv(\"./dat/evalutation_encoded_scaled.csv\", index=False)"
   ]
  }
 ],
 "metadata": {
  "kernelspec": {
   "display_name": "Python 3",
   "language": "python",
   "name": "python3"
  },
  "language_info": {
   "codemirror_mode": {
    "name": "ipython",
    "version": 3
   },
   "file_extension": ".py",
   "mimetype": "text/x-python",
   "name": "python",
   "nbconvert_exporter": "python",
   "pygments_lexer": "ipython3",
   "version": "3.5.2"
  }
 },
 "nbformat": 4,
 "nbformat_minor": 1
}
