{
 "cells": [
  {
   "cell_type": "markdown",
   "metadata": {},
   "source": [
    "# Import / Preprocessing"
   ]
  },
  {
   "cell_type": "code",
   "execution_count": 3,
   "metadata": {
    "collapsed": true
   },
   "outputs": [],
   "source": [
    "import pandas\n",
    "import numpy as np\n",
    "import math\n",
    "from sklearn import preprocessing"
   ]
  },
  {
   "cell_type": "code",
   "execution_count": 30,
   "metadata": {
    "collapsed": true
   },
   "outputs": [],
   "source": [
    "# Read in the datas\n",
    "df = pandas.read_csv(\"./train.csv\")"
   ]
  },
  {
   "cell_type": "code",
   "execution_count": 31,
   "metadata": {
    "collapsed": false
   },
   "outputs": [],
   "source": [
    "# There are 116 categorical columns of the form: cat1-cat116\n",
    "catCols = [\"cat\" + str(x) for x in range(1, 117)]\n",
    "\n",
    "# There are 14 continuous columns of the form cont1-cont14\n",
    "contCols = [\"cont\" + str(x) for x in range(1,15)]"
   ]
  },
  {
   "cell_type": "code",
   "execution_count": 32,
   "metadata": {
    "collapsed": true
   },
   "outputs": [],
   "source": [
    "# Create label encoder model dictionary and populate dict with label encoding models\n",
    "leDict = {}\n",
    "for catCol in catCols:\n",
    "    leDict[catCol] = preprocessing.LabelEncoder().fit(df[catCol])"
   ]
  },
  {
   "cell_type": "code",
   "execution_count": 37,
   "metadata": {
    "collapsed": false
   },
   "outputs": [],
   "source": [
    "# Apply encoding models to categorical variables\n",
    "df[catCols] = df[catCols].apply(lambda x: leDict[x.name].transform(x))"
   ]
  },
  {
   "cell_type": "code",
   "execution_count": 40,
   "metadata": {
    "collapsed": false
   },
   "outputs": [
    {
     "name": "stdout",
     "output_type": "stream",
     "text": [
      "94159\n",
      "94159\n"
     ]
    }
   ],
   "source": [
    "# create and random permutation of indices\n",
    "indices = np.random.permutation(df.shape[0])\n",
    "\n",
    "# split permutation in two\n",
    "numInd = len(indices)\n",
    "trainingInds = indices[:math.ceil(numInd/2)]\n",
    "\n",
    "# split df using permutations\n",
    "inds = df.index.isin(trainingInds)\n",
    "training = df[inds]\n",
    "testing = df[~inds]\n",
    "\n",
    "# double check shape\n",
    "print(testing.shape[0])\n",
    "print(training.shape[0])"
   ]
  },
  {
   "cell_type": "markdown",
   "metadata": {},
   "source": [
    "# Linear SVR"
   ]
  },
  {
   "cell_type": "code",
   "execution_count": 42,
   "metadata": {
    "collapsed": false
   },
   "outputs": [
    {
     "name": "stdout",
     "output_type": "stream",
     "text": [
      "Automatically created module for IPython interactive environment\n"
     ]
    }
   ],
   "source": [
    "print(__doc__)\n",
    "%matplotlib inline\n",
    "import numpy as np\n",
    "from sklearn.svm import SVR\n",
    "import matplotlib.pyplot as plt"
   ]
  },
  {
   "cell_type": "code",
   "execution_count": null,
   "metadata": {
    "collapsed": false
   },
   "outputs": [],
   "source": [
    "svr_lin = SVR(kernel='linear', C=1e3)\n",
    "fit_lin = svr_lin.fit(training.drop(\"loss\", axis=1), training[\"loss\"])"
   ]
  },
  {
   "cell_type": "code",
   "execution_count": null,
   "metadata": {
    "collapsed": false
   },
   "outputs": [],
   "source": [
    "testing[\"loss_hat\"] = fit_lin.predict(x.drop(\"loss\", axis=1))\n",
    "print(sum((x[\"loss_hat\"] - x[\"loss\"])**2))\n",
    "t = np.arange(0, x.shape[0], 1)\n",
    "plt.plot(t, x[\"loss\"], \"r\", t, x[\"loss_hat\"], \"b\")"
   ]
  },
  {
   "cell_type": "markdown",
   "metadata": {},
   "source": [
    "# SGD Regeressor"
   ]
  },
  {
   "cell_type": "code",
   "execution_count": null,
   "metadata": {
    "collapsed": false
   },
   "outputs": [],
   "source": [
    "from sklearn import linear_model\n",
    "\n",
    "clf = linear_model.SGDClassifier()\n",
    "clf_model = clf.fit(training.drop([\"loss\", \"loss_hat\"], axis=1), training[\"loss\"])\n",
    "\n",
    "testing[\"loss_hat2\"] = fit_lin.predict(testing.drop(\"loss\", axis=1))\n",
    "print(sum((x[\"loss_hat2\"] - x[\"loss\"])**2))\n",
    "t = np.arange(0, x.shape[0], 1)\n",
    "plt.plot(t, x[\"loss\"], \"r\", t, x[\"loss_hat2\"], \"b\")"
   ]
  }
 ],
 "metadata": {
  "kernelspec": {
   "display_name": "Python 3",
   "language": "python",
   "name": "python3"
  },
  "language_info": {
   "codemirror_mode": {
    "name": "ipython",
    "version": 3
   },
   "file_extension": ".py",
   "mimetype": "text/x-python",
   "name": "python",
   "nbconvert_exporter": "python",
   "pygments_lexer": "ipython3",
   "version": "3.4.3"
  }
 },
 "nbformat": 4,
 "nbformat_minor": 1
}
