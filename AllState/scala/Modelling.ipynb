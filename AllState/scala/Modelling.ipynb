{
 "cells": [
  {
   "cell_type": "code",
   "execution_count": 1,
   "metadata": {
    "collapsed": false
   },
   "outputs": [
    {
     "name": "stdout",
     "output_type": "stream",
     "text": [
      "Marking org.deeplearning4j:deeplearning4j-core:0.6.0 for download\n",
      "Preparing to fetch from:\n",
      "-> file:/tmp/toree_add_deps5600342785900361122/\n",
      "-> https://repo1.maven.org/maven2\n",
      "-> New file at /tmp/toree_add_deps5600342785900361122/https/repo1.maven.org/maven2/org/deeplearning4j/deeplearning4j-core/0.6.0/deeplearning4j-core-0.6.0.jar\n"
     ]
    }
   ],
   "source": [
    "%AddDeps org.deeplearning4j deeplearning4j-core 0.6.0"
   ]
  },
  {
   "cell_type": "markdown",
   "metadata": {},
   "source": [
    "# Spark gradient boosting"
   ]
  },
  {
   "cell_type": "code",
   "execution_count": null,
   "metadata": {
    "collapsed": false
   },
   "outputs": [],
   "source": [
    "import org.apache.spark.mllib.tree.GradientBoostedTrees\n",
    "import org.apache.spark.mllib.tree.configuration.BoostingStrategy\n",
    "import org.apache.spark.mllib.tree.model.GradientBoostedTreesModel\n",
    "import org.apache.spark.mllib.util.MLUtils\n",
    "\n",
    "// Load and parse the data file.\n",
    "val data = MLUtils.loadLibSVMFile(sc, \"data/mllib/sample_libsvm_data.txt\")\n",
    "// Split the data into training and test sets (30% held out for testing)\n",
    "val splits = data.randomSplit(Array(0.7, 0.3))\n",
    "val (trainingData, testData) = (splits(0), splits(1))\n",
    "\n",
    "// Train a GradientBoostedTrees model.\n",
    "// The defaultParams for Regression use SquaredError by default.\n",
    "val boostingStrategy = BoostingStrategy.defaultParams(\"Regression\")\n",
    "boostingStrategy.numIterations = 3 // Note: Use more iterations in practice.\n",
    "boostingStrategy.treeStrategy.maxDepth = 5\n",
    "// Empty categoricalFeaturesInfo indicates all features are continuous.\n",
    "boostingStrategy.treeStrategy.categoricalFeaturesInfo = Map[Int, Int]()\n",
    "\n",
    "val model = GradientBoostedTrees.train(trainingData, boostingStrategy)\n",
    "\n",
    "// Evaluate model on test instances and compute test error\n",
    "val labelsAndPredictions = testData.map { point =>\n",
    "  val prediction = model.predict(point.features)\n",
    "  (point.label, prediction)\n",
    "}\n",
    "val testMSE = labelsAndPredictions.map{ case(v, p) => math.pow((v - p), 2)}.mean()\n",
    "println(\"Test Mean Squared Error = \" + testMSE)\n",
    "println(\"Learned regression GBT model:\\n\" + model.toDebugString)\n",
    "\n",
    "// Save and load model\n",
    "model.save(sc, \"target/tmp/myGradientBoostingRegressionModel\")\n",
    "val sameModel = GradientBoostedTreesModel.load(sc,\n",
    "  \"target/tmp/myGradientBoostingRegressionModel\")"
   ]
  },
  {
   "cell_type": "code",
   "execution_count": null,
   "metadata": {
    "collapsed": true
   },
   "outputs": [],
   "source": []
  }
 ],
 "metadata": {
  "kernelspec": {
   "display_name": "Apache Toree - Scala",
   "language": "scala",
   "name": "apache_toree_scala"
  },
  "language_info": {
   "name": "scala",
   "version": "2.10.4"
  }
 },
 "nbformat": 4,
 "nbformat_minor": 0
}
