{
 "cells": [
  {
   "cell_type": "code",
   "execution_count": 1,
   "metadata": {
    "collapsed": true
   },
   "outputs": [],
   "source": [
    "import pandas as pd"
   ]
  },
  {
   "cell_type": "code",
   "execution_count": 2,
   "metadata": {
    "collapsed": true
   },
   "outputs": [],
   "source": [
    "training  = pd.read_csv(\"./dat/train.csv\")"
   ]
  },
  {
   "cell_type": "code",
   "execution_count": 12,
   "metadata": {},
   "outputs": [
    {
     "data": {
      "text/plain": [
       "pandas.core.frame.DataFrame"
      ]
     },
     "execution_count": 12,
     "metadata": {},
     "output_type": "execute_result"
    }
   ],
   "source": [
    "type(training.iloc[:10,3:5])"
   ]
  },
  {
   "cell_type": "code",
   "execution_count": 15,
   "metadata": {},
   "outputs": [
    {
     "data": {
      "text/plain": [
       "pandas.core.series.Series"
      ]
     },
     "execution_count": 15,
     "metadata": {},
     "output_type": "execute_result"
    }
   ],
   "source": [
    "type(training.question1)"
   ]
  },
  {
   "cell_type": "code",
   "execution_count": 20,
   "metadata": {
    "collapsed": true
   },
   "outputs": [],
   "source": [
    "from sklearn.feature_extraction.text import CountVectorizer\n",
    "from sklearn.feature_extraction.text import TfidfTransformer\n",
    "from sklearn.ensemble import RandomForestClassifier\n",
    "from sklearn.model_selection import GridSearchCV\n",
    "from sklearn.pipeline import Pipeline\n",
    "from sklearn.model_selection import train_test_split"
   ]
  },
  {
   "cell_type": "code",
   "execution_count": 103,
   "metadata": {
    "collapsed": true
   },
   "outputs": [],
   "source": [
    "categories = [0,1]\n",
    "pipeline = Pipeline([\n",
    "    ('vect', CountVectorizer()),\n",
    "    ('tfidf', TfidfTransformer()),\n",
    "    ('clf', RandomForestClassifier()),\n",
    "])\n",
    "\n",
    "parameters = {\n",
    "    #'vect__max_df': (0.5, 0.75, 1.0),\n",
    "    #'vect__max_features': (None, 5000, 10000, 50000),\n",
    "    #'vect__ngram_range': ((1, 1), (1, 2)),  # unigrams or bigrams\n",
    "    'tfidf__use_idf': (True, False),\n",
    "    #'tfidf__norm': ('l1', 'l2'),\n",
    "}\n",
    "\n",
    "# find the best parameters for both the feature extraction and the\n",
    "# classifier\n",
    "grid_search = GridSearchCV(pipeline, parameters, n_jobs=-1, verbose=1)"
   ]
  },
  {
   "cell_type": "code",
   "execution_count": 121,
   "metadata": {
    "collapsed": true
   },
   "outputs": [],
   "source": [
    "features = training[[\"question1\"]][:50]\n",
    "labels   = [int(y_i) for y_i in training.is_duplicate][:50]"
   ]
  },
  {
   "cell_type": "code",
   "execution_count": 122,
   "metadata": {},
   "outputs": [
    {
     "data": {
      "text/plain": [
       "(50, 1)"
      ]
     },
     "execution_count": 122,
     "metadata": {},
     "output_type": "execute_result"
    }
   ],
   "source": [
    "features.shape"
   ]
  },
  {
   "cell_type": "code",
   "execution_count": 123,
   "metadata": {},
   "outputs": [
    {
     "data": {
      "text/plain": [
       "50"
      ]
     },
     "execution_count": 123,
     "metadata": {},
     "output_type": "execute_result"
    }
   ],
   "source": [
    "len(labels)"
   ]
  },
  {
   "cell_type": "code",
   "execution_count": 128,
   "metadata": {},
   "outputs": [
    {
     "data": {
      "text/plain": [
       "array([['What is the step by step guide to invest in share market in india?'],\n",
       "       ['What is the story of Kohinoor (Koh-i-Noor) Diamond?'],\n",
       "       [ 'How can I increase the speed of my internet connection while using a VPN?'],\n",
       "       ['Why am I mentally very lonely? How can I solve it?'],\n",
       "       [ 'Which one dissolve in water quikly sugar, salt, methane and carbon di oxide?'],\n",
       "       [ 'Astrology: I am a Capricorn Sun Cap moon and cap rising...what does that say about me?'],\n",
       "       ['Should I buy tiago?'],\n",
       "       ['How can I be a good geologist?'],\n",
       "       ['When do you use シ instead of し?'],\n",
       "       ['Motorola (company): Can I hack my Charter Motorolla DCX3400?'],\n",
       "       ['Method to find separation of slits using fresnel biprism?'],\n",
       "       ['How do I read and find my YouTube comments?'],\n",
       "       ['What can make Physics easy to learn?'],\n",
       "       ['What was your first sexual experience like?'],\n",
       "       [ 'What are the laws to change your status from a student visa to a green card in the US, how do they compare to the immigration laws in Canada?'],\n",
       "       [ 'What would a Trump presidency mean for current international master’s students on an F1 visa?'],\n",
       "       ['What does manipulation mean?'],\n",
       "       ['Why do girls want to be friends with the guy they reject?'],\n",
       "       [ 'Why are so many Quora users posting questions that are readily answered on Google?'],\n",
       "       ['Which is the best digital marketing institution in banglore?'],\n",
       "       ['Why do rockets look white?'],\n",
       "       [\"What's causing someone to be jealous?\"],\n",
       "       ['What are the questions should not ask on Quora?'],\n",
       "       ['How much is 30 kV in HP?'],\n",
       "       [ 'What does it mean that every time I look at the clock the numbers are the same?'],\n",
       "       [ 'What are some tips on making it through the job interview process at Medicines?'],\n",
       "       ['What is web application?'],\n",
       "       ['Does society place too much importance on sports?'],\n",
       "       ['What is best way to make money online?'],\n",
       "       ['How should I prepare for CA final law?'],\n",
       "       [\"What's one thing you would like to do better?\"],\n",
       "       [ 'What are some special cares for someone with a nose that gets stuffy during the night?'],\n",
       "       ['What Game of Thrones villain would be the most likely to give you mercy?'],\n",
       "       [ 'Does the United States government still blacklist (employment, etc.) some United States citizens because their political views?'],\n",
       "       ['What is the best travel website in spain?'],\n",
       "       ['Why do some people think Obama will try to take their guns away?'],\n",
       "       [ \"I'm a 19-year-old. How can I improve my skills or what should I do to become an entrepreneur in the next few years?\"],\n",
       "       [ 'When a girlfriend asks her boyfriend \"Why did you choose me? What makes you want to be with me?\", what should one reply to her?'],\n",
       "       ['How do we prepare for UPSC?'],\n",
       "       ['What is the stall speed and AOA of an f-14 with wings fully swept back?'],\n",
       "       ['Why do Slavs squat?'],\n",
       "       ['When can I expect my Cognizant confirmation mail?'],\n",
       "       ['Can I make 50,000 a month by day trading?'],\n",
       "       ['Is being a good kid and not being a rebel worth it in the long run?'],\n",
       "       [ 'What universities does Rexnord recruit new grads from? What majors are they looking for?'],\n",
       "       ['What is the quickest way to increase Instagram followers?'],\n",
       "       ['How did Darth Vader fought Darth Maul in Star Wars Legends?'],\n",
       "       [ 'What are the stages of breaking up between couple? I mean, what happens after the breaking up emotionally whether its a male or female?'],\n",
       "       ['What are some examples of products that can be make from crude oil?'],\n",
       "       ['How do I make friends.']], dtype=object)"
      ]
     },
     "execution_count": 128,
     "metadata": {},
     "output_type": "execute_result"
    }
   ],
   "source": [
    "features.values"
   ]
  },
  {
   "cell_type": "markdown",
   "metadata": {},
   "source": [
    "### TODO:\n",
    "- The vectorizer works directly on a series of strings, not a series of rows contains strings\n",
    "- So what I need to do is vectorize each column independently and then union the vectors together"
   ]
  },
  {
   "cell_type": "code",
   "execution_count": 127,
   "metadata": {},
   "outputs": [
    {
     "name": "stdout",
     "output_type": "stream",
     "text": [
      "Fitting 3 folds for each of 2 candidates, totalling 6 fits\n"
     ]
    },
    {
     "ename": "JoblibAttributeError",
     "evalue": "JoblibAttributeError\n___________________________________________________________________________\nMultiprocessing exception:\n...........................................................................\n/usr/lib64/python3.4/runpy.py in _run_module_as_main(mod_name='ipykernel_launcher', alter_argv=1)\n    165         sys.exit(msg)\n    166     main_globals = sys.modules[\"__main__\"].__dict__\n    167     if alter_argv:\n    168         sys.argv[0] = mod_spec.origin\n    169     return _run_code(code, main_globals, None,\n--> 170                      \"__main__\", mod_spec)\n        mod_spec = ModuleSpec(name='ipykernel_launcher', loader=<_f...b/python3.4/site-packages/ipykernel_launcher.py')\n    171 \n    172 def run_module(mod_name, init_globals=None,\n    173                run_name=None, alter_sys=False):\n    174     \"\"\"Execute a module's code without importing it\n\n...........................................................................\n/usr/lib64/python3.4/runpy.py in _run_code(code=<code object <module> at 0x7f9c8bd300c0, file \"/...3.4/site-packages/ipykernel_launcher.py\", line 5>, run_globals={'__builtins__': <module 'builtins' (built-in)>, '__cached__': '/usr/lib/python3.4/site-packages/__pycache__/ipykernel_launcher.cpython-34.pyc', '__doc__': 'Entry point for launching an IPython kernel.\\n\\nTh...orts until\\nafter removing the cwd from sys.path.\\n', '__file__': '/usr/lib/python3.4/site-packages/ipykernel_launcher.py', '__loader__': <_frozen_importlib.SourceFileLoader object>, '__name__': '__main__', '__package__': '', '__spec__': ModuleSpec(name='ipykernel_launcher', loader=<_f...b/python3.4/site-packages/ipykernel_launcher.py'), 'app': <module 'ipykernel.kernelapp' from '/usr/lib/python3.4/site-packages/ipykernel/kernelapp.py'>, 'sys': <module 'sys' (built-in)>}, init_globals=None, mod_name='__main__', mod_spec=ModuleSpec(name='ipykernel_launcher', loader=<_f...b/python3.4/site-packages/ipykernel_launcher.py'), pkg_name='', script_name=None)\n     80                        __cached__ = cached,\n     81                        __doc__ = None,\n     82                        __loader__ = loader,\n     83                        __package__ = pkg_name,\n     84                        __spec__ = mod_spec)\n---> 85     exec(code, run_globals)\n        code = <code object <module> at 0x7f9c8bd300c0, file \"/...3.4/site-packages/ipykernel_launcher.py\", line 5>\n        run_globals = {'__builtins__': <module 'builtins' (built-in)>, '__cached__': '/usr/lib/python3.4/site-packages/__pycache__/ipykernel_launcher.cpython-34.pyc', '__doc__': 'Entry point for launching an IPython kernel.\\n\\nTh...orts until\\nafter removing the cwd from sys.path.\\n', '__file__': '/usr/lib/python3.4/site-packages/ipykernel_launcher.py', '__loader__': <_frozen_importlib.SourceFileLoader object>, '__name__': '__main__', '__package__': '', '__spec__': ModuleSpec(name='ipykernel_launcher', loader=<_f...b/python3.4/site-packages/ipykernel_launcher.py'), 'app': <module 'ipykernel.kernelapp' from '/usr/lib/python3.4/site-packages/ipykernel/kernelapp.py'>, 'sys': <module 'sys' (built-in)>}\n     86     return run_globals\n     87 \n     88 def _run_module_code(code, init_globals=None,\n     89                     mod_name=None, mod_spec=None,\n\n...........................................................................\n/usr/lib/python3.4/site-packages/ipykernel_launcher.py in <module>()\n     11     # This is added back by InteractiveShellApp.init_path()\n     12     if sys.path[0] == '':\n     13         del sys.path[0]\n     14 \n     15     from ipykernel import kernelapp as app\n---> 16     app.launch_new_instance()\n     17 \n     18 \n     19 \n     20 \n\n...........................................................................\n/usr/lib/python3.4/site-packages/traitlets/config/application.py in launch_instance(cls=<class 'ipykernel.kernelapp.IPKernelApp'>, argv=None, **kwargs={})\n    653 \n    654         If a global instance already exists, this reinitializes and starts it\n    655         \"\"\"\n    656         app = cls.instance(**kwargs)\n    657         app.initialize(argv)\n--> 658         app.start()\n        app.start = <bound method IPKernelApp.start of <ipykernel.kernelapp.IPKernelApp object>>\n    659 \n    660 #-----------------------------------------------------------------------------\n    661 # utility functions, for convenience\n    662 #-----------------------------------------------------------------------------\n\n...........................................................................\n/usr/lib/python3.4/site-packages/ipykernel/kernelapp.py in start(self=<ipykernel.kernelapp.IPKernelApp object>)\n    472             return self.subapp.start()\n    473         if self.poller is not None:\n    474             self.poller.start()\n    475         self.kernel.start()\n    476         try:\n--> 477             ioloop.IOLoop.instance().start()\n    478         except KeyboardInterrupt:\n    479             pass\n    480 \n    481 launch_new_instance = IPKernelApp.launch_instance\n\n...........................................................................\n/usr/lib64/python3.4/site-packages/zmq/eventloop/ioloop.py in start(self=<zmq.eventloop.ioloop.ZMQIOLoop object>)\n    172             )\n    173         return loop\n    174     \n    175     def start(self):\n    176         try:\n--> 177             super(ZMQIOLoop, self).start()\n        self.start = <bound method ZMQIOLoop.start of <zmq.eventloop.ioloop.ZMQIOLoop object>>\n    178         except ZMQError as e:\n    179             if e.errno == ETERM:\n    180                 # quietly return on ETERM\n    181                 pass\n\n...........................................................................\n/usr/lib64/python3.4/site-packages/tornado/ioloop.py in start(self=<zmq.eventloop.ioloop.ZMQIOLoop object>)\n    883                 self._events.update(event_pairs)\n    884                 while self._events:\n    885                     fd, events = self._events.popitem()\n    886                     try:\n    887                         fd_obj, handler_func = self._handlers[fd]\n--> 888                         handler_func(fd_obj, events)\n        handler_func = <function wrap.<locals>.null_wrapper>\n        fd_obj = <zmq.sugar.socket.Socket object>\n        events = 1\n    889                     except (OSError, IOError) as e:\n    890                         if errno_from_exception(e) == errno.EPIPE:\n    891                             # Happens when the client closes the connection\n    892                             pass\n\n...........................................................................\n/usr/lib64/python3.4/site-packages/tornado/stack_context.py in null_wrapper(*args=(<zmq.sugar.socket.Socket object>, 1), **kwargs={})\n    272         # Fast path when there are no active contexts.\n    273         def null_wrapper(*args, **kwargs):\n    274             try:\n    275                 current_state = _state.contexts\n    276                 _state.contexts = cap_contexts[0]\n--> 277                 return fn(*args, **kwargs)\n        args = (<zmq.sugar.socket.Socket object>, 1)\n        kwargs = {}\n    278             finally:\n    279                 _state.contexts = current_state\n    280         null_wrapper._wrapped = True\n    281         return null_wrapper\n\n...........................................................................\n/usr/lib64/python3.4/site-packages/zmq/eventloop/zmqstream.py in _handle_events(self=<zmq.eventloop.zmqstream.ZMQStream object>, fd=<zmq.sugar.socket.Socket object>, events=1)\n    435             # dispatch events:\n    436             if events & IOLoop.ERROR:\n    437                 gen_log.error(\"got POLLERR event on ZMQStream, which doesn't make sense\")\n    438                 return\n    439             if events & IOLoop.READ:\n--> 440                 self._handle_recv()\n        self._handle_recv = <bound method ZMQStream._handle_recv of <zmq.eventloop.zmqstream.ZMQStream object>>\n    441                 if not self.socket:\n    442                     return\n    443             if events & IOLoop.WRITE:\n    444                 self._handle_send()\n\n...........................................................................\n/usr/lib64/python3.4/site-packages/zmq/eventloop/zmqstream.py in _handle_recv(self=<zmq.eventloop.zmqstream.ZMQStream object>)\n    467                 gen_log.error(\"RECV Error: %s\"%zmq.strerror(e.errno))\n    468         else:\n    469             if self._recv_callback:\n    470                 callback = self._recv_callback\n    471                 # self._recv_callback = None\n--> 472                 self._run_callback(callback, msg)\n        self._run_callback = <bound method ZMQStream._run_callback of <zmq.eventloop.zmqstream.ZMQStream object>>\n        callback = <function wrap.<locals>.null_wrapper>\n        msg = [<zmq.sugar.frame.Frame object>, <zmq.sugar.frame.Frame object>, <zmq.sugar.frame.Frame object>, <zmq.sugar.frame.Frame object>, <zmq.sugar.frame.Frame object>, <zmq.sugar.frame.Frame object>, <zmq.sugar.frame.Frame object>]\n    473                 \n    474         # self.update_state()\n    475         \n    476 \n\n...........................................................................\n/usr/lib64/python3.4/site-packages/zmq/eventloop/zmqstream.py in _run_callback(self=<zmq.eventloop.zmqstream.ZMQStream object>, callback=<function wrap.<locals>.null_wrapper>, *args=([<zmq.sugar.frame.Frame object>, <zmq.sugar.frame.Frame object>, <zmq.sugar.frame.Frame object>, <zmq.sugar.frame.Frame object>, <zmq.sugar.frame.Frame object>, <zmq.sugar.frame.Frame object>, <zmq.sugar.frame.Frame object>],), **kwargs={})\n    409         close our socket.\"\"\"\n    410         try:\n    411             # Use a NullContext to ensure that all StackContexts are run\n    412             # inside our blanket exception handler rather than outside.\n    413             with stack_context.NullContext():\n--> 414                 callback(*args, **kwargs)\n        callback = <function wrap.<locals>.null_wrapper>\n        args = ([<zmq.sugar.frame.Frame object>, <zmq.sugar.frame.Frame object>, <zmq.sugar.frame.Frame object>, <zmq.sugar.frame.Frame object>, <zmq.sugar.frame.Frame object>, <zmq.sugar.frame.Frame object>, <zmq.sugar.frame.Frame object>],)\n        kwargs = {}\n    415         except:\n    416             gen_log.error(\"Uncaught exception, closing connection.\",\n    417                           exc_info=True)\n    418             # Close the socket on an uncaught exception from a user callback\n\n...........................................................................\n/usr/lib64/python3.4/site-packages/tornado/stack_context.py in null_wrapper(*args=([<zmq.sugar.frame.Frame object>, <zmq.sugar.frame.Frame object>, <zmq.sugar.frame.Frame object>, <zmq.sugar.frame.Frame object>, <zmq.sugar.frame.Frame object>, <zmq.sugar.frame.Frame object>, <zmq.sugar.frame.Frame object>],), **kwargs={})\n    272         # Fast path when there are no active contexts.\n    273         def null_wrapper(*args, **kwargs):\n    274             try:\n    275                 current_state = _state.contexts\n    276                 _state.contexts = cap_contexts[0]\n--> 277                 return fn(*args, **kwargs)\n        args = ([<zmq.sugar.frame.Frame object>, <zmq.sugar.frame.Frame object>, <zmq.sugar.frame.Frame object>, <zmq.sugar.frame.Frame object>, <zmq.sugar.frame.Frame object>, <zmq.sugar.frame.Frame object>, <zmq.sugar.frame.Frame object>],)\n        kwargs = {}\n    278             finally:\n    279                 _state.contexts = current_state\n    280         null_wrapper._wrapped = True\n    281         return null_wrapper\n\n...........................................................................\n/usr/lib/python3.4/site-packages/ipykernel/kernelbase.py in dispatcher(msg=[<zmq.sugar.frame.Frame object>, <zmq.sugar.frame.Frame object>, <zmq.sugar.frame.Frame object>, <zmq.sugar.frame.Frame object>, <zmq.sugar.frame.Frame object>, <zmq.sugar.frame.Frame object>, <zmq.sugar.frame.Frame object>])\n    278         if self.control_stream:\n    279             self.control_stream.on_recv(self.dispatch_control, copy=False)\n    280 \n    281         def make_dispatcher(stream):\n    282             def dispatcher(msg):\n--> 283                 return self.dispatch_shell(stream, msg)\n        msg = [<zmq.sugar.frame.Frame object>, <zmq.sugar.frame.Frame object>, <zmq.sugar.frame.Frame object>, <zmq.sugar.frame.Frame object>, <zmq.sugar.frame.Frame object>, <zmq.sugar.frame.Frame object>, <zmq.sugar.frame.Frame object>]\n    284             return dispatcher\n    285 \n    286         for s in self.shell_streams:\n    287             s.on_recv(make_dispatcher(s), copy=False)\n\n...........................................................................\n/usr/lib/python3.4/site-packages/ipykernel/kernelbase.py in dispatch_shell(self=<ipykernel.ipkernel.IPythonKernel object>, stream=<zmq.eventloop.zmqstream.ZMQStream object>, msg={'buffers': [], 'content': {'allow_stdin': True, 'code': 'grid_search.fit(features.values, labels)', 'silent': False, 'stop_on_error': True, 'store_history': True, 'user_expressions': {}}, 'header': {'date': datetime.datetime(2017, 4, 21, 4, 13, 28, 51158, tzinfo=datetime.timezone.utc), 'msg_id': 'C64F0E50F0A34373B1EB7A42078425AC', 'msg_type': 'execute_request', 'session': 'B6B957FA594A4A0E805E05FA75D4FE56', 'username': 'username', 'version': '5.0'}, 'metadata': {}, 'msg_id': 'C64F0E50F0A34373B1EB7A42078425AC', 'msg_type': 'execute_request', 'parent_header': {}})\n    230             self.log.warn(\"Unknown message type: %r\", msg_type)\n    231         else:\n    232             self.log.debug(\"%s: %s\", msg_type, msg)\n    233             self.pre_handler_hook()\n    234             try:\n--> 235                 handler(stream, idents, msg)\n        handler = <bound method IPythonKernel.execute_request of <ipykernel.ipkernel.IPythonKernel object>>\n        stream = <zmq.eventloop.zmqstream.ZMQStream object>\n        idents = [b'B6B957FA594A4A0E805E05FA75D4FE56']\n        msg = {'buffers': [], 'content': {'allow_stdin': True, 'code': 'grid_search.fit(features.values, labels)', 'silent': False, 'stop_on_error': True, 'store_history': True, 'user_expressions': {}}, 'header': {'date': datetime.datetime(2017, 4, 21, 4, 13, 28, 51158, tzinfo=datetime.timezone.utc), 'msg_id': 'C64F0E50F0A34373B1EB7A42078425AC', 'msg_type': 'execute_request', 'session': 'B6B957FA594A4A0E805E05FA75D4FE56', 'username': 'username', 'version': '5.0'}, 'metadata': {}, 'msg_id': 'C64F0E50F0A34373B1EB7A42078425AC', 'msg_type': 'execute_request', 'parent_header': {}}\n    236             except Exception:\n    237                 self.log.error(\"Exception in message handler:\", exc_info=True)\n    238             finally:\n    239                 self.post_handler_hook()\n\n...........................................................................\n/usr/lib/python3.4/site-packages/ipykernel/kernelbase.py in execute_request(self=<ipykernel.ipkernel.IPythonKernel object>, stream=<zmq.eventloop.zmqstream.ZMQStream object>, ident=[b'B6B957FA594A4A0E805E05FA75D4FE56'], parent={'buffers': [], 'content': {'allow_stdin': True, 'code': 'grid_search.fit(features.values, labels)', 'silent': False, 'stop_on_error': True, 'store_history': True, 'user_expressions': {}}, 'header': {'date': datetime.datetime(2017, 4, 21, 4, 13, 28, 51158, tzinfo=datetime.timezone.utc), 'msg_id': 'C64F0E50F0A34373B1EB7A42078425AC', 'msg_type': 'execute_request', 'session': 'B6B957FA594A4A0E805E05FA75D4FE56', 'username': 'username', 'version': '5.0'}, 'metadata': {}, 'msg_id': 'C64F0E50F0A34373B1EB7A42078425AC', 'msg_type': 'execute_request', 'parent_header': {}})\n    394         if not silent:\n    395             self.execution_count += 1\n    396             self._publish_execute_input(code, parent, self.execution_count)\n    397 \n    398         reply_content = self.do_execute(code, silent, store_history,\n--> 399                                         user_expressions, allow_stdin)\n        user_expressions = {}\n        allow_stdin = True\n    400 \n    401         # Flush output before sending the reply.\n    402         sys.stdout.flush()\n    403         sys.stderr.flush()\n\n...........................................................................\n/usr/lib/python3.4/site-packages/ipykernel/ipkernel.py in do_execute(self=<ipykernel.ipkernel.IPythonKernel object>, code='grid_search.fit(features.values, labels)', silent=False, store_history=True, user_expressions={}, allow_stdin=True)\n    191 \n    192         self._forward_input(allow_stdin)\n    193 \n    194         reply_content = {}\n    195         try:\n--> 196             res = shell.run_cell(code, store_history=store_history, silent=silent)\n        res = undefined\n        shell.run_cell = <bound method ZMQInteractiveShell.run_cell of <ipykernel.zmqshell.ZMQInteractiveShell object>>\n        code = 'grid_search.fit(features.values, labels)'\n        store_history = True\n        silent = False\n    197         finally:\n    198             self._restore_input()\n    199 \n    200         if res.error_before_exec is not None:\n\n...........................................................................\n/usr/lib/python3.4/site-packages/ipykernel/zmqshell.py in run_cell(self=<ipykernel.zmqshell.ZMQInteractiveShell object>, *args=('grid_search.fit(features.values, labels)',), **kwargs={'silent': False, 'store_history': True})\n    528             )\n    529         self.payload_manager.write_payload(payload)\n    530 \n    531     def run_cell(self, *args, **kwargs):\n    532         self._last_traceback = None\n--> 533         return super(ZMQInteractiveShell, self).run_cell(*args, **kwargs)\n        self.run_cell = <bound method ZMQInteractiveShell.run_cell of <ipykernel.zmqshell.ZMQInteractiveShell object>>\n        args = ('grid_search.fit(features.values, labels)',)\n        kwargs = {'silent': False, 'store_history': True}\n    534 \n    535     def _showtraceback(self, etype, evalue, stb):\n    536         # try to preserve ordering of tracebacks and print statements\n    537         sys.stdout.flush()\n\n...........................................................................\n/usr/lib/python3.4/site-packages/IPython/core/interactiveshell.py in run_cell(self=<ipykernel.zmqshell.ZMQInteractiveShell object>, raw_cell='grid_search.fit(features.values, labels)', store_history=True, silent=False, shell_futures=True)\n   2712                 self.displayhook.exec_result = result\n   2713 \n   2714                 # Execute the user code\n   2715                 interactivity = \"none\" if silent else self.ast_node_interactivity\n   2716                 has_raised = self.run_ast_nodes(code_ast.body, cell_name,\n-> 2717                    interactivity=interactivity, compiler=compiler, result=result)\n        interactivity = 'last_expr'\n        compiler = <IPython.core.compilerop.CachingCompiler object>\n   2718                 \n   2719                 self.last_execution_succeeded = not has_raised\n   2720 \n   2721                 # Reset this so later displayed values do not modify the\n\n...........................................................................\n/usr/lib/python3.4/site-packages/IPython/core/interactiveshell.py in run_ast_nodes(self=<ipykernel.zmqshell.ZMQInteractiveShell object>, nodelist=[<_ast.Expr object>], cell_name='<ipython-input-127-b8f0aa6c757f>', interactivity='last', compiler=<IPython.core.compilerop.CachingCompiler object>, result=<ExecutionResult object at 7f9c67ebacc0, executi..._before_exec=None error_in_exec=None result=None>)\n   2822                     return True\n   2823 \n   2824             for i, node in enumerate(to_run_interactive):\n   2825                 mod = ast.Interactive([node])\n   2826                 code = compiler(mod, cell_name, \"single\")\n-> 2827                 if self.run_code(code, result):\n        self.run_code = <bound method ZMQInteractiveShell.run_code of <ipykernel.zmqshell.ZMQInteractiveShell object>>\n        code = <code object <module> at 0x7f9c67efd930, file \"<ipython-input-127-b8f0aa6c757f>\", line 1>\n        result = <ExecutionResult object at 7f9c67ebacc0, executi..._before_exec=None error_in_exec=None result=None>\n   2828                     return True\n   2829 \n   2830             # Flush softspace\n   2831             if softspace(sys.stdout, 0):\n\n...........................................................................\n/usr/lib/python3.4/site-packages/IPython/core/interactiveshell.py in run_code(self=<ipykernel.zmqshell.ZMQInteractiveShell object>, code_obj=<code object <module> at 0x7f9c67efd930, file \"<ipython-input-127-b8f0aa6c757f>\", line 1>, result=<ExecutionResult object at 7f9c67ebacc0, executi..._before_exec=None error_in_exec=None result=None>)\n   2876         outflag = 1  # happens in more places, so it's easier as default\n   2877         try:\n   2878             try:\n   2879                 self.hooks.pre_run_code_hook()\n   2880                 #rprint('Running code', repr(code_obj)) # dbg\n-> 2881                 exec(code_obj, self.user_global_ns, self.user_ns)\n        code_obj = <code object <module> at 0x7f9c67efd930, file \"<ipython-input-127-b8f0aa6c757f>\", line 1>\n        self.user_global_ns = {'CV': CountVectorizer(analyzer='word', binary=False, d...\\w+\\\\b',\n        tokenizer=None, vocabulary=None), 'CountVectorizer': <class 'sklearn.feature_extraction.text.CountVectorizer'>, 'GridSearchCV': <class 'sklearn.model_selection._search.GridSearchCV'>, 'In': ['', 'import pandas as pd', 'training  = pd.read_csv(\"./dat/train.csv\")', 'training[:10]', 'training[:10,[\"question1\"]]', 'training.question1', 'training.question1[1]', 'type(training.question1[1])', 'training[:10,2:4]', 'training.iloc[:10,2:4]', 'training.iloc[:10,2:5]', 'training.iloc[:10,3:5]', 'type(training.iloc[:10,3:5])', 'type(training.question1[1:5])', 'type(training.question1[1])', 'type(training.question1)', 'features = training[[\"question1\", \"question2\"]]\\nlabels   = training.is_duplicate', 'labels.values', 'type(features)', 'grid_search.fit(features.values, labels)', ...], 'Out': {3:    id  qid1  qid2                               ...torola DCX3400 for free internet?             0  , 5: 0         What is the step by step guide to inve...e sex with cousin?\nName: question1, dtype: object, 6: 'What is the story of Kohinoor (Koh-i-Noor) Diamond?', 7: <class 'str'>, 9:    qid2                                         ...Motorola (company): Can I hack my Charter Moto..., 10:    qid2                                         ...w do I hack Motorola DCX3400 for free internet?  , 11:                                            quest...w do I hack Motorola DCX3400 for free internet?  , 12: <class 'pandas.core.frame.DataFrame'>, 13: <class 'pandas.core.series.Series'>, 14: <class 'str'>, ...}, 'Pipeline': <class 'sklearn.pipeline.Pipeline'>, 'RandomForestClassifier': <class 'sklearn.ensemble.forest.RandomForestClassifier'>, 'TfidfTransformer': <class 'sklearn.feature_extraction.text.TfidfTransformer'>, '_': <class 'list'>, '_10':    qid2                                         ...w do I hack Motorola DCX3400 for free internet?  , ...}\n        self.user_ns = {'CV': CountVectorizer(analyzer='word', binary=False, d...\\w+\\\\b',\n        tokenizer=None, vocabulary=None), 'CountVectorizer': <class 'sklearn.feature_extraction.text.CountVectorizer'>, 'GridSearchCV': <class 'sklearn.model_selection._search.GridSearchCV'>, 'In': ['', 'import pandas as pd', 'training  = pd.read_csv(\"./dat/train.csv\")', 'training[:10]', 'training[:10,[\"question1\"]]', 'training.question1', 'training.question1[1]', 'type(training.question1[1])', 'training[:10,2:4]', 'training.iloc[:10,2:4]', 'training.iloc[:10,2:5]', 'training.iloc[:10,3:5]', 'type(training.iloc[:10,3:5])', 'type(training.question1[1:5])', 'type(training.question1[1])', 'type(training.question1)', 'features = training[[\"question1\", \"question2\"]]\\nlabels   = training.is_duplicate', 'labels.values', 'type(features)', 'grid_search.fit(features.values, labels)', ...], 'Out': {3:    id  qid1  qid2                               ...torola DCX3400 for free internet?             0  , 5: 0         What is the step by step guide to inve...e sex with cousin?\nName: question1, dtype: object, 6: 'What is the story of Kohinoor (Koh-i-Noor) Diamond?', 7: <class 'str'>, 9:    qid2                                         ...Motorola (company): Can I hack my Charter Moto..., 10:    qid2                                         ...w do I hack Motorola DCX3400 for free internet?  , 11:                                            quest...w do I hack Motorola DCX3400 for free internet?  , 12: <class 'pandas.core.frame.DataFrame'>, 13: <class 'pandas.core.series.Series'>, 14: <class 'str'>, ...}, 'Pipeline': <class 'sklearn.pipeline.Pipeline'>, 'RandomForestClassifier': <class 'sklearn.ensemble.forest.RandomForestClassifier'>, 'TfidfTransformer': <class 'sklearn.feature_extraction.text.TfidfTransformer'>, '_': <class 'list'>, '_10':    qid2                                         ...w do I hack Motorola DCX3400 for free internet?  , ...}\n   2882             finally:\n   2883                 # Reset our crash handler in place\n   2884                 sys.excepthook = old_excepthook\n   2885         except SystemExit as e:\n\n...........................................................................\n/home/evan/dev/KaggleCompetitions/Quora/<ipython-input-127-b8f0aa6c757f> in <module>()\n----> 1 \n      2 \n      3 \n      4 \n      5 \n      6 grid_search.fit(features.values, labels)\n      7 \n      8 \n      9 \n     10 \n\n...........................................................................\n/usr/lib64/python3.4/site-packages/sklearn/model_selection/_search.py in fit(self=GridSearchCV(cv=None, error_score='raise',\n     ...train_score=True,\n       scoring=None, verbose=1), X=array([['What is the step by step guide to inves...       ['How do I make friends.']], dtype=object), y=[0, 0, 0, 0, 0, 1, 0, 1, 0, 0, 0, 1, 1, 1, 0, 1, 1, 0, 1, 0, ...], groups=None)\n    935 \n    936         groups : array-like, with shape (n_samples,), optional\n    937             Group labels for the samples used while splitting the dataset into\n    938             train/test set.\n    939         \"\"\"\n--> 940         return self._fit(X, y, groups, ParameterGrid(self.param_grid))\n        self._fit = <bound method GridSearchCV._fit of GridSearchCV(...rain_score=True,\n       scoring=None, verbose=1)>\n        X = array([['What is the step by step guide to inves...       ['How do I make friends.']], dtype=object)\n        y = [0, 0, 0, 0, 0, 1, 0, 1, 0, 0, 0, 1, 1, 1, 0, 1, 1, 0, 1, 0, ...]\n        groups = None\n        self.param_grid = {'tfidf__use_idf': (True, False)}\n    941 \n    942 \n    943 class RandomizedSearchCV(BaseSearchCV):\n    944     \"\"\"Randomized search on hyper parameters.\n\n...........................................................................\n/usr/lib64/python3.4/site-packages/sklearn/model_selection/_search.py in _fit(self=GridSearchCV(cv=None, error_score='raise',\n     ...train_score=True,\n       scoring=None, verbose=1), X=array([['What is the step by step guide to inves...       ['How do I make friends.']], dtype=object), y=[0, 0, 0, 0, 0, 1, 0, 1, 0, 0, 0, 1, 1, 1, 0, 1, 1, 0, 1, 0, ...], groups=None, parameter_iterable=<sklearn.model_selection._search.ParameterGrid object>)\n    557                                   fit_params=self.fit_params,\n    558                                   return_train_score=self.return_train_score,\n    559                                   return_n_test_samples=True,\n    560                                   return_times=True, return_parameters=True,\n    561                                   error_score=self.error_score)\n--> 562           for parameters in parameter_iterable\n        parameters = undefined\n        parameter_iterable = <sklearn.model_selection._search.ParameterGrid object>\n    563           for train, test in cv.split(X, y, groups))\n    564 \n    565         # if one choose to see train score, \"out\" will contain train score info\n    566         if self.return_train_score:\n\n...........................................................................\n/usr/lib64/python3.4/site-packages/sklearn/externals/joblib/parallel.py in __call__(self=Parallel(n_jobs=-1), iterable=<generator object <genexpr>>)\n    763             if pre_dispatch == \"all\" or n_jobs == 1:\n    764                 # The iterable was consumed all at once by the above for loop.\n    765                 # No need to wait for async callbacks to trigger to\n    766                 # consumption.\n    767                 self._iterating = False\n--> 768             self.retrieve()\n        self.retrieve = <bound method Parallel.retrieve of Parallel(n_jobs=-1)>\n    769             # Make sure that we get a last message telling us we are done\n    770             elapsed_time = time.time() - self._start_time\n    771             self._print('Done %3i out of %3i | elapsed: %s finished',\n    772                         (len(self._output), len(self._output),\n\n---------------------------------------------------------------------------\nSub-process traceback:\n---------------------------------------------------------------------------\nAttributeError                                     Thu Apr 20 23:13:28 2017\nPID: 14179                                   Python 3.4.5: /usr/bin/python3\n...........................................................................\n/usr/lib64/python3.4/site-packages/sklearn/externals/joblib/parallel.py in __call__(self=<sklearn.externals.joblib.parallel.BatchedCalls object>)\n    126     def __init__(self, iterator_slice):\n    127         self.items = list(iterator_slice)\n    128         self._size = len(self.items)\n    129 \n    130     def __call__(self):\n--> 131         return [func(*args, **kwargs) for func, args, kwargs in self.items]\n        self.items = [(<function _fit_and_score>, (Pipeline(steps=[('vect', CountVectorizer(analyze...None,\n            verbose=0, warm_start=False))]), array([['What is the step by step guide to inves...       ['How do I make friends.']], dtype=object), [0, 0, 0, 0, 0, 1, 0, 1, 0, 0, 0, 1, 1, 1, 0, 1, 1, 0, 1, 0, ...], <function _passthrough_scorer>, array([15, 16, 18, 20, 21, 22, 23, 24, 25, 26, 2... 38, 39, 40, 41, 42, 43, 44, 45, 46, 47, 48, 49]), array([ 0,  1,  2,  3,  4,  5,  6,  7,  8,  9, 10, 11, 12, 13, 14, 17, 19]), 1, {'tfidf__use_idf': True}), {'error_score': 'raise', 'fit_params': {}, 'return_n_test_samples': True, 'return_parameters': True, 'return_times': True, 'return_train_score': True})]\n    132 \n    133     def __len__(self):\n    134         return self._size\n    135 \n\n...........................................................................\n/usr/lib64/python3.4/site-packages/sklearn/externals/joblib/parallel.py in <listcomp>(.0=<list_iterator object>)\n    126     def __init__(self, iterator_slice):\n    127         self.items = list(iterator_slice)\n    128         self._size = len(self.items)\n    129 \n    130     def __call__(self):\n--> 131         return [func(*args, **kwargs) for func, args, kwargs in self.items]\n        func = <function _fit_and_score>\n        args = (Pipeline(steps=[('vect', CountVectorizer(analyze...None,\n            verbose=0, warm_start=False))]), array([['What is the step by step guide to inves...       ['How do I make friends.']], dtype=object), [0, 0, 0, 0, 0, 1, 0, 1, 0, 0, 0, 1, 1, 1, 0, 1, 1, 0, 1, 0, ...], <function _passthrough_scorer>, array([15, 16, 18, 20, 21, 22, 23, 24, 25, 26, 2... 38, 39, 40, 41, 42, 43, 44, 45, 46, 47, 48, 49]), array([ 0,  1,  2,  3,  4,  5,  6,  7,  8,  9, 10, 11, 12, 13, 14, 17, 19]), 1, {'tfidf__use_idf': True})\n        kwargs = {'error_score': 'raise', 'fit_params': {}, 'return_n_test_samples': True, 'return_parameters': True, 'return_times': True, 'return_train_score': True}\n    132 \n    133     def __len__(self):\n    134         return self._size\n    135 \n\n...........................................................................\n/usr/lib64/python3.4/site-packages/sklearn/model_selection/_validation.py in _fit_and_score(estimator=Pipeline(steps=[('vect', CountVectorizer(analyze...None,\n            verbose=0, warm_start=False))]), X=array([['What is the step by step guide to inves...       ['How do I make friends.']], dtype=object), y=[0, 0, 0, 0, 0, 1, 0, 1, 0, 0, 0, 1, 1, 1, 0, 1, 1, 0, 1, 0, ...], scorer=<function _passthrough_scorer>, train=array([15, 16, 18, 20, 21, 22, 23, 24, 25, 26, 2... 38, 39, 40, 41, 42, 43, 44, 45, 46, 47, 48, 49]), test=array([ 0,  1,  2,  3,  4,  5,  6,  7,  8,  9, 10, 11, 12, 13, 14, 17, 19]), verbose=1, parameters={'tfidf__use_idf': True}, fit_params={}, return_train_score=True, return_parameters=True, return_n_test_samples=True, return_times=True, error_score='raise')\n    233 \n    234     try:\n    235         if y_train is None:\n    236             estimator.fit(X_train, **fit_params)\n    237         else:\n--> 238             estimator.fit(X_train, y_train, **fit_params)\n        estimator.fit = <bound method Pipeline.fit of Pipeline(steps=[('...one,\n            verbose=0, warm_start=False))])>\n        X_train = array([[ 'What would a Trump presidency mean for...       ['How do I make friends.']], dtype=object)\n        y_train = [1, 1, 1, 1, 0, 0, 0, 0, 0, 0, 0, 0, 1, 0, 1, 1, 0, 0, 0, 0, ...]\n        fit_params = {}\n    239 \n    240     except Exception as e:\n    241         # Note fit time as time until error\n    242         fit_time = time.time() - start_time\n\n...........................................................................\n/usr/lib64/python3.4/site-packages/sklearn/pipeline.py in fit(self=Pipeline(steps=[('vect', CountVectorizer(analyze...None,\n            verbose=0, warm_start=False))]), X=array([[ 'What would a Trump presidency mean for...       ['How do I make friends.']], dtype=object), y=[1, 1, 1, 1, 0, 0, 0, 0, 0, 0, 0, 0, 1, 0, 1, 1, 0, 0, 0, 0, ...], **fit_params={})\n    263         Returns\n    264         -------\n    265         self : Pipeline\n    266             This estimator\n    267         \"\"\"\n--> 268         Xt, fit_params = self._fit(X, y, **fit_params)\n        Xt = undefined\n        fit_params = {}\n        self._fit = <bound method Pipeline._fit of Pipeline(steps=[(...one,\n            verbose=0, warm_start=False))])>\n        X = array([[ 'What would a Trump presidency mean for...       ['How do I make friends.']], dtype=object)\n        y = [1, 1, 1, 1, 0, 0, 0, 0, 0, 0, 0, 0, 1, 0, 1, 1, 0, 0, 0, 0, ...]\n    269         if self._final_estimator is not None:\n    270             self._final_estimator.fit(Xt, y, **fit_params)\n    271         return self\n    272 \n\n...........................................................................\n/usr/lib64/python3.4/site-packages/sklearn/pipeline.py in _fit(self=Pipeline(steps=[('vect', CountVectorizer(analyze...None,\n            verbose=0, warm_start=False))]), X=array([[ 'What would a Trump presidency mean for...       ['How do I make friends.']], dtype=object), y=[1, 1, 1, 1, 0, 0, 0, 0, 0, 0, 0, 0, 1, 0, 1, 1, 0, 0, 0, 0, ...], **fit_params={})\n    229         Xt = X\n    230         for name, transform in self.steps[:-1]:\n    231             if transform is None:\n    232                 pass\n    233             elif hasattr(transform, \"fit_transform\"):\n--> 234                 Xt = transform.fit_transform(Xt, y, **fit_params_steps[name])\n        Xt = array([[ 'What would a Trump presidency mean for...       ['How do I make friends.']], dtype=object)\n        transform.fit_transform = <bound method CountVectorizer.fit_transform of C...w+\\\\b',\n        tokenizer=None, vocabulary=None)>\n        y = [1, 1, 1, 1, 0, 0, 0, 0, 0, 0, 0, 0, 1, 0, 1, 1, 0, 0, 0, 0, ...]\n        fit_params_steps = {'clf': {}, 'tfidf': {}, 'vect': {}}\n        name = 'vect'\n    235             else:\n    236                 Xt = transform.fit(Xt, y, **fit_params_steps[name]) \\\n    237                               .transform(Xt)\n    238         if self._final_estimator is None:\n\n...........................................................................\n/usr/lib64/python3.4/site-packages/sklearn/feature_extraction/text.py in fit_transform(self=CountVectorizer(analyzer='word', binary=False, d...\\w+\\\\b',\n        tokenizer=None, vocabulary=None), raw_documents=array([[ 'What would a Trump presidency mean for...       ['How do I make friends.']], dtype=object), y=[1, 1, 1, 1, 0, 0, 0, 0, 0, 0, 0, 0, 1, 0, 1, 1, 0, 0, 0, 0, ...])\n    819         max_df = self.max_df\n    820         min_df = self.min_df\n    821         max_features = self.max_features\n    822 \n    823         vocabulary, X = self._count_vocab(raw_documents,\n--> 824                                           self.fixed_vocabulary_)\n        self.fixed_vocabulary_ = False\n    825 \n    826         if self.binary:\n    827             X.data.fill(1)\n    828 \n\n...........................................................................\n/usr/lib64/python3.4/site-packages/sklearn/feature_extraction/text.py in _count_vocab(self=CountVectorizer(analyzer='word', binary=False, d...\\w+\\\\b',\n        tokenizer=None, vocabulary=None), raw_documents=array([[ 'What would a Trump presidency mean for...       ['How do I make friends.']], dtype=object), fixed_vocab=False)\n    747         indptr = _make_int_array()\n    748         values = _make_int_array()\n    749         indptr.append(0)\n    750         for doc in raw_documents:\n    751             feature_counter = {}\n--> 752             for feature in analyze(doc):\n        feature = undefined\n        analyze = <function VectorizerMixin.build_analyzer.<locals>.<lambda>>\n        doc = array([ 'What would a Trump presidency mean for ...master’s students on an F1 visa?'], dtype=object)\n    753                 try:\n    754                     feature_idx = vocabulary[feature]\n    755                     if feature_idx not in feature_counter:\n    756                         feature_counter[feature_idx] = 1\n\n...........................................................................\n/usr/lib64/python3.4/site-packages/sklearn/feature_extraction/text.py in <lambda>(doc=array([ 'What would a Trump presidency mean for ...master’s students on an F1 visa?'], dtype=object))\n    236         elif self.analyzer == 'word':\n    237             stop_words = self.get_stop_words()\n    238             tokenize = self.build_tokenizer()\n    239 \n    240             return lambda doc: self._word_ngrams(\n--> 241                 tokenize(preprocess(self.decode(doc))), stop_words)\n        doc = array([ 'What would a Trump presidency mean for ...master’s students on an F1 visa?'], dtype=object)\n    242 \n    243         else:\n    244             raise ValueError('%s is not a valid tokenization scheme/analyzer' %\n    245                              self.analyzer)\n\n...........................................................................\n/usr/lib64/python3.4/site-packages/sklearn/feature_extraction/text.py in <lambda>(x=array([ 'What would a Trump presidency mean for ...master’s students on an F1 visa?'], dtype=object))\n    202         else:\n    203             raise ValueError('Invalid value for \"strip_accents\": %s' %\n    204                              self.strip_accents)\n    205 \n    206         if self.lowercase:\n--> 207             return lambda x: strip_accents(x.lower())\n        x = array([ 'What would a Trump presidency mean for ...master’s students on an F1 visa?'], dtype=object)\n        x.lower = undefined\n    208         else:\n    209             return strip_accents\n    210 \n    211     def build_tokenizer(self):\n\nAttributeError: 'numpy.ndarray' object has no attribute 'lower'\n___________________________________________________________________________",
     "output_type": "error",
     "traceback": [
      "\u001b[0;31m---------------------------------------------------------------------------\u001b[0m",
      "\u001b[0;31mRemoteTraceback\u001b[0m                           Traceback (most recent call last)",
      "\u001b[0;31mRemoteTraceback\u001b[0m: \n\"\"\"\nTraceback (most recent call last):\n  File \"/usr/lib64/python3.4/site-packages/sklearn/externals/joblib/_parallel_backends.py\", line 340, in __call__\n    return self.func(*args, **kwargs)\n  File \"/usr/lib64/python3.4/site-packages/sklearn/externals/joblib/parallel.py\", line 131, in __call__\n    return [func(*args, **kwargs) for func, args, kwargs in self.items]\n  File \"/usr/lib64/python3.4/site-packages/sklearn/externals/joblib/parallel.py\", line 131, in <listcomp>\n    return [func(*args, **kwargs) for func, args, kwargs in self.items]\n  File \"/usr/lib64/python3.4/site-packages/sklearn/model_selection/_validation.py\", line 238, in _fit_and_score\n    estimator.fit(X_train, y_train, **fit_params)\n  File \"/usr/lib64/python3.4/site-packages/sklearn/pipeline.py\", line 268, in fit\n    Xt, fit_params = self._fit(X, y, **fit_params)\n  File \"/usr/lib64/python3.4/site-packages/sklearn/pipeline.py\", line 234, in _fit\n    Xt = transform.fit_transform(Xt, y, **fit_params_steps[name])\n  File \"/usr/lib64/python3.4/site-packages/sklearn/feature_extraction/text.py\", line 824, in fit_transform\n    self.fixed_vocabulary_)\n  File \"/usr/lib64/python3.4/site-packages/sklearn/feature_extraction/text.py\", line 752, in _count_vocab\n    for feature in analyze(doc):\n  File \"/usr/lib64/python3.4/site-packages/sklearn/feature_extraction/text.py\", line 241, in <lambda>\n    tokenize(preprocess(self.decode(doc))), stop_words)\n  File \"/usr/lib64/python3.4/site-packages/sklearn/feature_extraction/text.py\", line 207, in <lambda>\n    return lambda x: strip_accents(x.lower())\nAttributeError: 'numpy.ndarray' object has no attribute 'lower'\n\nDuring handling of the above exception, another exception occurred:\n\nTraceback (most recent call last):\n  File \"/usr/lib64/python3.4/multiprocessing/pool.py\", line 119, in worker\n    result = (True, func(*args, **kwds))\n  File \"/usr/lib64/python3.4/site-packages/sklearn/externals/joblib/_parallel_backends.py\", line 349, in __call__\n    raise TransportableException(text, e_type)\nsklearn.externals.joblib.my_exceptions.TransportableException: TransportableException\n___________________________________________________________________________\nAttributeError                                     Thu Apr 20 23:13:28 2017\nPID: 14179                                   Python 3.4.5: /usr/bin/python3\n...........................................................................\n/usr/lib64/python3.4/site-packages/sklearn/externals/joblib/parallel.py in __call__(self=<sklearn.externals.joblib.parallel.BatchedCalls object>)\n    126     def __init__(self, iterator_slice):\n    127         self.items = list(iterator_slice)\n    128         self._size = len(self.items)\n    129 \n    130     def __call__(self):\n--> 131         return [func(*args, **kwargs) for func, args, kwargs in self.items]\n        self.items = [(<function _fit_and_score>, (Pipeline(steps=[('vect', CountVectorizer(analyze...None,\n            verbose=0, warm_start=False))]), array([['What is the step by step guide to inves...       ['How do I make friends.']], dtype=object), [0, 0, 0, 0, 0, 1, 0, 1, 0, 0, 0, 1, 1, 1, 0, 1, 1, 0, 1, 0, ...], <function _passthrough_scorer>, array([15, 16, 18, 20, 21, 22, 23, 24, 25, 26, 2... 38, 39, 40, 41, 42, 43, 44, 45, 46, 47, 48, 49]), array([ 0,  1,  2,  3,  4,  5,  6,  7,  8,  9, 10, 11, 12, 13, 14, 17, 19]), 1, {'tfidf__use_idf': True}), {'error_score': 'raise', 'fit_params': {}, 'return_n_test_samples': True, 'return_parameters': True, 'return_times': True, 'return_train_score': True})]\n    132 \n    133     def __len__(self):\n    134         return self._size\n    135 \n\n...........................................................................\n/usr/lib64/python3.4/site-packages/sklearn/externals/joblib/parallel.py in <listcomp>(.0=<list_iterator object>)\n    126     def __init__(self, iterator_slice):\n    127         self.items = list(iterator_slice)\n    128         self._size = len(self.items)\n    129 \n    130     def __call__(self):\n--> 131         return [func(*args, **kwargs) for func, args, kwargs in self.items]\n        func = <function _fit_and_score>\n        args = (Pipeline(steps=[('vect', CountVectorizer(analyze...None,\n            verbose=0, warm_start=False))]), array([['What is the step by step guide to inves...       ['How do I make friends.']], dtype=object), [0, 0, 0, 0, 0, 1, 0, 1, 0, 0, 0, 1, 1, 1, 0, 1, 1, 0, 1, 0, ...], <function _passthrough_scorer>, array([15, 16, 18, 20, 21, 22, 23, 24, 25, 26, 2... 38, 39, 40, 41, 42, 43, 44, 45, 46, 47, 48, 49]), array([ 0,  1,  2,  3,  4,  5,  6,  7,  8,  9, 10, 11, 12, 13, 14, 17, 19]), 1, {'tfidf__use_idf': True})\n        kwargs = {'error_score': 'raise', 'fit_params': {}, 'return_n_test_samples': True, 'return_parameters': True, 'return_times': True, 'return_train_score': True}\n    132 \n    133     def __len__(self):\n    134         return self._size\n    135 \n\n...........................................................................\n/usr/lib64/python3.4/site-packages/sklearn/model_selection/_validation.py in _fit_and_score(estimator=Pipeline(steps=[('vect', CountVectorizer(analyze...None,\n            verbose=0, warm_start=False))]), X=array([['What is the step by step guide to inves...       ['How do I make friends.']], dtype=object), y=[0, 0, 0, 0, 0, 1, 0, 1, 0, 0, 0, 1, 1, 1, 0, 1, 1, 0, 1, 0, ...], scorer=<function _passthrough_scorer>, train=array([15, 16, 18, 20, 21, 22, 23, 24, 25, 26, 2... 38, 39, 40, 41, 42, 43, 44, 45, 46, 47, 48, 49]), test=array([ 0,  1,  2,  3,  4,  5,  6,  7,  8,  9, 10, 11, 12, 13, 14, 17, 19]), verbose=1, parameters={'tfidf__use_idf': True}, fit_params={}, return_train_score=True, return_parameters=True, return_n_test_samples=True, return_times=True, error_score='raise')\n    233 \n    234     try:\n    235         if y_train is None:\n    236             estimator.fit(X_train, **fit_params)\n    237         else:\n--> 238             estimator.fit(X_train, y_train, **fit_params)\n        estimator.fit = <bound method Pipeline.fit of Pipeline(steps=[('...one,\n            verbose=0, warm_start=False))])>\n        X_train = array([[ 'What would a Trump presidency mean for...       ['How do I make friends.']], dtype=object)\n        y_train = [1, 1, 1, 1, 0, 0, 0, 0, 0, 0, 0, 0, 1, 0, 1, 1, 0, 0, 0, 0, ...]\n        fit_params = {}\n    239 \n    240     except Exception as e:\n    241         # Note fit time as time until error\n    242         fit_time = time.time() - start_time\n\n...........................................................................\n/usr/lib64/python3.4/site-packages/sklearn/pipeline.py in fit(self=Pipeline(steps=[('vect', CountVectorizer(analyze...None,\n            verbose=0, warm_start=False))]), X=array([[ 'What would a Trump presidency mean for...       ['How do I make friends.']], dtype=object), y=[1, 1, 1, 1, 0, 0, 0, 0, 0, 0, 0, 0, 1, 0, 1, 1, 0, 0, 0, 0, ...], **fit_params={})\n    263         Returns\n    264         -------\n    265         self : Pipeline\n    266             This estimator\n    267         \"\"\"\n--> 268         Xt, fit_params = self._fit(X, y, **fit_params)\n        Xt = undefined\n        fit_params = {}\n        self._fit = <bound method Pipeline._fit of Pipeline(steps=[(...one,\n            verbose=0, warm_start=False))])>\n        X = array([[ 'What would a Trump presidency mean for...       ['How do I make friends.']], dtype=object)\n        y = [1, 1, 1, 1, 0, 0, 0, 0, 0, 0, 0, 0, 1, 0, 1, 1, 0, 0, 0, 0, ...]\n    269         if self._final_estimator is not None:\n    270             self._final_estimator.fit(Xt, y, **fit_params)\n    271         return self\n    272 \n\n...........................................................................\n/usr/lib64/python3.4/site-packages/sklearn/pipeline.py in _fit(self=Pipeline(steps=[('vect', CountVectorizer(analyze...None,\n            verbose=0, warm_start=False))]), X=array([[ 'What would a Trump presidency mean for...       ['How do I make friends.']], dtype=object), y=[1, 1, 1, 1, 0, 0, 0, 0, 0, 0, 0, 0, 1, 0, 1, 1, 0, 0, 0, 0, ...], **fit_params={})\n    229         Xt = X\n    230         for name, transform in self.steps[:-1]:\n    231             if transform is None:\n    232                 pass\n    233             elif hasattr(transform, \"fit_transform\"):\n--> 234                 Xt = transform.fit_transform(Xt, y, **fit_params_steps[name])\n        Xt = array([[ 'What would a Trump presidency mean for...       ['How do I make friends.']], dtype=object)\n        transform.fit_transform = <bound method CountVectorizer.fit_transform of C...w+\\\\b',\n        tokenizer=None, vocabulary=None)>\n        y = [1, 1, 1, 1, 0, 0, 0, 0, 0, 0, 0, 0, 1, 0, 1, 1, 0, 0, 0, 0, ...]\n        fit_params_steps = {'clf': {}, 'tfidf': {}, 'vect': {}}\n        name = 'vect'\n    235             else:\n    236                 Xt = transform.fit(Xt, y, **fit_params_steps[name]) \\\n    237                               .transform(Xt)\n    238         if self._final_estimator is None:\n\n...........................................................................\n/usr/lib64/python3.4/site-packages/sklearn/feature_extraction/text.py in fit_transform(self=CountVectorizer(analyzer='word', binary=False, d...\\w+\\\\b',\n        tokenizer=None, vocabulary=None), raw_documents=array([[ 'What would a Trump presidency mean for...       ['How do I make friends.']], dtype=object), y=[1, 1, 1, 1, 0, 0, 0, 0, 0, 0, 0, 0, 1, 0, 1, 1, 0, 0, 0, 0, ...])\n    819         max_df = self.max_df\n    820         min_df = self.min_df\n    821         max_features = self.max_features\n    822 \n    823         vocabulary, X = self._count_vocab(raw_documents,\n--> 824                                           self.fixed_vocabulary_)\n        self.fixed_vocabulary_ = False\n    825 \n    826         if self.binary:\n    827             X.data.fill(1)\n    828 \n\n...........................................................................\n/usr/lib64/python3.4/site-packages/sklearn/feature_extraction/text.py in _count_vocab(self=CountVectorizer(analyzer='word', binary=False, d...\\w+\\\\b',\n        tokenizer=None, vocabulary=None), raw_documents=array([[ 'What would a Trump presidency mean for...       ['How do I make friends.']], dtype=object), fixed_vocab=False)\n    747         indptr = _make_int_array()\n    748         values = _make_int_array()\n    749         indptr.append(0)\n    750         for doc in raw_documents:\n    751             feature_counter = {}\n--> 752             for feature in analyze(doc):\n        feature = undefined\n        analyze = <function VectorizerMixin.build_analyzer.<locals>.<lambda>>\n        doc = array([ 'What would a Trump presidency mean for ...master’s students on an F1 visa?'], dtype=object)\n    753                 try:\n    754                     feature_idx = vocabulary[feature]\n    755                     if feature_idx not in feature_counter:\n    756                         feature_counter[feature_idx] = 1\n\n...........................................................................\n/usr/lib64/python3.4/site-packages/sklearn/feature_extraction/text.py in <lambda>(doc=array([ 'What would a Trump presidency mean for ...master’s students on an F1 visa?'], dtype=object))\n    236         elif self.analyzer == 'word':\n    237             stop_words = self.get_stop_words()\n    238             tokenize = self.build_tokenizer()\n    239 \n    240             return lambda doc: self._word_ngrams(\n--> 241                 tokenize(preprocess(self.decode(doc))), stop_words)\n        doc = array([ 'What would a Trump presidency mean for ...master’s students on an F1 visa?'], dtype=object)\n    242 \n    243         else:\n    244             raise ValueError('%s is not a valid tokenization scheme/analyzer' %\n    245                              self.analyzer)\n\n...........................................................................\n/usr/lib64/python3.4/site-packages/sklearn/feature_extraction/text.py in <lambda>(x=array([ 'What would a Trump presidency mean for ...master’s students on an F1 visa?'], dtype=object))\n    202         else:\n    203             raise ValueError('Invalid value for \"strip_accents\": %s' %\n    204                              self.strip_accents)\n    205 \n    206         if self.lowercase:\n--> 207             return lambda x: strip_accents(x.lower())\n        x = array([ 'What would a Trump presidency mean for ...master’s students on an F1 visa?'], dtype=object)\n        x.lower = undefined\n    208         else:\n    209             return strip_accents\n    210 \n    211     def build_tokenizer(self):\n\nAttributeError: 'numpy.ndarray' object has no attribute 'lower'\n___________________________________________________________________________\n\"\"\"",
      "\nThe above exception was the direct cause of the following exception:\n",
      "\u001b[0;31mTransportableException\u001b[0m                    Traceback (most recent call last)",
      "\u001b[0;32m/usr/lib64/python3.4/site-packages/sklearn/externals/joblib/parallel.py\u001b[0m in \u001b[0;36mretrieve\u001b[0;34m(self)\u001b[0m\n\u001b[1;32m    681\u001b[0m                 \u001b[0;32mif\u001b[0m \u001b[0;34m'timeout'\u001b[0m \u001b[0;32min\u001b[0m \u001b[0mgetfullargspec\u001b[0m\u001b[0;34m(\u001b[0m\u001b[0mjob\u001b[0m\u001b[0;34m.\u001b[0m\u001b[0mget\u001b[0m\u001b[0;34m)\u001b[0m\u001b[0;34m.\u001b[0m\u001b[0margs\u001b[0m\u001b[0;34m:\u001b[0m\u001b[0;34m\u001b[0m\u001b[0m\n\u001b[0;32m--> 682\u001b[0;31m                     \u001b[0mself\u001b[0m\u001b[0;34m.\u001b[0m\u001b[0m_output\u001b[0m\u001b[0;34m.\u001b[0m\u001b[0mextend\u001b[0m\u001b[0;34m(\u001b[0m\u001b[0mjob\u001b[0m\u001b[0;34m.\u001b[0m\u001b[0mget\u001b[0m\u001b[0;34m(\u001b[0m\u001b[0mtimeout\u001b[0m\u001b[0;34m=\u001b[0m\u001b[0mself\u001b[0m\u001b[0;34m.\u001b[0m\u001b[0mtimeout\u001b[0m\u001b[0;34m)\u001b[0m\u001b[0;34m)\u001b[0m\u001b[0;34m\u001b[0m\u001b[0m\n\u001b[0m\u001b[1;32m    683\u001b[0m                 \u001b[0;32melse\u001b[0m\u001b[0;34m:\u001b[0m\u001b[0;34m\u001b[0m\u001b[0m\n",
      "\u001b[0;32m/usr/lib64/python3.4/multiprocessing/pool.py\u001b[0m in \u001b[0;36mget\u001b[0;34m(self, timeout)\u001b[0m\n\u001b[1;32m    607\u001b[0m         \u001b[0;32melse\u001b[0m\u001b[0;34m:\u001b[0m\u001b[0;34m\u001b[0m\u001b[0m\n\u001b[0;32m--> 608\u001b[0;31m             \u001b[0;32mraise\u001b[0m \u001b[0mself\u001b[0m\u001b[0;34m.\u001b[0m\u001b[0m_value\u001b[0m\u001b[0;34m\u001b[0m\u001b[0m\n\u001b[0m\u001b[1;32m    609\u001b[0m \u001b[0;34m\u001b[0m\u001b[0m\n",
      "\u001b[0;31mTransportableException\u001b[0m: TransportableException\n___________________________________________________________________________\nAttributeError                                     Thu Apr 20 23:13:28 2017\nPID: 14179                                   Python 3.4.5: /usr/bin/python3\n...........................................................................\n/usr/lib64/python3.4/site-packages/sklearn/externals/joblib/parallel.py in __call__(self=<sklearn.externals.joblib.parallel.BatchedCalls object>)\n    126     def __init__(self, iterator_slice):\n    127         self.items = list(iterator_slice)\n    128         self._size = len(self.items)\n    129 \n    130     def __call__(self):\n--> 131         return [func(*args, **kwargs) for func, args, kwargs in self.items]\n        self.items = [(<function _fit_and_score>, (Pipeline(steps=[('vect', CountVectorizer(analyze...None,\n            verbose=0, warm_start=False))]), array([['What is the step by step guide to inves...       ['How do I make friends.']], dtype=object), [0, 0, 0, 0, 0, 1, 0, 1, 0, 0, 0, 1, 1, 1, 0, 1, 1, 0, 1, 0, ...], <function _passthrough_scorer>, array([15, 16, 18, 20, 21, 22, 23, 24, 25, 26, 2... 38, 39, 40, 41, 42, 43, 44, 45, 46, 47, 48, 49]), array([ 0,  1,  2,  3,  4,  5,  6,  7,  8,  9, 10, 11, 12, 13, 14, 17, 19]), 1, {'tfidf__use_idf': True}), {'error_score': 'raise', 'fit_params': {}, 'return_n_test_samples': True, 'return_parameters': True, 'return_times': True, 'return_train_score': True})]\n    132 \n    133     def __len__(self):\n    134         return self._size\n    135 \n\n...........................................................................\n/usr/lib64/python3.4/site-packages/sklearn/externals/joblib/parallel.py in <listcomp>(.0=<list_iterator object>)\n    126     def __init__(self, iterator_slice):\n    127         self.items = list(iterator_slice)\n    128         self._size = len(self.items)\n    129 \n    130     def __call__(self):\n--> 131         return [func(*args, **kwargs) for func, args, kwargs in self.items]\n        func = <function _fit_and_score>\n        args = (Pipeline(steps=[('vect', CountVectorizer(analyze...None,\n            verbose=0, warm_start=False))]), array([['What is the step by step guide to inves...       ['How do I make friends.']], dtype=object), [0, 0, 0, 0, 0, 1, 0, 1, 0, 0, 0, 1, 1, 1, 0, 1, 1, 0, 1, 0, ...], <function _passthrough_scorer>, array([15, 16, 18, 20, 21, 22, 23, 24, 25, 26, 2... 38, 39, 40, 41, 42, 43, 44, 45, 46, 47, 48, 49]), array([ 0,  1,  2,  3,  4,  5,  6,  7,  8,  9, 10, 11, 12, 13, 14, 17, 19]), 1, {'tfidf__use_idf': True})\n        kwargs = {'error_score': 'raise', 'fit_params': {}, 'return_n_test_samples': True, 'return_parameters': True, 'return_times': True, 'return_train_score': True}\n    132 \n    133     def __len__(self):\n    134         return self._size\n    135 \n\n...........................................................................\n/usr/lib64/python3.4/site-packages/sklearn/model_selection/_validation.py in _fit_and_score(estimator=Pipeline(steps=[('vect', CountVectorizer(analyze...None,\n            verbose=0, warm_start=False))]), X=array([['What is the step by step guide to inves...       ['How do I make friends.']], dtype=object), y=[0, 0, 0, 0, 0, 1, 0, 1, 0, 0, 0, 1, 1, 1, 0, 1, 1, 0, 1, 0, ...], scorer=<function _passthrough_scorer>, train=array([15, 16, 18, 20, 21, 22, 23, 24, 25, 26, 2... 38, 39, 40, 41, 42, 43, 44, 45, 46, 47, 48, 49]), test=array([ 0,  1,  2,  3,  4,  5,  6,  7,  8,  9, 10, 11, 12, 13, 14, 17, 19]), verbose=1, parameters={'tfidf__use_idf': True}, fit_params={}, return_train_score=True, return_parameters=True, return_n_test_samples=True, return_times=True, error_score='raise')\n    233 \n    234     try:\n    235         if y_train is None:\n    236             estimator.fit(X_train, **fit_params)\n    237         else:\n--> 238             estimator.fit(X_train, y_train, **fit_params)\n        estimator.fit = <bound method Pipeline.fit of Pipeline(steps=[('...one,\n            verbose=0, warm_start=False))])>\n        X_train = array([[ 'What would a Trump presidency mean for...       ['How do I make friends.']], dtype=object)\n        y_train = [1, 1, 1, 1, 0, 0, 0, 0, 0, 0, 0, 0, 1, 0, 1, 1, 0, 0, 0, 0, ...]\n        fit_params = {}\n    239 \n    240     except Exception as e:\n    241         # Note fit time as time until error\n    242         fit_time = time.time() - start_time\n\n...........................................................................\n/usr/lib64/python3.4/site-packages/sklearn/pipeline.py in fit(self=Pipeline(steps=[('vect', CountVectorizer(analyze...None,\n            verbose=0, warm_start=False))]), X=array([[ 'What would a Trump presidency mean for...       ['How do I make friends.']], dtype=object), y=[1, 1, 1, 1, 0, 0, 0, 0, 0, 0, 0, 0, 1, 0, 1, 1, 0, 0, 0, 0, ...], **fit_params={})\n    263         Returns\n    264         -------\n    265         self : Pipeline\n    266             This estimator\n    267         \"\"\"\n--> 268         Xt, fit_params = self._fit(X, y, **fit_params)\n        Xt = undefined\n        fit_params = {}\n        self._fit = <bound method Pipeline._fit of Pipeline(steps=[(...one,\n            verbose=0, warm_start=False))])>\n        X = array([[ 'What would a Trump presidency mean for...       ['How do I make friends.']], dtype=object)\n        y = [1, 1, 1, 1, 0, 0, 0, 0, 0, 0, 0, 0, 1, 0, 1, 1, 0, 0, 0, 0, ...]\n    269         if self._final_estimator is not None:\n    270             self._final_estimator.fit(Xt, y, **fit_params)\n    271         return self\n    272 \n\n...........................................................................\n/usr/lib64/python3.4/site-packages/sklearn/pipeline.py in _fit(self=Pipeline(steps=[('vect', CountVectorizer(analyze...None,\n            verbose=0, warm_start=False))]), X=array([[ 'What would a Trump presidency mean for...       ['How do I make friends.']], dtype=object), y=[1, 1, 1, 1, 0, 0, 0, 0, 0, 0, 0, 0, 1, 0, 1, 1, 0, 0, 0, 0, ...], **fit_params={})\n    229         Xt = X\n    230         for name, transform in self.steps[:-1]:\n    231             if transform is None:\n    232                 pass\n    233             elif hasattr(transform, \"fit_transform\"):\n--> 234                 Xt = transform.fit_transform(Xt, y, **fit_params_steps[name])\n        Xt = array([[ 'What would a Trump presidency mean for...       ['How do I make friends.']], dtype=object)\n        transform.fit_transform = <bound method CountVectorizer.fit_transform of C...w+\\\\b',\n        tokenizer=None, vocabulary=None)>\n        y = [1, 1, 1, 1, 0, 0, 0, 0, 0, 0, 0, 0, 1, 0, 1, 1, 0, 0, 0, 0, ...]\n        fit_params_steps = {'clf': {}, 'tfidf': {}, 'vect': {}}\n        name = 'vect'\n    235             else:\n    236                 Xt = transform.fit(Xt, y, **fit_params_steps[name]) \\\n    237                               .transform(Xt)\n    238         if self._final_estimator is None:\n\n...........................................................................\n/usr/lib64/python3.4/site-packages/sklearn/feature_extraction/text.py in fit_transform(self=CountVectorizer(analyzer='word', binary=False, d...\\w+\\\\b',\n        tokenizer=None, vocabulary=None), raw_documents=array([[ 'What would a Trump presidency mean for...       ['How do I make friends.']], dtype=object), y=[1, 1, 1, 1, 0, 0, 0, 0, 0, 0, 0, 0, 1, 0, 1, 1, 0, 0, 0, 0, ...])\n    819         max_df = self.max_df\n    820         min_df = self.min_df\n    821         max_features = self.max_features\n    822 \n    823         vocabulary, X = self._count_vocab(raw_documents,\n--> 824                                           self.fixed_vocabulary_)\n        self.fixed_vocabulary_ = False\n    825 \n    826         if self.binary:\n    827             X.data.fill(1)\n    828 \n\n...........................................................................\n/usr/lib64/python3.4/site-packages/sklearn/feature_extraction/text.py in _count_vocab(self=CountVectorizer(analyzer='word', binary=False, d...\\w+\\\\b',\n        tokenizer=None, vocabulary=None), raw_documents=array([[ 'What would a Trump presidency mean for...       ['How do I make friends.']], dtype=object), fixed_vocab=False)\n    747         indptr = _make_int_array()\n    748         values = _make_int_array()\n    749         indptr.append(0)\n    750         for doc in raw_documents:\n    751             feature_counter = {}\n--> 752             for feature in analyze(doc):\n        feature = undefined\n        analyze = <function VectorizerMixin.build_analyzer.<locals>.<lambda>>\n        doc = array([ 'What would a Trump presidency mean for ...master’s students on an F1 visa?'], dtype=object)\n    753                 try:\n    754                     feature_idx = vocabulary[feature]\n    755                     if feature_idx not in feature_counter:\n    756                         feature_counter[feature_idx] = 1\n\n...........................................................................\n/usr/lib64/python3.4/site-packages/sklearn/feature_extraction/text.py in <lambda>(doc=array([ 'What would a Trump presidency mean for ...master’s students on an F1 visa?'], dtype=object))\n    236         elif self.analyzer == 'word':\n    237             stop_words = self.get_stop_words()\n    238             tokenize = self.build_tokenizer()\n    239 \n    240             return lambda doc: self._word_ngrams(\n--> 241                 tokenize(preprocess(self.decode(doc))), stop_words)\n        doc = array([ 'What would a Trump presidency mean for ...master’s students on an F1 visa?'], dtype=object)\n    242 \n    243         else:\n    244             raise ValueError('%s is not a valid tokenization scheme/analyzer' %\n    245                              self.analyzer)\n\n...........................................................................\n/usr/lib64/python3.4/site-packages/sklearn/feature_extraction/text.py in <lambda>(x=array([ 'What would a Trump presidency mean for ...master’s students on an F1 visa?'], dtype=object))\n    202         else:\n    203             raise ValueError('Invalid value for \"strip_accents\": %s' %\n    204                              self.strip_accents)\n    205 \n    206         if self.lowercase:\n--> 207             return lambda x: strip_accents(x.lower())\n        x = array([ 'What would a Trump presidency mean for ...master’s students on an F1 visa?'], dtype=object)\n        x.lower = undefined\n    208         else:\n    209             return strip_accents\n    210 \n    211     def build_tokenizer(self):\n\nAttributeError: 'numpy.ndarray' object has no attribute 'lower'\n___________________________________________________________________________",
      "\nDuring handling of the above exception, another exception occurred:\n",
      "\u001b[0;31mJoblibAttributeError\u001b[0m                      Traceback (most recent call last)",
      "\u001b[0;32m<ipython-input-127-b8f0aa6c757f>\u001b[0m in \u001b[0;36m<module>\u001b[0;34m()\u001b[0m\n\u001b[0;32m----> 1\u001b[0;31m \u001b[0mgrid_search\u001b[0m\u001b[0;34m.\u001b[0m\u001b[0mfit\u001b[0m\u001b[0;34m(\u001b[0m\u001b[0mfeatures\u001b[0m\u001b[0;34m.\u001b[0m\u001b[0mvalues\u001b[0m\u001b[0;34m,\u001b[0m \u001b[0mlabels\u001b[0m\u001b[0;34m)\u001b[0m\u001b[0;34m\u001b[0m\u001b[0m\n\u001b[0m",
      "\u001b[0;32m/usr/lib64/python3.4/site-packages/sklearn/model_selection/_search.py\u001b[0m in \u001b[0;36mfit\u001b[0;34m(self, X, y, groups)\u001b[0m\n\u001b[1;32m    938\u001b[0m             \u001b[0mtrain\u001b[0m\u001b[0;34m/\u001b[0m\u001b[0mtest\u001b[0m \u001b[0mset\u001b[0m\u001b[0;34m.\u001b[0m\u001b[0;34m\u001b[0m\u001b[0m\n\u001b[1;32m    939\u001b[0m         \"\"\"\n\u001b[0;32m--> 940\u001b[0;31m         \u001b[0;32mreturn\u001b[0m \u001b[0mself\u001b[0m\u001b[0;34m.\u001b[0m\u001b[0m_fit\u001b[0m\u001b[0;34m(\u001b[0m\u001b[0mX\u001b[0m\u001b[0;34m,\u001b[0m \u001b[0my\u001b[0m\u001b[0;34m,\u001b[0m \u001b[0mgroups\u001b[0m\u001b[0;34m,\u001b[0m \u001b[0mParameterGrid\u001b[0m\u001b[0;34m(\u001b[0m\u001b[0mself\u001b[0m\u001b[0;34m.\u001b[0m\u001b[0mparam_grid\u001b[0m\u001b[0;34m)\u001b[0m\u001b[0;34m)\u001b[0m\u001b[0;34m\u001b[0m\u001b[0m\n\u001b[0m\u001b[1;32m    941\u001b[0m \u001b[0;34m\u001b[0m\u001b[0m\n\u001b[1;32m    942\u001b[0m \u001b[0;34m\u001b[0m\u001b[0m\n",
      "\u001b[0;32m/usr/lib64/python3.4/site-packages/sklearn/model_selection/_search.py\u001b[0m in \u001b[0;36m_fit\u001b[0;34m(self, X, y, groups, parameter_iterable)\u001b[0m\n\u001b[1;32m    560\u001b[0m                                   \u001b[0mreturn_times\u001b[0m\u001b[0;34m=\u001b[0m\u001b[0;32mTrue\u001b[0m\u001b[0;34m,\u001b[0m \u001b[0mreturn_parameters\u001b[0m\u001b[0;34m=\u001b[0m\u001b[0;32mTrue\u001b[0m\u001b[0;34m,\u001b[0m\u001b[0;34m\u001b[0m\u001b[0m\n\u001b[1;32m    561\u001b[0m                                   error_score=self.error_score)\n\u001b[0;32m--> 562\u001b[0;31m           \u001b[0;32mfor\u001b[0m \u001b[0mparameters\u001b[0m \u001b[0;32min\u001b[0m \u001b[0mparameter_iterable\u001b[0m\u001b[0;34m\u001b[0m\u001b[0m\n\u001b[0m\u001b[1;32m    563\u001b[0m           for train, test in cv.split(X, y, groups))\n\u001b[1;32m    564\u001b[0m \u001b[0;34m\u001b[0m\u001b[0m\n",
      "\u001b[0;32m/usr/lib64/python3.4/site-packages/sklearn/externals/joblib/parallel.py\u001b[0m in \u001b[0;36m__call__\u001b[0;34m(self, iterable)\u001b[0m\n\u001b[1;32m    766\u001b[0m                 \u001b[0;31m# consumption.\u001b[0m\u001b[0;34m\u001b[0m\u001b[0;34m\u001b[0m\u001b[0m\n\u001b[1;32m    767\u001b[0m                 \u001b[0mself\u001b[0m\u001b[0;34m.\u001b[0m\u001b[0m_iterating\u001b[0m \u001b[0;34m=\u001b[0m \u001b[0;32mFalse\u001b[0m\u001b[0;34m\u001b[0m\u001b[0m\n\u001b[0;32m--> 768\u001b[0;31m             \u001b[0mself\u001b[0m\u001b[0;34m.\u001b[0m\u001b[0mretrieve\u001b[0m\u001b[0;34m(\u001b[0m\u001b[0;34m)\u001b[0m\u001b[0;34m\u001b[0m\u001b[0m\n\u001b[0m\u001b[1;32m    769\u001b[0m             \u001b[0;31m# Make sure that we get a last message telling us we are done\u001b[0m\u001b[0;34m\u001b[0m\u001b[0;34m\u001b[0m\u001b[0m\n\u001b[1;32m    770\u001b[0m             \u001b[0melapsed_time\u001b[0m \u001b[0;34m=\u001b[0m \u001b[0mtime\u001b[0m\u001b[0;34m.\u001b[0m\u001b[0mtime\u001b[0m\u001b[0;34m(\u001b[0m\u001b[0;34m)\u001b[0m \u001b[0;34m-\u001b[0m \u001b[0mself\u001b[0m\u001b[0;34m.\u001b[0m\u001b[0m_start_time\u001b[0m\u001b[0;34m\u001b[0m\u001b[0m\n",
      "\u001b[0;32m/usr/lib64/python3.4/site-packages/sklearn/externals/joblib/parallel.py\u001b[0m in \u001b[0;36mretrieve\u001b[0;34m(self)\u001b[0m\n\u001b[1;32m    717\u001b[0m                     \u001b[0mensure_ready\u001b[0m \u001b[0;34m=\u001b[0m \u001b[0mself\u001b[0m\u001b[0;34m.\u001b[0m\u001b[0m_managed_backend\u001b[0m\u001b[0;34m\u001b[0m\u001b[0m\n\u001b[1;32m    718\u001b[0m                     \u001b[0mbackend\u001b[0m\u001b[0;34m.\u001b[0m\u001b[0mabort_everything\u001b[0m\u001b[0;34m(\u001b[0m\u001b[0mensure_ready\u001b[0m\u001b[0;34m=\u001b[0m\u001b[0mensure_ready\u001b[0m\u001b[0;34m)\u001b[0m\u001b[0;34m\u001b[0m\u001b[0m\n\u001b[0;32m--> 719\u001b[0;31m                 \u001b[0;32mraise\u001b[0m \u001b[0mexception\u001b[0m\u001b[0;34m\u001b[0m\u001b[0m\n\u001b[0m\u001b[1;32m    720\u001b[0m \u001b[0;34m\u001b[0m\u001b[0m\n\u001b[1;32m    721\u001b[0m     \u001b[0;32mdef\u001b[0m \u001b[0m__call__\u001b[0m\u001b[0;34m(\u001b[0m\u001b[0mself\u001b[0m\u001b[0;34m,\u001b[0m \u001b[0miterable\u001b[0m\u001b[0;34m)\u001b[0m\u001b[0;34m:\u001b[0m\u001b[0;34m\u001b[0m\u001b[0m\n",
      "\u001b[0;31mJoblibAttributeError\u001b[0m: JoblibAttributeError\n___________________________________________________________________________\nMultiprocessing exception:\n...........................................................................\n/usr/lib64/python3.4/runpy.py in _run_module_as_main(mod_name='ipykernel_launcher', alter_argv=1)\n    165         sys.exit(msg)\n    166     main_globals = sys.modules[\"__main__\"].__dict__\n    167     if alter_argv:\n    168         sys.argv[0] = mod_spec.origin\n    169     return _run_code(code, main_globals, None,\n--> 170                      \"__main__\", mod_spec)\n        mod_spec = ModuleSpec(name='ipykernel_launcher', loader=<_f...b/python3.4/site-packages/ipykernel_launcher.py')\n    171 \n    172 def run_module(mod_name, init_globals=None,\n    173                run_name=None, alter_sys=False):\n    174     \"\"\"Execute a module's code without importing it\n\n...........................................................................\n/usr/lib64/python3.4/runpy.py in _run_code(code=<code object <module> at 0x7f9c8bd300c0, file \"/...3.4/site-packages/ipykernel_launcher.py\", line 5>, run_globals={'__builtins__': <module 'builtins' (built-in)>, '__cached__': '/usr/lib/python3.4/site-packages/__pycache__/ipykernel_launcher.cpython-34.pyc', '__doc__': 'Entry point for launching an IPython kernel.\\n\\nTh...orts until\\nafter removing the cwd from sys.path.\\n', '__file__': '/usr/lib/python3.4/site-packages/ipykernel_launcher.py', '__loader__': <_frozen_importlib.SourceFileLoader object>, '__name__': '__main__', '__package__': '', '__spec__': ModuleSpec(name='ipykernel_launcher', loader=<_f...b/python3.4/site-packages/ipykernel_launcher.py'), 'app': <module 'ipykernel.kernelapp' from '/usr/lib/python3.4/site-packages/ipykernel/kernelapp.py'>, 'sys': <module 'sys' (built-in)>}, init_globals=None, mod_name='__main__', mod_spec=ModuleSpec(name='ipykernel_launcher', loader=<_f...b/python3.4/site-packages/ipykernel_launcher.py'), pkg_name='', script_name=None)\n     80                        __cached__ = cached,\n     81                        __doc__ = None,\n     82                        __loader__ = loader,\n     83                        __package__ = pkg_name,\n     84                        __spec__ = mod_spec)\n---> 85     exec(code, run_globals)\n        code = <code object <module> at 0x7f9c8bd300c0, file \"/...3.4/site-packages/ipykernel_launcher.py\", line 5>\n        run_globals = {'__builtins__': <module 'builtins' (built-in)>, '__cached__': '/usr/lib/python3.4/site-packages/__pycache__/ipykernel_launcher.cpython-34.pyc', '__doc__': 'Entry point for launching an IPython kernel.\\n\\nTh...orts until\\nafter removing the cwd from sys.path.\\n', '__file__': '/usr/lib/python3.4/site-packages/ipykernel_launcher.py', '__loader__': <_frozen_importlib.SourceFileLoader object>, '__name__': '__main__', '__package__': '', '__spec__': ModuleSpec(name='ipykernel_launcher', loader=<_f...b/python3.4/site-packages/ipykernel_launcher.py'), 'app': <module 'ipykernel.kernelapp' from '/usr/lib/python3.4/site-packages/ipykernel/kernelapp.py'>, 'sys': <module 'sys' (built-in)>}\n     86     return run_globals\n     87 \n     88 def _run_module_code(code, init_globals=None,\n     89                     mod_name=None, mod_spec=None,\n\n...........................................................................\n/usr/lib/python3.4/site-packages/ipykernel_launcher.py in <module>()\n     11     # This is added back by InteractiveShellApp.init_path()\n     12     if sys.path[0] == '':\n     13         del sys.path[0]\n     14 \n     15     from ipykernel import kernelapp as app\n---> 16     app.launch_new_instance()\n     17 \n     18 \n     19 \n     20 \n\n...........................................................................\n/usr/lib/python3.4/site-packages/traitlets/config/application.py in launch_instance(cls=<class 'ipykernel.kernelapp.IPKernelApp'>, argv=None, **kwargs={})\n    653 \n    654         If a global instance already exists, this reinitializes and starts it\n    655         \"\"\"\n    656         app = cls.instance(**kwargs)\n    657         app.initialize(argv)\n--> 658         app.start()\n        app.start = <bound method IPKernelApp.start of <ipykernel.kernelapp.IPKernelApp object>>\n    659 \n    660 #-----------------------------------------------------------------------------\n    661 # utility functions, for convenience\n    662 #-----------------------------------------------------------------------------\n\n...........................................................................\n/usr/lib/python3.4/site-packages/ipykernel/kernelapp.py in start(self=<ipykernel.kernelapp.IPKernelApp object>)\n    472             return self.subapp.start()\n    473         if self.poller is not None:\n    474             self.poller.start()\n    475         self.kernel.start()\n    476         try:\n--> 477             ioloop.IOLoop.instance().start()\n    478         except KeyboardInterrupt:\n    479             pass\n    480 \n    481 launch_new_instance = IPKernelApp.launch_instance\n\n...........................................................................\n/usr/lib64/python3.4/site-packages/zmq/eventloop/ioloop.py in start(self=<zmq.eventloop.ioloop.ZMQIOLoop object>)\n    172             )\n    173         return loop\n    174     \n    175     def start(self):\n    176         try:\n--> 177             super(ZMQIOLoop, self).start()\n        self.start = <bound method ZMQIOLoop.start of <zmq.eventloop.ioloop.ZMQIOLoop object>>\n    178         except ZMQError as e:\n    179             if e.errno == ETERM:\n    180                 # quietly return on ETERM\n    181                 pass\n\n...........................................................................\n/usr/lib64/python3.4/site-packages/tornado/ioloop.py in start(self=<zmq.eventloop.ioloop.ZMQIOLoop object>)\n    883                 self._events.update(event_pairs)\n    884                 while self._events:\n    885                     fd, events = self._events.popitem()\n    886                     try:\n    887                         fd_obj, handler_func = self._handlers[fd]\n--> 888                         handler_func(fd_obj, events)\n        handler_func = <function wrap.<locals>.null_wrapper>\n        fd_obj = <zmq.sugar.socket.Socket object>\n        events = 1\n    889                     except (OSError, IOError) as e:\n    890                         if errno_from_exception(e) == errno.EPIPE:\n    891                             # Happens when the client closes the connection\n    892                             pass\n\n...........................................................................\n/usr/lib64/python3.4/site-packages/tornado/stack_context.py in null_wrapper(*args=(<zmq.sugar.socket.Socket object>, 1), **kwargs={})\n    272         # Fast path when there are no active contexts.\n    273         def null_wrapper(*args, **kwargs):\n    274             try:\n    275                 current_state = _state.contexts\n    276                 _state.contexts = cap_contexts[0]\n--> 277                 return fn(*args, **kwargs)\n        args = (<zmq.sugar.socket.Socket object>, 1)\n        kwargs = {}\n    278             finally:\n    279                 _state.contexts = current_state\n    280         null_wrapper._wrapped = True\n    281         return null_wrapper\n\n...........................................................................\n/usr/lib64/python3.4/site-packages/zmq/eventloop/zmqstream.py in _handle_events(self=<zmq.eventloop.zmqstream.ZMQStream object>, fd=<zmq.sugar.socket.Socket object>, events=1)\n    435             # dispatch events:\n    436             if events & IOLoop.ERROR:\n    437                 gen_log.error(\"got POLLERR event on ZMQStream, which doesn't make sense\")\n    438                 return\n    439             if events & IOLoop.READ:\n--> 440                 self._handle_recv()\n        self._handle_recv = <bound method ZMQStream._handle_recv of <zmq.eventloop.zmqstream.ZMQStream object>>\n    441                 if not self.socket:\n    442                     return\n    443             if events & IOLoop.WRITE:\n    444                 self._handle_send()\n\n...........................................................................\n/usr/lib64/python3.4/site-packages/zmq/eventloop/zmqstream.py in _handle_recv(self=<zmq.eventloop.zmqstream.ZMQStream object>)\n    467                 gen_log.error(\"RECV Error: %s\"%zmq.strerror(e.errno))\n    468         else:\n    469             if self._recv_callback:\n    470                 callback = self._recv_callback\n    471                 # self._recv_callback = None\n--> 472                 self._run_callback(callback, msg)\n        self._run_callback = <bound method ZMQStream._run_callback of <zmq.eventloop.zmqstream.ZMQStream object>>\n        callback = <function wrap.<locals>.null_wrapper>\n        msg = [<zmq.sugar.frame.Frame object>, <zmq.sugar.frame.Frame object>, <zmq.sugar.frame.Frame object>, <zmq.sugar.frame.Frame object>, <zmq.sugar.frame.Frame object>, <zmq.sugar.frame.Frame object>, <zmq.sugar.frame.Frame object>]\n    473                 \n    474         # self.update_state()\n    475         \n    476 \n\n...........................................................................\n/usr/lib64/python3.4/site-packages/zmq/eventloop/zmqstream.py in _run_callback(self=<zmq.eventloop.zmqstream.ZMQStream object>, callback=<function wrap.<locals>.null_wrapper>, *args=([<zmq.sugar.frame.Frame object>, <zmq.sugar.frame.Frame object>, <zmq.sugar.frame.Frame object>, <zmq.sugar.frame.Frame object>, <zmq.sugar.frame.Frame object>, <zmq.sugar.frame.Frame object>, <zmq.sugar.frame.Frame object>],), **kwargs={})\n    409         close our socket.\"\"\"\n    410         try:\n    411             # Use a NullContext to ensure that all StackContexts are run\n    412             # inside our blanket exception handler rather than outside.\n    413             with stack_context.NullContext():\n--> 414                 callback(*args, **kwargs)\n        callback = <function wrap.<locals>.null_wrapper>\n        args = ([<zmq.sugar.frame.Frame object>, <zmq.sugar.frame.Frame object>, <zmq.sugar.frame.Frame object>, <zmq.sugar.frame.Frame object>, <zmq.sugar.frame.Frame object>, <zmq.sugar.frame.Frame object>, <zmq.sugar.frame.Frame object>],)\n        kwargs = {}\n    415         except:\n    416             gen_log.error(\"Uncaught exception, closing connection.\",\n    417                           exc_info=True)\n    418             # Close the socket on an uncaught exception from a user callback\n\n...........................................................................\n/usr/lib64/python3.4/site-packages/tornado/stack_context.py in null_wrapper(*args=([<zmq.sugar.frame.Frame object>, <zmq.sugar.frame.Frame object>, <zmq.sugar.frame.Frame object>, <zmq.sugar.frame.Frame object>, <zmq.sugar.frame.Frame object>, <zmq.sugar.frame.Frame object>, <zmq.sugar.frame.Frame object>],), **kwargs={})\n    272         # Fast path when there are no active contexts.\n    273         def null_wrapper(*args, **kwargs):\n    274             try:\n    275                 current_state = _state.contexts\n    276                 _state.contexts = cap_contexts[0]\n--> 277                 return fn(*args, **kwargs)\n        args = ([<zmq.sugar.frame.Frame object>, <zmq.sugar.frame.Frame object>, <zmq.sugar.frame.Frame object>, <zmq.sugar.frame.Frame object>, <zmq.sugar.frame.Frame object>, <zmq.sugar.frame.Frame object>, <zmq.sugar.frame.Frame object>],)\n        kwargs = {}\n    278             finally:\n    279                 _state.contexts = current_state\n    280         null_wrapper._wrapped = True\n    281         return null_wrapper\n\n...........................................................................\n/usr/lib/python3.4/site-packages/ipykernel/kernelbase.py in dispatcher(msg=[<zmq.sugar.frame.Frame object>, <zmq.sugar.frame.Frame object>, <zmq.sugar.frame.Frame object>, <zmq.sugar.frame.Frame object>, <zmq.sugar.frame.Frame object>, <zmq.sugar.frame.Frame object>, <zmq.sugar.frame.Frame object>])\n    278         if self.control_stream:\n    279             self.control_stream.on_recv(self.dispatch_control, copy=False)\n    280 \n    281         def make_dispatcher(stream):\n    282             def dispatcher(msg):\n--> 283                 return self.dispatch_shell(stream, msg)\n        msg = [<zmq.sugar.frame.Frame object>, <zmq.sugar.frame.Frame object>, <zmq.sugar.frame.Frame object>, <zmq.sugar.frame.Frame object>, <zmq.sugar.frame.Frame object>, <zmq.sugar.frame.Frame object>, <zmq.sugar.frame.Frame object>]\n    284             return dispatcher\n    285 \n    286         for s in self.shell_streams:\n    287             s.on_recv(make_dispatcher(s), copy=False)\n\n...........................................................................\n/usr/lib/python3.4/site-packages/ipykernel/kernelbase.py in dispatch_shell(self=<ipykernel.ipkernel.IPythonKernel object>, stream=<zmq.eventloop.zmqstream.ZMQStream object>, msg={'buffers': [], 'content': {'allow_stdin': True, 'code': 'grid_search.fit(features.values, labels)', 'silent': False, 'stop_on_error': True, 'store_history': True, 'user_expressions': {}}, 'header': {'date': datetime.datetime(2017, 4, 21, 4, 13, 28, 51158, tzinfo=datetime.timezone.utc), 'msg_id': 'C64F0E50F0A34373B1EB7A42078425AC', 'msg_type': 'execute_request', 'session': 'B6B957FA594A4A0E805E05FA75D4FE56', 'username': 'username', 'version': '5.0'}, 'metadata': {}, 'msg_id': 'C64F0E50F0A34373B1EB7A42078425AC', 'msg_type': 'execute_request', 'parent_header': {}})\n    230             self.log.warn(\"Unknown message type: %r\", msg_type)\n    231         else:\n    232             self.log.debug(\"%s: %s\", msg_type, msg)\n    233             self.pre_handler_hook()\n    234             try:\n--> 235                 handler(stream, idents, msg)\n        handler = <bound method IPythonKernel.execute_request of <ipykernel.ipkernel.IPythonKernel object>>\n        stream = <zmq.eventloop.zmqstream.ZMQStream object>\n        idents = [b'B6B957FA594A4A0E805E05FA75D4FE56']\n        msg = {'buffers': [], 'content': {'allow_stdin': True, 'code': 'grid_search.fit(features.values, labels)', 'silent': False, 'stop_on_error': True, 'store_history': True, 'user_expressions': {}}, 'header': {'date': datetime.datetime(2017, 4, 21, 4, 13, 28, 51158, tzinfo=datetime.timezone.utc), 'msg_id': 'C64F0E50F0A34373B1EB7A42078425AC', 'msg_type': 'execute_request', 'session': 'B6B957FA594A4A0E805E05FA75D4FE56', 'username': 'username', 'version': '5.0'}, 'metadata': {}, 'msg_id': 'C64F0E50F0A34373B1EB7A42078425AC', 'msg_type': 'execute_request', 'parent_header': {}}\n    236             except Exception:\n    237                 self.log.error(\"Exception in message handler:\", exc_info=True)\n    238             finally:\n    239                 self.post_handler_hook()\n\n...........................................................................\n/usr/lib/python3.4/site-packages/ipykernel/kernelbase.py in execute_request(self=<ipykernel.ipkernel.IPythonKernel object>, stream=<zmq.eventloop.zmqstream.ZMQStream object>, ident=[b'B6B957FA594A4A0E805E05FA75D4FE56'], parent={'buffers': [], 'content': {'allow_stdin': True, 'code': 'grid_search.fit(features.values, labels)', 'silent': False, 'stop_on_error': True, 'store_history': True, 'user_expressions': {}}, 'header': {'date': datetime.datetime(2017, 4, 21, 4, 13, 28, 51158, tzinfo=datetime.timezone.utc), 'msg_id': 'C64F0E50F0A34373B1EB7A42078425AC', 'msg_type': 'execute_request', 'session': 'B6B957FA594A4A0E805E05FA75D4FE56', 'username': 'username', 'version': '5.0'}, 'metadata': {}, 'msg_id': 'C64F0E50F0A34373B1EB7A42078425AC', 'msg_type': 'execute_request', 'parent_header': {}})\n    394         if not silent:\n    395             self.execution_count += 1\n    396             self._publish_execute_input(code, parent, self.execution_count)\n    397 \n    398         reply_content = self.do_execute(code, silent, store_history,\n--> 399                                         user_expressions, allow_stdin)\n        user_expressions = {}\n        allow_stdin = True\n    400 \n    401         # Flush output before sending the reply.\n    402         sys.stdout.flush()\n    403         sys.stderr.flush()\n\n...........................................................................\n/usr/lib/python3.4/site-packages/ipykernel/ipkernel.py in do_execute(self=<ipykernel.ipkernel.IPythonKernel object>, code='grid_search.fit(features.values, labels)', silent=False, store_history=True, user_expressions={}, allow_stdin=True)\n    191 \n    192         self._forward_input(allow_stdin)\n    193 \n    194         reply_content = {}\n    195         try:\n--> 196             res = shell.run_cell(code, store_history=store_history, silent=silent)\n        res = undefined\n        shell.run_cell = <bound method ZMQInteractiveShell.run_cell of <ipykernel.zmqshell.ZMQInteractiveShell object>>\n        code = 'grid_search.fit(features.values, labels)'\n        store_history = True\n        silent = False\n    197         finally:\n    198             self._restore_input()\n    199 \n    200         if res.error_before_exec is not None:\n\n...........................................................................\n/usr/lib/python3.4/site-packages/ipykernel/zmqshell.py in run_cell(self=<ipykernel.zmqshell.ZMQInteractiveShell object>, *args=('grid_search.fit(features.values, labels)',), **kwargs={'silent': False, 'store_history': True})\n    528             )\n    529         self.payload_manager.write_payload(payload)\n    530 \n    531     def run_cell(self, *args, **kwargs):\n    532         self._last_traceback = None\n--> 533         return super(ZMQInteractiveShell, self).run_cell(*args, **kwargs)\n        self.run_cell = <bound method ZMQInteractiveShell.run_cell of <ipykernel.zmqshell.ZMQInteractiveShell object>>\n        args = ('grid_search.fit(features.values, labels)',)\n        kwargs = {'silent': False, 'store_history': True}\n    534 \n    535     def _showtraceback(self, etype, evalue, stb):\n    536         # try to preserve ordering of tracebacks and print statements\n    537         sys.stdout.flush()\n\n...........................................................................\n/usr/lib/python3.4/site-packages/IPython/core/interactiveshell.py in run_cell(self=<ipykernel.zmqshell.ZMQInteractiveShell object>, raw_cell='grid_search.fit(features.values, labels)', store_history=True, silent=False, shell_futures=True)\n   2712                 self.displayhook.exec_result = result\n   2713 \n   2714                 # Execute the user code\n   2715                 interactivity = \"none\" if silent else self.ast_node_interactivity\n   2716                 has_raised = self.run_ast_nodes(code_ast.body, cell_name,\n-> 2717                    interactivity=interactivity, compiler=compiler, result=result)\n        interactivity = 'last_expr'\n        compiler = <IPython.core.compilerop.CachingCompiler object>\n   2718                 \n   2719                 self.last_execution_succeeded = not has_raised\n   2720 \n   2721                 # Reset this so later displayed values do not modify the\n\n...........................................................................\n/usr/lib/python3.4/site-packages/IPython/core/interactiveshell.py in run_ast_nodes(self=<ipykernel.zmqshell.ZMQInteractiveShell object>, nodelist=[<_ast.Expr object>], cell_name='<ipython-input-127-b8f0aa6c757f>', interactivity='last', compiler=<IPython.core.compilerop.CachingCompiler object>, result=<ExecutionResult object at 7f9c67ebacc0, executi..._before_exec=None error_in_exec=None result=None>)\n   2822                     return True\n   2823 \n   2824             for i, node in enumerate(to_run_interactive):\n   2825                 mod = ast.Interactive([node])\n   2826                 code = compiler(mod, cell_name, \"single\")\n-> 2827                 if self.run_code(code, result):\n        self.run_code = <bound method ZMQInteractiveShell.run_code of <ipykernel.zmqshell.ZMQInteractiveShell object>>\n        code = <code object <module> at 0x7f9c67efd930, file \"<ipython-input-127-b8f0aa6c757f>\", line 1>\n        result = <ExecutionResult object at 7f9c67ebacc0, executi..._before_exec=None error_in_exec=None result=None>\n   2828                     return True\n   2829 \n   2830             # Flush softspace\n   2831             if softspace(sys.stdout, 0):\n\n...........................................................................\n/usr/lib/python3.4/site-packages/IPython/core/interactiveshell.py in run_code(self=<ipykernel.zmqshell.ZMQInteractiveShell object>, code_obj=<code object <module> at 0x7f9c67efd930, file \"<ipython-input-127-b8f0aa6c757f>\", line 1>, result=<ExecutionResult object at 7f9c67ebacc0, executi..._before_exec=None error_in_exec=None result=None>)\n   2876         outflag = 1  # happens in more places, so it's easier as default\n   2877         try:\n   2878             try:\n   2879                 self.hooks.pre_run_code_hook()\n   2880                 #rprint('Running code', repr(code_obj)) # dbg\n-> 2881                 exec(code_obj, self.user_global_ns, self.user_ns)\n        code_obj = <code object <module> at 0x7f9c67efd930, file \"<ipython-input-127-b8f0aa6c757f>\", line 1>\n        self.user_global_ns = {'CV': CountVectorizer(analyzer='word', binary=False, d...\\w+\\\\b',\n        tokenizer=None, vocabulary=None), 'CountVectorizer': <class 'sklearn.feature_extraction.text.CountVectorizer'>, 'GridSearchCV': <class 'sklearn.model_selection._search.GridSearchCV'>, 'In': ['', 'import pandas as pd', 'training  = pd.read_csv(\"./dat/train.csv\")', 'training[:10]', 'training[:10,[\"question1\"]]', 'training.question1', 'training.question1[1]', 'type(training.question1[1])', 'training[:10,2:4]', 'training.iloc[:10,2:4]', 'training.iloc[:10,2:5]', 'training.iloc[:10,3:5]', 'type(training.iloc[:10,3:5])', 'type(training.question1[1:5])', 'type(training.question1[1])', 'type(training.question1)', 'features = training[[\"question1\", \"question2\"]]\\nlabels   = training.is_duplicate', 'labels.values', 'type(features)', 'grid_search.fit(features.values, labels)', ...], 'Out': {3:    id  qid1  qid2                               ...torola DCX3400 for free internet?             0  , 5: 0         What is the step by step guide to inve...e sex with cousin?\nName: question1, dtype: object, 6: 'What is the story of Kohinoor (Koh-i-Noor) Diamond?', 7: <class 'str'>, 9:    qid2                                         ...Motorola (company): Can I hack my Charter Moto..., 10:    qid2                                         ...w do I hack Motorola DCX3400 for free internet?  , 11:                                            quest...w do I hack Motorola DCX3400 for free internet?  , 12: <class 'pandas.core.frame.DataFrame'>, 13: <class 'pandas.core.series.Series'>, 14: <class 'str'>, ...}, 'Pipeline': <class 'sklearn.pipeline.Pipeline'>, 'RandomForestClassifier': <class 'sklearn.ensemble.forest.RandomForestClassifier'>, 'TfidfTransformer': <class 'sklearn.feature_extraction.text.TfidfTransformer'>, '_': <class 'list'>, '_10':    qid2                                         ...w do I hack Motorola DCX3400 for free internet?  , ...}\n        self.user_ns = {'CV': CountVectorizer(analyzer='word', binary=False, d...\\w+\\\\b',\n        tokenizer=None, vocabulary=None), 'CountVectorizer': <class 'sklearn.feature_extraction.text.CountVectorizer'>, 'GridSearchCV': <class 'sklearn.model_selection._search.GridSearchCV'>, 'In': ['', 'import pandas as pd', 'training  = pd.read_csv(\"./dat/train.csv\")', 'training[:10]', 'training[:10,[\"question1\"]]', 'training.question1', 'training.question1[1]', 'type(training.question1[1])', 'training[:10,2:4]', 'training.iloc[:10,2:4]', 'training.iloc[:10,2:5]', 'training.iloc[:10,3:5]', 'type(training.iloc[:10,3:5])', 'type(training.question1[1:5])', 'type(training.question1[1])', 'type(training.question1)', 'features = training[[\"question1\", \"question2\"]]\\nlabels   = training.is_duplicate', 'labels.values', 'type(features)', 'grid_search.fit(features.values, labels)', ...], 'Out': {3:    id  qid1  qid2                               ...torola DCX3400 for free internet?             0  , 5: 0         What is the step by step guide to inve...e sex with cousin?\nName: question1, dtype: object, 6: 'What is the story of Kohinoor (Koh-i-Noor) Diamond?', 7: <class 'str'>, 9:    qid2                                         ...Motorola (company): Can I hack my Charter Moto..., 10:    qid2                                         ...w do I hack Motorola DCX3400 for free internet?  , 11:                                            quest...w do I hack Motorola DCX3400 for free internet?  , 12: <class 'pandas.core.frame.DataFrame'>, 13: <class 'pandas.core.series.Series'>, 14: <class 'str'>, ...}, 'Pipeline': <class 'sklearn.pipeline.Pipeline'>, 'RandomForestClassifier': <class 'sklearn.ensemble.forest.RandomForestClassifier'>, 'TfidfTransformer': <class 'sklearn.feature_extraction.text.TfidfTransformer'>, '_': <class 'list'>, '_10':    qid2                                         ...w do I hack Motorola DCX3400 for free internet?  , ...}\n   2882             finally:\n   2883                 # Reset our crash handler in place\n   2884                 sys.excepthook = old_excepthook\n   2885         except SystemExit as e:\n\n...........................................................................\n/home/evan/dev/KaggleCompetitions/Quora/<ipython-input-127-b8f0aa6c757f> in <module>()\n----> 1 \n      2 \n      3 \n      4 \n      5 \n      6 grid_search.fit(features.values, labels)\n      7 \n      8 \n      9 \n     10 \n\n...........................................................................\n/usr/lib64/python3.4/site-packages/sklearn/model_selection/_search.py in fit(self=GridSearchCV(cv=None, error_score='raise',\n     ...train_score=True,\n       scoring=None, verbose=1), X=array([['What is the step by step guide to inves...       ['How do I make friends.']], dtype=object), y=[0, 0, 0, 0, 0, 1, 0, 1, 0, 0, 0, 1, 1, 1, 0, 1, 1, 0, 1, 0, ...], groups=None)\n    935 \n    936         groups : array-like, with shape (n_samples,), optional\n    937             Group labels for the samples used while splitting the dataset into\n    938             train/test set.\n    939         \"\"\"\n--> 940         return self._fit(X, y, groups, ParameterGrid(self.param_grid))\n        self._fit = <bound method GridSearchCV._fit of GridSearchCV(...rain_score=True,\n       scoring=None, verbose=1)>\n        X = array([['What is the step by step guide to inves...       ['How do I make friends.']], dtype=object)\n        y = [0, 0, 0, 0, 0, 1, 0, 1, 0, 0, 0, 1, 1, 1, 0, 1, 1, 0, 1, 0, ...]\n        groups = None\n        self.param_grid = {'tfidf__use_idf': (True, False)}\n    941 \n    942 \n    943 class RandomizedSearchCV(BaseSearchCV):\n    944     \"\"\"Randomized search on hyper parameters.\n\n...........................................................................\n/usr/lib64/python3.4/site-packages/sklearn/model_selection/_search.py in _fit(self=GridSearchCV(cv=None, error_score='raise',\n     ...train_score=True,\n       scoring=None, verbose=1), X=array([['What is the step by step guide to inves...       ['How do I make friends.']], dtype=object), y=[0, 0, 0, 0, 0, 1, 0, 1, 0, 0, 0, 1, 1, 1, 0, 1, 1, 0, 1, 0, ...], groups=None, parameter_iterable=<sklearn.model_selection._search.ParameterGrid object>)\n    557                                   fit_params=self.fit_params,\n    558                                   return_train_score=self.return_train_score,\n    559                                   return_n_test_samples=True,\n    560                                   return_times=True, return_parameters=True,\n    561                                   error_score=self.error_score)\n--> 562           for parameters in parameter_iterable\n        parameters = undefined\n        parameter_iterable = <sklearn.model_selection._search.ParameterGrid object>\n    563           for train, test in cv.split(X, y, groups))\n    564 \n    565         # if one choose to see train score, \"out\" will contain train score info\n    566         if self.return_train_score:\n\n...........................................................................\n/usr/lib64/python3.4/site-packages/sklearn/externals/joblib/parallel.py in __call__(self=Parallel(n_jobs=-1), iterable=<generator object <genexpr>>)\n    763             if pre_dispatch == \"all\" or n_jobs == 1:\n    764                 # The iterable was consumed all at once by the above for loop.\n    765                 # No need to wait for async callbacks to trigger to\n    766                 # consumption.\n    767                 self._iterating = False\n--> 768             self.retrieve()\n        self.retrieve = <bound method Parallel.retrieve of Parallel(n_jobs=-1)>\n    769             # Make sure that we get a last message telling us we are done\n    770             elapsed_time = time.time() - self._start_time\n    771             self._print('Done %3i out of %3i | elapsed: %s finished',\n    772                         (len(self._output), len(self._output),\n\n---------------------------------------------------------------------------\nSub-process traceback:\n---------------------------------------------------------------------------\nAttributeError                                     Thu Apr 20 23:13:28 2017\nPID: 14179                                   Python 3.4.5: /usr/bin/python3\n...........................................................................\n/usr/lib64/python3.4/site-packages/sklearn/externals/joblib/parallel.py in __call__(self=<sklearn.externals.joblib.parallel.BatchedCalls object>)\n    126     def __init__(self, iterator_slice):\n    127         self.items = list(iterator_slice)\n    128         self._size = len(self.items)\n    129 \n    130     def __call__(self):\n--> 131         return [func(*args, **kwargs) for func, args, kwargs in self.items]\n        self.items = [(<function _fit_and_score>, (Pipeline(steps=[('vect', CountVectorizer(analyze...None,\n            verbose=0, warm_start=False))]), array([['What is the step by step guide to inves...       ['How do I make friends.']], dtype=object), [0, 0, 0, 0, 0, 1, 0, 1, 0, 0, 0, 1, 1, 1, 0, 1, 1, 0, 1, 0, ...], <function _passthrough_scorer>, array([15, 16, 18, 20, 21, 22, 23, 24, 25, 26, 2... 38, 39, 40, 41, 42, 43, 44, 45, 46, 47, 48, 49]), array([ 0,  1,  2,  3,  4,  5,  6,  7,  8,  9, 10, 11, 12, 13, 14, 17, 19]), 1, {'tfidf__use_idf': True}), {'error_score': 'raise', 'fit_params': {}, 'return_n_test_samples': True, 'return_parameters': True, 'return_times': True, 'return_train_score': True})]\n    132 \n    133     def __len__(self):\n    134         return self._size\n    135 \n\n...........................................................................\n/usr/lib64/python3.4/site-packages/sklearn/externals/joblib/parallel.py in <listcomp>(.0=<list_iterator object>)\n    126     def __init__(self, iterator_slice):\n    127         self.items = list(iterator_slice)\n    128         self._size = len(self.items)\n    129 \n    130     def __call__(self):\n--> 131         return [func(*args, **kwargs) for func, args, kwargs in self.items]\n        func = <function _fit_and_score>\n        args = (Pipeline(steps=[('vect', CountVectorizer(analyze...None,\n            verbose=0, warm_start=False))]), array([['What is the step by step guide to inves...       ['How do I make friends.']], dtype=object), [0, 0, 0, 0, 0, 1, 0, 1, 0, 0, 0, 1, 1, 1, 0, 1, 1, 0, 1, 0, ...], <function _passthrough_scorer>, array([15, 16, 18, 20, 21, 22, 23, 24, 25, 26, 2... 38, 39, 40, 41, 42, 43, 44, 45, 46, 47, 48, 49]), array([ 0,  1,  2,  3,  4,  5,  6,  7,  8,  9, 10, 11, 12, 13, 14, 17, 19]), 1, {'tfidf__use_idf': True})\n        kwargs = {'error_score': 'raise', 'fit_params': {}, 'return_n_test_samples': True, 'return_parameters': True, 'return_times': True, 'return_train_score': True}\n    132 \n    133     def __len__(self):\n    134         return self._size\n    135 \n\n...........................................................................\n/usr/lib64/python3.4/site-packages/sklearn/model_selection/_validation.py in _fit_and_score(estimator=Pipeline(steps=[('vect', CountVectorizer(analyze...None,\n            verbose=0, warm_start=False))]), X=array([['What is the step by step guide to inves...       ['How do I make friends.']], dtype=object), y=[0, 0, 0, 0, 0, 1, 0, 1, 0, 0, 0, 1, 1, 1, 0, 1, 1, 0, 1, 0, ...], scorer=<function _passthrough_scorer>, train=array([15, 16, 18, 20, 21, 22, 23, 24, 25, 26, 2... 38, 39, 40, 41, 42, 43, 44, 45, 46, 47, 48, 49]), test=array([ 0,  1,  2,  3,  4,  5,  6,  7,  8,  9, 10, 11, 12, 13, 14, 17, 19]), verbose=1, parameters={'tfidf__use_idf': True}, fit_params={}, return_train_score=True, return_parameters=True, return_n_test_samples=True, return_times=True, error_score='raise')\n    233 \n    234     try:\n    235         if y_train is None:\n    236             estimator.fit(X_train, **fit_params)\n    237         else:\n--> 238             estimator.fit(X_train, y_train, **fit_params)\n        estimator.fit = <bound method Pipeline.fit of Pipeline(steps=[('...one,\n            verbose=0, warm_start=False))])>\n        X_train = array([[ 'What would a Trump presidency mean for...       ['How do I make friends.']], dtype=object)\n        y_train = [1, 1, 1, 1, 0, 0, 0, 0, 0, 0, 0, 0, 1, 0, 1, 1, 0, 0, 0, 0, ...]\n        fit_params = {}\n    239 \n    240     except Exception as e:\n    241         # Note fit time as time until error\n    242         fit_time = time.time() - start_time\n\n...........................................................................\n/usr/lib64/python3.4/site-packages/sklearn/pipeline.py in fit(self=Pipeline(steps=[('vect', CountVectorizer(analyze...None,\n            verbose=0, warm_start=False))]), X=array([[ 'What would a Trump presidency mean for...       ['How do I make friends.']], dtype=object), y=[1, 1, 1, 1, 0, 0, 0, 0, 0, 0, 0, 0, 1, 0, 1, 1, 0, 0, 0, 0, ...], **fit_params={})\n    263         Returns\n    264         -------\n    265         self : Pipeline\n    266             This estimator\n    267         \"\"\"\n--> 268         Xt, fit_params = self._fit(X, y, **fit_params)\n        Xt = undefined\n        fit_params = {}\n        self._fit = <bound method Pipeline._fit of Pipeline(steps=[(...one,\n            verbose=0, warm_start=False))])>\n        X = array([[ 'What would a Trump presidency mean for...       ['How do I make friends.']], dtype=object)\n        y = [1, 1, 1, 1, 0, 0, 0, 0, 0, 0, 0, 0, 1, 0, 1, 1, 0, 0, 0, 0, ...]\n    269         if self._final_estimator is not None:\n    270             self._final_estimator.fit(Xt, y, **fit_params)\n    271         return self\n    272 \n\n...........................................................................\n/usr/lib64/python3.4/site-packages/sklearn/pipeline.py in _fit(self=Pipeline(steps=[('vect', CountVectorizer(analyze...None,\n            verbose=0, warm_start=False))]), X=array([[ 'What would a Trump presidency mean for...       ['How do I make friends.']], dtype=object), y=[1, 1, 1, 1, 0, 0, 0, 0, 0, 0, 0, 0, 1, 0, 1, 1, 0, 0, 0, 0, ...], **fit_params={})\n    229         Xt = X\n    230         for name, transform in self.steps[:-1]:\n    231             if transform is None:\n    232                 pass\n    233             elif hasattr(transform, \"fit_transform\"):\n--> 234                 Xt = transform.fit_transform(Xt, y, **fit_params_steps[name])\n        Xt = array([[ 'What would a Trump presidency mean for...       ['How do I make friends.']], dtype=object)\n        transform.fit_transform = <bound method CountVectorizer.fit_transform of C...w+\\\\b',\n        tokenizer=None, vocabulary=None)>\n        y = [1, 1, 1, 1, 0, 0, 0, 0, 0, 0, 0, 0, 1, 0, 1, 1, 0, 0, 0, 0, ...]\n        fit_params_steps = {'clf': {}, 'tfidf': {}, 'vect': {}}\n        name = 'vect'\n    235             else:\n    236                 Xt = transform.fit(Xt, y, **fit_params_steps[name]) \\\n    237                               .transform(Xt)\n    238         if self._final_estimator is None:\n\n...........................................................................\n/usr/lib64/python3.4/site-packages/sklearn/feature_extraction/text.py in fit_transform(self=CountVectorizer(analyzer='word', binary=False, d...\\w+\\\\b',\n        tokenizer=None, vocabulary=None), raw_documents=array([[ 'What would a Trump presidency mean for...       ['How do I make friends.']], dtype=object), y=[1, 1, 1, 1, 0, 0, 0, 0, 0, 0, 0, 0, 1, 0, 1, 1, 0, 0, 0, 0, ...])\n    819         max_df = self.max_df\n    820         min_df = self.min_df\n    821         max_features = self.max_features\n    822 \n    823         vocabulary, X = self._count_vocab(raw_documents,\n--> 824                                           self.fixed_vocabulary_)\n        self.fixed_vocabulary_ = False\n    825 \n    826         if self.binary:\n    827             X.data.fill(1)\n    828 \n\n...........................................................................\n/usr/lib64/python3.4/site-packages/sklearn/feature_extraction/text.py in _count_vocab(self=CountVectorizer(analyzer='word', binary=False, d...\\w+\\\\b',\n        tokenizer=None, vocabulary=None), raw_documents=array([[ 'What would a Trump presidency mean for...       ['How do I make friends.']], dtype=object), fixed_vocab=False)\n    747         indptr = _make_int_array()\n    748         values = _make_int_array()\n    749         indptr.append(0)\n    750         for doc in raw_documents:\n    751             feature_counter = {}\n--> 752             for feature in analyze(doc):\n        feature = undefined\n        analyze = <function VectorizerMixin.build_analyzer.<locals>.<lambda>>\n        doc = array([ 'What would a Trump presidency mean for ...master’s students on an F1 visa?'], dtype=object)\n    753                 try:\n    754                     feature_idx = vocabulary[feature]\n    755                     if feature_idx not in feature_counter:\n    756                         feature_counter[feature_idx] = 1\n\n...........................................................................\n/usr/lib64/python3.4/site-packages/sklearn/feature_extraction/text.py in <lambda>(doc=array([ 'What would a Trump presidency mean for ...master’s students on an F1 visa?'], dtype=object))\n    236         elif self.analyzer == 'word':\n    237             stop_words = self.get_stop_words()\n    238             tokenize = self.build_tokenizer()\n    239 \n    240             return lambda doc: self._word_ngrams(\n--> 241                 tokenize(preprocess(self.decode(doc))), stop_words)\n        doc = array([ 'What would a Trump presidency mean for ...master’s students on an F1 visa?'], dtype=object)\n    242 \n    243         else:\n    244             raise ValueError('%s is not a valid tokenization scheme/analyzer' %\n    245                              self.analyzer)\n\n...........................................................................\n/usr/lib64/python3.4/site-packages/sklearn/feature_extraction/text.py in <lambda>(x=array([ 'What would a Trump presidency mean for ...master’s students on an F1 visa?'], dtype=object))\n    202         else:\n    203             raise ValueError('Invalid value for \"strip_accents\": %s' %\n    204                              self.strip_accents)\n    205 \n    206         if self.lowercase:\n--> 207             return lambda x: strip_accents(x.lower())\n        x = array([ 'What would a Trump presidency mean for ...master’s students on an F1 visa?'], dtype=object)\n        x.lower = undefined\n    208         else:\n    209             return strip_accents\n    210 \n    211     def build_tokenizer(self):\n\nAttributeError: 'numpy.ndarray' object has no attribute 'lower'\n___________________________________________________________________________"
     ]
    }
   ],
   "source": [
    "grid_search.fit(features.values, labels)"
   ]
  },
  {
   "cell_type": "code",
   "execution_count": 115,
   "metadata": {},
   "outputs": [
    {
     "data": {
      "text/html": [
       "<div>\n",
       "<table border=\"1\" class=\"dataframe\">\n",
       "  <thead>\n",
       "    <tr style=\"text-align: right;\">\n",
       "      <th></th>\n",
       "      <th>question1</th>\n",
       "      <th>question2</th>\n",
       "    </tr>\n",
       "  </thead>\n",
       "  <tbody>\n",
       "    <tr>\n",
       "      <th>0</th>\n",
       "      <td>What is the step by step guide to invest in sh...</td>\n",
       "      <td>What is the step by step guide to invest in sh...</td>\n",
       "    </tr>\n",
       "    <tr>\n",
       "      <th>1</th>\n",
       "      <td>What is the story of Kohinoor (Koh-i-Noor) Dia...</td>\n",
       "      <td>What would happen if the Indian government sto...</td>\n",
       "    </tr>\n",
       "    <tr>\n",
       "      <th>2</th>\n",
       "      <td>How can I increase the speed of my internet co...</td>\n",
       "      <td>How can Internet speed be increased by hacking...</td>\n",
       "    </tr>\n",
       "    <tr>\n",
       "      <th>3</th>\n",
       "      <td>Why am I mentally very lonely? How can I solve...</td>\n",
       "      <td>Find the remainder when [math]23^{24}[/math] i...</td>\n",
       "    </tr>\n",
       "    <tr>\n",
       "      <th>4</th>\n",
       "      <td>Which one dissolve in water quikly sugar, salt...</td>\n",
       "      <td>Which fish would survive in salt water?</td>\n",
       "    </tr>\n",
       "    <tr>\n",
       "      <th>5</th>\n",
       "      <td>Astrology: I am a Capricorn Sun Cap moon and c...</td>\n",
       "      <td>I'm a triple Capricorn (Sun, Moon and ascendan...</td>\n",
       "    </tr>\n",
       "    <tr>\n",
       "      <th>6</th>\n",
       "      <td>Should I buy tiago?</td>\n",
       "      <td>What keeps childern active and far from phone ...</td>\n",
       "    </tr>\n",
       "    <tr>\n",
       "      <th>7</th>\n",
       "      <td>How can I be a good geologist?</td>\n",
       "      <td>What should I do to be a great geologist?</td>\n",
       "    </tr>\n",
       "    <tr>\n",
       "      <th>8</th>\n",
       "      <td>When do you use シ instead of し?</td>\n",
       "      <td>When do you use \"&amp;\" instead of \"and\"?</td>\n",
       "    </tr>\n",
       "    <tr>\n",
       "      <th>9</th>\n",
       "      <td>Motorola (company): Can I hack my Charter Moto...</td>\n",
       "      <td>How do I hack Motorola DCX3400 for free internet?</td>\n",
       "    </tr>\n",
       "    <tr>\n",
       "      <th>10</th>\n",
       "      <td>Method to find separation of slits using fresn...</td>\n",
       "      <td>What are some of the things technicians can te...</td>\n",
       "    </tr>\n",
       "    <tr>\n",
       "      <th>11</th>\n",
       "      <td>How do I read and find my YouTube comments?</td>\n",
       "      <td>How can I see all my Youtube comments?</td>\n",
       "    </tr>\n",
       "    <tr>\n",
       "      <th>12</th>\n",
       "      <td>What can make Physics easy to learn?</td>\n",
       "      <td>How can you make physics easy to learn?</td>\n",
       "    </tr>\n",
       "    <tr>\n",
       "      <th>13</th>\n",
       "      <td>What was your first sexual experience like?</td>\n",
       "      <td>What was your first sexual experience?</td>\n",
       "    </tr>\n",
       "    <tr>\n",
       "      <th>14</th>\n",
       "      <td>What are the laws to change your status from a...</td>\n",
       "      <td>What are the laws to change your status from a...</td>\n",
       "    </tr>\n",
       "    <tr>\n",
       "      <th>15</th>\n",
       "      <td>What would a Trump presidency mean for current...</td>\n",
       "      <td>How will a Trump presidency affect the student...</td>\n",
       "    </tr>\n",
       "    <tr>\n",
       "      <th>16</th>\n",
       "      <td>What does manipulation mean?</td>\n",
       "      <td>What does manipulation means?</td>\n",
       "    </tr>\n",
       "    <tr>\n",
       "      <th>17</th>\n",
       "      <td>Why do girls want to be friends with the guy t...</td>\n",
       "      <td>How do guys feel after rejecting a girl?</td>\n",
       "    </tr>\n",
       "    <tr>\n",
       "      <th>18</th>\n",
       "      <td>Why are so many Quora users posting questions ...</td>\n",
       "      <td>Why do people ask Quora questions which can be...</td>\n",
       "    </tr>\n",
       "    <tr>\n",
       "      <th>19</th>\n",
       "      <td>Which is the best digital marketing institutio...</td>\n",
       "      <td>Which is the best digital marketing institute ...</td>\n",
       "    </tr>\n",
       "    <tr>\n",
       "      <th>20</th>\n",
       "      <td>Why do rockets look white?</td>\n",
       "      <td>Why are rockets and boosters painted white?</td>\n",
       "    </tr>\n",
       "    <tr>\n",
       "      <th>21</th>\n",
       "      <td>What's causing someone to be jealous?</td>\n",
       "      <td>What can I do to avoid being jealous of someone?</td>\n",
       "    </tr>\n",
       "    <tr>\n",
       "      <th>22</th>\n",
       "      <td>What are the questions should not ask on Quora?</td>\n",
       "      <td>Which question should I ask on Quora?</td>\n",
       "    </tr>\n",
       "    <tr>\n",
       "      <th>23</th>\n",
       "      <td>How much is 30 kV in HP?</td>\n",
       "      <td>Where can I find a conversion chart for CC to ...</td>\n",
       "    </tr>\n",
       "    <tr>\n",
       "      <th>24</th>\n",
       "      <td>What does it mean that every time I look at th...</td>\n",
       "      <td>How many times a day do a clock’s hands overlap?</td>\n",
       "    </tr>\n",
       "    <tr>\n",
       "      <th>25</th>\n",
       "      <td>What are some tips on making it through the jo...</td>\n",
       "      <td>What are some tips on making it through the jo...</td>\n",
       "    </tr>\n",
       "    <tr>\n",
       "      <th>26</th>\n",
       "      <td>What is web application?</td>\n",
       "      <td>What is the web application framework?</td>\n",
       "    </tr>\n",
       "    <tr>\n",
       "      <th>27</th>\n",
       "      <td>Does society place too much importance on sports?</td>\n",
       "      <td>How do sports contribute to the society?</td>\n",
       "    </tr>\n",
       "    <tr>\n",
       "      <th>28</th>\n",
       "      <td>What is best way to make money online?</td>\n",
       "      <td>What is best way to ask for money online?</td>\n",
       "    </tr>\n",
       "    <tr>\n",
       "      <th>29</th>\n",
       "      <td>How should I prepare for CA final law?</td>\n",
       "      <td>How one should know that he/she completely pre...</td>\n",
       "    </tr>\n",
       "    <tr>\n",
       "      <th>30</th>\n",
       "      <td>What's one thing you would like to do better?</td>\n",
       "      <td>What's one thing you do despite knowing better?</td>\n",
       "    </tr>\n",
       "    <tr>\n",
       "      <th>31</th>\n",
       "      <td>What are some special cares for someone with a...</td>\n",
       "      <td>How can I keep my nose from getting stuffy at ...</td>\n",
       "    </tr>\n",
       "    <tr>\n",
       "      <th>32</th>\n",
       "      <td>What Game of Thrones villain would be the most...</td>\n",
       "      <td>What Game of Thrones villain would you most li...</td>\n",
       "    </tr>\n",
       "    <tr>\n",
       "      <th>33</th>\n",
       "      <td>Does the United States government still blackl...</td>\n",
       "      <td>How is the average speed of gas molecules dete...</td>\n",
       "    </tr>\n",
       "    <tr>\n",
       "      <th>34</th>\n",
       "      <td>What is the best travel website in spain?</td>\n",
       "      <td>What is the best travel website?</td>\n",
       "    </tr>\n",
       "    <tr>\n",
       "      <th>35</th>\n",
       "      <td>Why do some people think Obama will try to tak...</td>\n",
       "      <td>Has there been a gun control initiative to tak...</td>\n",
       "    </tr>\n",
       "    <tr>\n",
       "      <th>36</th>\n",
       "      <td>I'm a 19-year-old. How can I improve my skills...</td>\n",
       "      <td>I am a 19 year old guy. How can I become a bil...</td>\n",
       "    </tr>\n",
       "    <tr>\n",
       "      <th>37</th>\n",
       "      <td>When a girlfriend asks her boyfriend \"Why did ...</td>\n",
       "      <td>My girlfriend said that we should end this bec...</td>\n",
       "    </tr>\n",
       "    <tr>\n",
       "      <th>38</th>\n",
       "      <td>How do we prepare for UPSC?</td>\n",
       "      <td>How do I prepare for civil service?</td>\n",
       "    </tr>\n",
       "    <tr>\n",
       "      <th>39</th>\n",
       "      <td>What is the stall speed and AOA of an f-14 wit...</td>\n",
       "      <td>Why did aircraft stop using variable-sweep win...</td>\n",
       "    </tr>\n",
       "    <tr>\n",
       "      <th>40</th>\n",
       "      <td>Why do Slavs squat?</td>\n",
       "      <td>Will squats make my legs thicker?</td>\n",
       "    </tr>\n",
       "    <tr>\n",
       "      <th>41</th>\n",
       "      <td>When can I expect my Cognizant confirmation mail?</td>\n",
       "      <td>When can I expect Cognizant confirmation mail?</td>\n",
       "    </tr>\n",
       "    <tr>\n",
       "      <th>42</th>\n",
       "      <td>Can I make 50,000 a month by day trading?</td>\n",
       "      <td>Can I make 30,000 a month by day trading?</td>\n",
       "    </tr>\n",
       "    <tr>\n",
       "      <th>43</th>\n",
       "      <td>Is being a good kid and not being a rebel wort...</td>\n",
       "      <td>Is being bored good for a kid?</td>\n",
       "    </tr>\n",
       "    <tr>\n",
       "      <th>44</th>\n",
       "      <td>What universities does Rexnord recruit new gra...</td>\n",
       "      <td>What universities does B&amp;G Foods recruit new g...</td>\n",
       "    </tr>\n",
       "    <tr>\n",
       "      <th>45</th>\n",
       "      <td>What is the quickest way to increase Instagram...</td>\n",
       "      <td>How can we increase our number of Instagram fo...</td>\n",
       "    </tr>\n",
       "    <tr>\n",
       "      <th>46</th>\n",
       "      <td>How did Darth Vader fought Darth Maul in Star ...</td>\n",
       "      <td>Does Quora have a character limit for profile ...</td>\n",
       "    </tr>\n",
       "    <tr>\n",
       "      <th>47</th>\n",
       "      <td>What are the stages of breaking up between cou...</td>\n",
       "      <td>Who is affected more by a breakup, the boy or ...</td>\n",
       "    </tr>\n",
       "    <tr>\n",
       "      <th>48</th>\n",
       "      <td>What are some examples of products that can be...</td>\n",
       "      <td>What are some of the products made from crude ...</td>\n",
       "    </tr>\n",
       "    <tr>\n",
       "      <th>49</th>\n",
       "      <td>How do I make friends.</td>\n",
       "      <td>How to make friends ?</td>\n",
       "    </tr>\n",
       "  </tbody>\n",
       "</table>\n",
       "</div>"
      ],
      "text/plain": [
       "                                            question1  \\\n",
       "0   What is the step by step guide to invest in sh...   \n",
       "1   What is the story of Kohinoor (Koh-i-Noor) Dia...   \n",
       "2   How can I increase the speed of my internet co...   \n",
       "3   Why am I mentally very lonely? How can I solve...   \n",
       "4   Which one dissolve in water quikly sugar, salt...   \n",
       "5   Astrology: I am a Capricorn Sun Cap moon and c...   \n",
       "6                                 Should I buy tiago?   \n",
       "7                      How can I be a good geologist?   \n",
       "8                     When do you use シ instead of し?   \n",
       "9   Motorola (company): Can I hack my Charter Moto...   \n",
       "10  Method to find separation of slits using fresn...   \n",
       "11        How do I read and find my YouTube comments?   \n",
       "12               What can make Physics easy to learn?   \n",
       "13        What was your first sexual experience like?   \n",
       "14  What are the laws to change your status from a...   \n",
       "15  What would a Trump presidency mean for current...   \n",
       "16                       What does manipulation mean?   \n",
       "17  Why do girls want to be friends with the guy t...   \n",
       "18  Why are so many Quora users posting questions ...   \n",
       "19  Which is the best digital marketing institutio...   \n",
       "20                         Why do rockets look white?   \n",
       "21              What's causing someone to be jealous?   \n",
       "22    What are the questions should not ask on Quora?   \n",
       "23                           How much is 30 kV in HP?   \n",
       "24  What does it mean that every time I look at th...   \n",
       "25  What are some tips on making it through the jo...   \n",
       "26                           What is web application?   \n",
       "27  Does society place too much importance on sports?   \n",
       "28             What is best way to make money online?   \n",
       "29             How should I prepare for CA final law?   \n",
       "30      What's one thing you would like to do better?   \n",
       "31  What are some special cares for someone with a...   \n",
       "32  What Game of Thrones villain would be the most...   \n",
       "33  Does the United States government still blackl...   \n",
       "34          What is the best travel website in spain?   \n",
       "35  Why do some people think Obama will try to tak...   \n",
       "36  I'm a 19-year-old. How can I improve my skills...   \n",
       "37  When a girlfriend asks her boyfriend \"Why did ...   \n",
       "38                        How do we prepare for UPSC?   \n",
       "39  What is the stall speed and AOA of an f-14 wit...   \n",
       "40                                Why do Slavs squat?   \n",
       "41  When can I expect my Cognizant confirmation mail?   \n",
       "42          Can I make 50,000 a month by day trading?   \n",
       "43  Is being a good kid and not being a rebel wort...   \n",
       "44  What universities does Rexnord recruit new gra...   \n",
       "45  What is the quickest way to increase Instagram...   \n",
       "46  How did Darth Vader fought Darth Maul in Star ...   \n",
       "47  What are the stages of breaking up between cou...   \n",
       "48  What are some examples of products that can be...   \n",
       "49                             How do I make friends.   \n",
       "\n",
       "                                            question2  \n",
       "0   What is the step by step guide to invest in sh...  \n",
       "1   What would happen if the Indian government sto...  \n",
       "2   How can Internet speed be increased by hacking...  \n",
       "3   Find the remainder when [math]23^{24}[/math] i...  \n",
       "4             Which fish would survive in salt water?  \n",
       "5   I'm a triple Capricorn (Sun, Moon and ascendan...  \n",
       "6   What keeps childern active and far from phone ...  \n",
       "7           What should I do to be a great geologist?  \n",
       "8               When do you use \"&\" instead of \"and\"?  \n",
       "9   How do I hack Motorola DCX3400 for free internet?  \n",
       "10  What are some of the things technicians can te...  \n",
       "11             How can I see all my Youtube comments?  \n",
       "12            How can you make physics easy to learn?  \n",
       "13             What was your first sexual experience?  \n",
       "14  What are the laws to change your status from a...  \n",
       "15  How will a Trump presidency affect the student...  \n",
       "16                      What does manipulation means?  \n",
       "17           How do guys feel after rejecting a girl?  \n",
       "18  Why do people ask Quora questions which can be...  \n",
       "19  Which is the best digital marketing institute ...  \n",
       "20        Why are rockets and boosters painted white?  \n",
       "21   What can I do to avoid being jealous of someone?  \n",
       "22              Which question should I ask on Quora?  \n",
       "23  Where can I find a conversion chart for CC to ...  \n",
       "24   How many times a day do a clock’s hands overlap?  \n",
       "25  What are some tips on making it through the jo...  \n",
       "26             What is the web application framework?  \n",
       "27           How do sports contribute to the society?  \n",
       "28          What is best way to ask for money online?  \n",
       "29  How one should know that he/she completely pre...  \n",
       "30    What's one thing you do despite knowing better?  \n",
       "31  How can I keep my nose from getting stuffy at ...  \n",
       "32  What Game of Thrones villain would you most li...  \n",
       "33  How is the average speed of gas molecules dete...  \n",
       "34                   What is the best travel website?  \n",
       "35  Has there been a gun control initiative to tak...  \n",
       "36  I am a 19 year old guy. How can I become a bil...  \n",
       "37  My girlfriend said that we should end this bec...  \n",
       "38                How do I prepare for civil service?  \n",
       "39  Why did aircraft stop using variable-sweep win...  \n",
       "40                  Will squats make my legs thicker?  \n",
       "41     When can I expect Cognizant confirmation mail?  \n",
       "42          Can I make 30,000 a month by day trading?  \n",
       "43                     Is being bored good for a kid?  \n",
       "44  What universities does B&G Foods recruit new g...  \n",
       "45  How can we increase our number of Instagram fo...  \n",
       "46  Does Quora have a character limit for profile ...  \n",
       "47  Who is affected more by a breakup, the boy or ...  \n",
       "48  What are some of the products made from crude ...  \n",
       "49                              How to make friends ?  "
      ]
     },
     "execution_count": 115,
     "metadata": {},
     "output_type": "execute_result"
    }
   ],
   "source": [
    "features"
   ]
  },
  {
   "cell_type": "code",
   "execution_count": null,
   "metadata": {
    "collapsed": true
   },
   "outputs": [],
   "source": []
  }
 ],
 "metadata": {
  "kernelspec": {
   "display_name": "Python 3",
   "language": "python",
   "name": "python3"
  },
  "language_info": {
   "codemirror_mode": {
    "name": "ipython",
    "version": 3
   },
   "file_extension": ".py",
   "mimetype": "text/x-python",
   "name": "python",
   "nbconvert_exporter": "python",
   "pygments_lexer": "ipython3",
   "version": "3.4.5"
  }
 },
 "nbformat": 4,
 "nbformat_minor": 2
}
